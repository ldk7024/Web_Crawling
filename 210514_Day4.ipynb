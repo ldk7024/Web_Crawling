{
 "cells": [
  {
   "cell_type": "code",
   "execution_count": 5,
   "metadata": {},
   "outputs": [],
   "source": [
    "import numpy as np\n",
    "import pandas as pd\n",
    "import matplotlib.pyplot as plt\n",
    "import requests as req\n",
    "from bs4 import BeautifulSoup as bs\n",
    "from selenium import webdriver as wb\n",
    "from selenium.webdriver.common.keys import Keys\n",
    "import time \n",
    "h = {\"User-Agent\": \"Mozilla/5.0 (Windows NT 10.0; Win64; x64) AppleWebKit/537.36 (KHTML, like Gecko) Chrome/83.0.4103.116 Safari/537.36\"}"
   ]
  },
  {
   "cell_type": "markdown",
   "metadata": {},
   "source": [
    "## 이미지크롤링"
   ]
  },
  {
   "cell_type": "code",
   "execution_count": 6,
   "metadata": {},
   "outputs": [],
   "source": [
    "import os # 파일시스템을 위한 라이브러리 \n",
    "           # ex) 파일, 폴더를 생성, 삭제, 존재여부 파악"
   ]
  },
  {
   "cell_type": "code",
   "execution_count": 7,
   "metadata": {},
   "outputs": [],
   "source": [
    "from urllib.request import urlretrieve # 이미지경로를 파일로 저장"
   ]
  },
  {
   "cell_type": "markdown",
   "metadata": {},
   "source": [
    "### 폴더 생성"
   ]
  },
  {
   "cell_type": "code",
   "execution_count": 42,
   "metadata": {},
   "outputs": [],
   "source": [
    "if not os.path.isdir('./이미지'):\n",
    "    os.mkdir('./이미지')\n",
    "    print('폴더생성')"
   ]
  },
  {
   "cell_type": "code",
   "execution_count": 66,
   "metadata": {},
   "outputs": [],
   "source": [
    "driver = wb.Chrome()\n",
    "url =\"https://search.naver.com/search.naver?where=image&sm=tab_jum&query=%EA%B5%AD%EB%B0%A5#imgId=image_sas%3Ablog135385465%7C1%7C222277382631_1199370954\"\n",
    "driver.get(url)"
   ]
  },
  {
   "cell_type": "code",
   "execution_count": 67,
   "metadata": {},
   "outputs": [],
   "source": [
    "soup = bs(driver.page_source, 'lxml')"
   ]
  },
  {
   "cell_type": "code",
   "execution_count": 68,
   "metadata": {},
   "outputs": [],
   "source": [
    "img_src = soup.select('img._image')"
   ]
  },
  {
   "cell_type": "code",
   "execution_count": 69,
   "metadata": {},
   "outputs": [
    {
     "data": {
      "text/plain": [
       "534"
      ]
     },
     "execution_count": 69,
     "metadata": {},
     "output_type": "execute_result"
    }
   ],
   "source": [
    "len(img_src)"
   ]
  },
  {
   "cell_type": "code",
   "execution_count": 70,
   "metadata": {},
   "outputs": [],
   "source": [
    "img_list= []\n",
    "\n",
    "for i in img_src:\n",
    "    img_list.append(i['src'])\n"
   ]
  },
  {
   "cell_type": "code",
   "execution_count": 71,
   "metadata": {},
   "outputs": [
    {
     "data": {
      "text/plain": [
       "'https://search.pstatic.net/common/?src=http%3A%2F%2Fblogfiles.naver.net%2FMjAyMTAzMTZfMTYx%2FMDAxNjE1ODc4MDIyODcw.wY4aBU-N7w4VRoWRfW55LmvNa2zEmccspoWslZ1Rt9Ug.MGE0vrpwjNSD8rWad0SfvDrKngm2_5z7xeL6IjvVjcIg.JPEG.nestblue0315%2FKakaoTalk_20210303_223813775_01.jpg&type=a340'"
      ]
     },
     "execution_count": 71,
     "metadata": {},
     "output_type": "execute_result"
    }
   ],
   "source": [
    "img_src[0]['src']"
   ]
  },
  {
   "cell_type": "code",
   "execution_count": 72,
   "metadata": {},
   "outputs": [
    {
     "data": {
      "text/plain": [
       "['https://search.pstatic.net/common/?src=http%3A%2F%2Fblogfiles.naver.net%2FMjAyMTAzMTZfMTYx%2FMDAxNjE1ODc4MDIyODcw.wY4aBU-N7w4VRoWRfW55LmvNa2zEmccspoWslZ1Rt9Ug.MGE0vrpwjNSD8rWad0SfvDrKngm2_5z7xeL6IjvVjcIg.JPEG.nestblue0315%2FKakaoTalk_20210303_223813775_01.jpg&type=a340',\n",
       " 'https://search.pstatic.net/common/?src=http%3A%2F%2Fblogfiles.naver.net%2FMjAyMTA0MjBfMTc2%2FMDAxNjE4OTA3MzY1NDgx.4KoihYQhqlJ5UpXH-t4rGjEj1HkvPNQzX8Nb38vvu1sg.2eKt_mR_Bb83JmAlumeox2XjUozwSfirdj1V-TDuWiYg.JPEG.cjdalsrka%2FF3CDEF13-BF4A-43A6-A3FD-9E6F7AD27E9D.jpg&type=a340',\n",
       " 'https://search.pstatic.net/common/?src=http%3A%2F%2Fblogfiles.naver.net%2FMjAyMTAzMzFfMzcg%2FMDAxNjE3MTU1MTc2Nzcx.8OJ3LVF9O2QhvNlfutoJtnxsFH0cSTtkTNbcQB-AV9og.NQ0qSe4MoNQb_1qcCYUahikTuupiiIv7rp13yAm9nlQg.JPEG.alwjd7712%2FKakaoTalk_20210331_100415854_02.jpg&type=a340',\n",
       " 'https://search.pstatic.net/common/?src=http%3A%2F%2Fblogfiles.naver.net%2FMjAyMTAzMjJfMjAz%2FMDAxNjE2Mzg1OTM3MDEw.TXc6kxxgmPMCHy0TSoVwoa77RTBdXnTB-wIcrLbb1I0g.yjmib_GFaX_S_2pejFB7CfoSaqE2a-g0cjADMoj52jwg.JPEG.kjpn1913%2FIMG_3658.jpg&type=a340',\n",
       " 'https://search.pstatic.net/common/?src=http%3A%2F%2Fblogfiles.naver.net%2FMjAyMTA0MDhfMzAw%2FMDAxNjE3ODY4MTY5MDkw.Agms97hTP4IHs687fWogaBt9ownifnXk4bGxGWAmDIQg.zLZcIDVSR_-WWEuIQGhRKeoH_OwtIgYhslyheL5D9RMg.JPEG.kcchfh%2FKakaoTalk_20210407_191142951_23.jpg&type=a340',\n",
       " 'https://search.pstatic.net/common/?src=http%3A%2F%2Fblogfiles.naver.net%2FMjAyMTA0MjJfMjM2%2FMDAxNjE5MDQ0NzExNzYx.oFcLYvlEJUUV5ic3xIZd6TCXE6MnoqizXwLI07b-SoIg.NKDHJL7sMtilQdhHnt0NfvIdIFrJCOWrMgxYMP3rlLEg.JPEG.hellonomi326%2FIMG_3731.jpg&type=a340',\n",
       " 'https://search.pstatic.net/common/?src=http%3A%2F%2Fblogfiles.naver.net%2FMjAyMTAzMDVfMTI5%2FMDAxNjE0OTI5NDA0NzQ5.EPIvgXT69ekvTzcMuS9ZzA4ncw7f7PoLkYqOi5p5EsUg.4z0R68wZs0JoKeR8gZmy6dBuuRCDt3P5noKlBIrpvAAg.JPEG.sooooojing%2F1614929099799.jpg&type=a340',\n",
       " 'https://search.pstatic.net/common/?src=http%3A%2F%2Fblogfiles.naver.net%2FMjAyMTAzMjRfMjM2%2FMDAxNjE2NTY5NTUwMDE3.Wv1V8JBAgufCIUcY04sa88XfOXxJzLRt8lub3NLdOC4g.q9jIsw4Kz3aqy-cqlaozY70fy_Enye-Y3qKvq6fQnY0g.JPEG.6_7ku%2FP20210323_175742384_94A91431-E933-4C0D-B6E2-1EDF0019EE78.JPEG&type=a340',\n",
       " 'https://search.pstatic.net/common/?src=http%3A%2F%2Fblogfiles.naver.net%2FMjAyMTAzMTlfNzQg%2FMDAxNjE2MTMwMDY3MDQ4.BQqndzVRQCkQxAjDyuoVEmA_SH-URfad9Qb4W4AsUqUg.DsUitojaVfgkZPi-tEO5-JrVI5kmMFTH2Eh3ZECzALgg.JPEG.joonni4674%2F20210228_142501.jpg&type=a340',\n",
       " 'https://search.pstatic.net/common/?src=http%3A%2F%2Fimage.nmv.naver.net%2Fblog_2021_04_20_1998%2F0c2b26ef-a167-11eb-84e0-505dac8c38f5_01.jpg&type=ofullfill340_600',\n",
       " 'https://search.pstatic.net/common/?src=http%3A%2F%2Fimage.nmv.naver.net%2Fblog_2021_04_24_2378%2F8d41fdff-a4da-11eb-b839-a0369ff95ec0_01.jpg&type=l340_165',\n",
       " 'https://search.pstatic.net/common/?src=http%3A%2F%2Fblogfiles.naver.net%2FMjAyMTA0MjVfMTgz%2FMDAxNjE5MzEyOTE5OTYy.LMg3GYzVcK5BOM7wwY4iQ61m20xdsCj5sJVgrvOLBSMg.24tet8EiPwkJ4ARLmKBsFkhwhOistuKCUZ5LxvTSpnwg.JPEG.semo3434%2F20210423%25A3%25DF162432.jpg&type=a340',\n",
       " 'https://search.pstatic.net/common/?src=http%3A%2F%2Fblogfiles.naver.net%2FMjAyMTAyMTJfMTI5%2FMDAxNjEzMDk3MzAyNjEy.kltpBWw2kFu297zf8FAl5kXbI5Tx9nrRzW6zRFVa7gIg.qJVG1pQBVUmUZ_0j1mKvW_eaB7gkcPR9Ga22T2yJd1og.JPEG.wogus910109%2F20210121%25A3%25DF183340.jpg&type=a340',\n",
       " 'https://search.pstatic.net/common/?src=http%3A%2F%2Fblogfiles.naver.net%2FMjAyMDEwMjRfNzgg%2FMDAxNjAzNTMxMzA2MzIz.PDKvIYOx3AE5V10CYoE6DXofdbYplgXdJqOczqkR6Fog.ZatBFfWnktNVCabHuAbvHkNmn0JZBiYnzENUHAjbmx4g.JPEG.pink5989%2F1603531306721.jpg&type=ofullfill340_600',\n",
       " 'https://search.pstatic.net/common/?src=http%3A%2F%2Fblogfiles.naver.net%2FMjAyMTA0MDVfMzIg%2FMDAxNjE3NjI0ODcxMjQz.724qYjHKY58AOYQ3dD-HlSrhYTG0-7g2BfKRCkN0FEMg.Yd1i-iHD1e7oTExjFlYNQ7QsIk9XsoImetzEyZuPrIIg.JPEG.you-_-%2F20201216%25A3%25DF182148.jpg&type=a340',\n",
       " 'https://search.pstatic.net/common/?src=http%3A%2F%2Fblogfiles.naver.net%2FMjAyMTA0MjZfMTQ2%2FMDAxNjE5NDI2MzQxNDk5.ro4PrQlUw6-yswJVgMuXMEvmgTHmAN0A3DnwiM7LlNYg.w0ducCDyurqnIIvwS1BDhzQEoepG3_YMGl5ybLNEM9sg.JPEG.aa364091%2F20210425_122504.jpg&type=ofullfill340_600',\n",
       " 'https://search.pstatic.net/common/?src=http%3A%2F%2Fblogfiles.naver.net%2FMjAyMTAzMDJfNDUg%2FMDAxNjE0Njg5OTg1Nzg1.X3My5v-58QkP8CujKfVZ1YAV9yQfau_M7VmL6l4i1P0g.bRf_TqVziesKKGPSDImIt90d-otagAyNhAwkv_DSAvkg.JPEG.sibegg%2FIMG_8267.jpg&type=a340',\n",
       " 'https://search.pstatic.net/common/?src=http%3A%2F%2Fblogfiles.naver.net%2FMjAyMTAzMDRfMjMz%2FMDAxNjE0ODExNzQxMjU5.mw1Cjg4FMUEw48YhZB3qjV3Uxl95vROFKsIwl6GHY5sg.pcT1jieELCDkTMAnJJDrceilfKSe8sGvedTNUoQHSZMg.JPEG.ckdejr1000%2F20210302_175223.jpg&type=a340',\n",
       " 'https://search.pstatic.net/common/?src=http%3A%2F%2Fblogfiles.naver.net%2FMjAyMTAxMjZfMTI1%2FMDAxNjExNTk1NzQxODk0.gRiD2HKtfWQfzeTKhAkyVETIS8YXnbIoCAe-JISntpMg.kVBm9xI6AIX4XKhHChq1wRAyvsY_pupvbjKBlQjrxVQg.JPEG.ekwjd1010%2F20201209%25A3%25DF144540.jpg&type=a340',\n",
       " 'https://search.pstatic.net/common/?src=http%3A%2F%2Fblogfiles.naver.net%2FMjAyMTAzMThfMTA4%2FMDAxNjE2MDcyMzM0NTQ0.sWGPaibcTosrIc2-e67ViboZKf5ZrGCqTsP79lnbpSUg.YXgEH4M650rhG735IdnTzq0s8xt8wPCkfdeVq0omgbUg.JPEG.tineas%2Fwork-0795.jpg&type=l340_165',\n",
       " 'https://search.pstatic.net/common/?src=http%3A%2F%2Fblogfiles.naver.net%2FMjAyMTA0MTJfMTcg%2FMDAxNjE4MjE4NjIxMzgy.Jii2s1vM8nRgUV_IJKSk6cl2ZEFsr4cpjFaThzXbQ6Qg.GvqyV9B1NL2txNXbwK2mag9CKLyz_2fVI3VzhSFOxPAg.JPEG.tinabling%2FKakaoTalk_20210310_174600251_20.jpg&type=a340',\n",
       " 'https://search.pstatic.net/common/?src=http%3A%2F%2Fblogfiles.naver.net%2FMjAyMTA0MTVfOTgg%2FMDAxNjE4NDEyNDAxNzY1.4Ksrz7Inq_zmcCM_1U_kQqqYaIAo5xQxIOtmF3BQhNIg.dxSO4bpBEuNz7hhfCy3VziFk523fXOMRZUTGGwjf4h0g.JPEG.imim7274%2Foutput_1134513649.jpg&type=a340',\n",
       " 'https://search.pstatic.net/common/?src=http%3A%2F%2Fblogfiles.naver.net%2FMjAyMDA5MDVfMTY4%2FMDAxNTk5MzEyMzk5NzM1.-O2Y0WchbP6vo6pmcHf4RnsM3bABIkzoRkm2OrHoGOwg.V5n-P5BES9HDSpaFSLwN__wEiTBRGmSWrxHOos1DJasg.JPEG.sonsuhyang%2FKakaoTalk_20200905_221248233_03.jpg&type=a340',\n",
       " 'https://search.pstatic.net/common/?src=http%3A%2F%2Fblogfiles.naver.net%2FMjAyMTAyMjFfNDEg%2FMDAxNjEzODQyNjcxODU3.4nSXBPIZBZ8j8ZkuAcrjhZD0sruSDW28ajdVev6Et9cg.ZpmW2ZgM6mRGawCZJGFPqqGyaguXFqOTdXZLSZVeQZ4g.JPEG.thank_you_today_too%2FIMG_0857.jpg&type=a340',\n",
       " 'https://search.pstatic.net/common/?src=http%3A%2F%2Fblogfiles.naver.net%2FMjAyMTAyMTJfMjgz%2FMDAxNjEzMTMyOTMzOTEw.s1jQPzGOnVZRavGwffFYwetV7k8geqJ179_a9cAca8kg.Z2tFL2pZMvawh44COI1bYn0T7z4YlpCI_NcLql1XNaog.JPEG.algus0659%2FIMG_3396.JPG&type=a340',\n",
       " 'https://search.pstatic.net/common/?src=http%3A%2F%2Fblogfiles.naver.net%2FMjAyMTA0MTJfMyAg%2FMDAxNjE4MjE1NzQ4MzUy.P1a9_hmX9EsKg48qTtUkDkkfpQpQcTZ11PZbgUnQ7LQg.xh6QuP9SjIY0EglRdnvRQgSfkr9jNWbyTT7AhnlDqBEg.JPEG.gnuch3701%2FIMG_6187.jpg&type=a340',\n",
       " 'https://search.pstatic.net/common/?src=http%3A%2F%2Fimage.nmv.naver.net%2Fblog_2021_01_01_602%2Fc090a241-4c2f-11eb-8e44-a0369ff95678_01.jpg&type=ofullfill340_600',\n",
       " 'https://search.pstatic.net/common/?src=http%3A%2F%2Fblogfiles.naver.net%2FMjAyMTAzMjZfMTgy%2FMDAxNjE2NzQyNzQ0OTQ0.e-1Lp4SXTSixEQCk0QSUnbwkgvg6kOkbGKzFeBsYF14g.KU0anB4vLBOxGWXetjXQU2WtgWU1neOFsvTyPGxjN4Ig.JPEG.hani_pee%2Fcats.jpg&type=a340',\n",
       " 'https://search.pstatic.net/common/?src=http%3A%2F%2Fblogfiles.naver.net%2FMjAyMTA0MDRfMjY4%2FMDAxNjE3NTQyMDU1MTQw.oBV4uO5LcccqxDWDErdQIDH1GNj5lbvUhb_7rZOzDFsg.YL0Pwi8UWntwPhxBiRRVrEAMo1nv75B9aE-DWO9zEU0g.JPEG.idiotparrot%2F%25C7%25D8%25BF%25EE%25B4%25EB%25B1%25B9%25B9%25E4-09464.jpg&type=a340',\n",
       " 'https://search.pstatic.net/common/?src=http%3A%2F%2Fblogfiles.naver.net%2FMjAyMTA0MDdfMjIg%2FMDAxNjE3Nzc0MjE4NTk1.vEdN9QOp460-O7MieoAtpW6rDBzXXTOhL7sHzaYZuzMg.iI1cIMmODBm9LrAcu76ipaFMSS-yPGtAYmcBjYG8g9og.JPEG.id_lovekmn%2FIMG_7338.jpg&type=a340',\n",
       " 'https://search.pstatic.net/common/?src=http%3A%2F%2Fblogfiles.naver.net%2FMjAyMTAzMjFfNTIg%2FMDAxNjE2MzAwMTMwNzk4.B1WaN4wWuIK28jAb_vfb5EjjEfufLqlb3sI3avIzxTcg.VptQkzaUCevFK4SeMIgwfe-iLTOlmmydxKHPuPtpM4kg.JPEG.lara7209%2Foutput_1258774117.jpg&type=a340',\n",
       " 'https://search.pstatic.net/common/?src=http%3A%2F%2Fblogfiles.naver.net%2FMjAyMTAyMDVfMjMg%2FMDAxNjEyNDk0Nzg5MjEx.bLawLgw0lgXUPGXIE07tvxVfmlqjb_w6g8wNEfYVGJQg.Xz0LsxamVuwNz-BjGZuXU28Rj5-Wc2cy3rPR17HO_bYg.JPEG.darkaxe01%2F20210130_204315.jpg&type=a340',\n",
       " 'https://search.pstatic.net/common/?src=http%3A%2F%2Fblogfiles.naver.net%2FMjAyMTAxMjFfMTg2%2FMDAxNjExMjM1NjA1MDcz.s3qlrUSuSxxW29Y9TYiVdP5e89nBD3_-WXyuRoXLcwgg.6AwiDfS50oW0UjnoNcVhQcdTFD9ndoTWLpVqCf2ePi0g.JPEG.nell0322%2F1611235604163.jpg&type=a340',\n",
       " 'https://search.pstatic.net/common/?src=http%3A%2F%2Fblogfiles.naver.net%2FMjAyMTAyMDRfNDkg%2FMDAxNjEyNDM3MzcxNzU0._CqQ7-H-UfduxlHUx44RduyMOFTWRjiyxZZPJh_bKlkg.fm9zmYhpiJvdE728uW4g75YCvaUw2Eo1DCnFOlZcjmYg.JPEG.rkdkdmf08%2FIMG_8837.jpg&type=a340',\n",
       " 'https://search.pstatic.net/common/?src=http%3A%2F%2Fblogfiles.naver.net%2FMjAyMTAyMjRfMjYg%2FMDAxNjE0MTQyNTU1NTcx.v9pZj-2lv7jRMc9tA1frrK6ia0K67rSobThHtthrxawg.7jOaqTxH-ptkgkcxhBeKrwQQqWG_Pi-Jr7e0mZTzMkog.JPEG.tjehdek%2F20210224%25A3%25DF111101.jpg&type=a340',\n",
       " 'https://search.pstatic.net/common/?src=http%3A%2F%2Fblogfiles.naver.net%2FMjAyMTAxMDNfMjIx%2FMDAxNjA5NjUxNDMzNDc5.UxDDOJ4Jmtl0e-j7QyqcxYUDMnZ6upgS0n31JzIZL5cg.tTtwYobp1rMCDT6DzBx0L8yeU2vRnICa9X3oCaLlHtkg.JPEG.1cntk%2F1609651229678.jpg&type=a340',\n",
       " 'https://search.pstatic.net/common/?src=http%3A%2F%2Fblogfiles.naver.net%2FMjAyMTAxMjlfMjU3%2FMDAxNjExOTEzNDkwOTY2.V3dN_oWY3MxVs1XDuFFjY2TIG7Y806YG1lKouakJGREg.P3BvcNqkKN4_wfwr_zT4eHZKY2yYXC0XvQkaYit3Tm4g.JPEG.mjwoo1015%2F1611913489466.JPG&type=l340_165',\n",
       " 'https://search.pstatic.net/common/?src=http%3A%2F%2Fblogfiles.naver.net%2FMjAyMTAzMDlfMTI0%2FMDAxNjE1MjY1NjczMzUx.i1tum5kQpN1--iOE0SGjslSTbT-3RiQNq0mAKa2wNiUg.s-NZuQS20tabo6FrD6zGdgxc99B3HN5uAljspTUuM3cg.JPEG.yunn_0617%2Foutput_3865520585.jpg&type=a340',\n",
       " 'https://search.pstatic.net/common/?src=http%3A%2F%2Fblogfiles.naver.net%2FMjAyMTAzMTBfMjMz%2FMDAxNjE1MzU2Nzg3MjAw.V-HMmK68Q_0UwjYbFsJhcGnaZ3RIJ2nyEeimTK-2LVkg.SUBiXLNzvXJSNGRXab98JioblWXoQ4KjybfAQ_q3vEAg.JPEG.yonhyunjun%2FKakaoTalk_Photo_2021-03-07-10-43-18.jpeg&type=a340',\n",
       " 'https://search.pstatic.net/common/?src=http%3A%2F%2Fimage.nmv.naver.net%2Fblog_2021_02_23_2799%2Ffd030069-75b3-11eb-9179-505dac8c35ff_01.jpg&type=a340',\n",
       " 'https://search.pstatic.net/common/?src=http%3A%2F%2Fblogfiles.naver.net%2FMjAyMTAxMzFfMTY0%2FMDAxNjEyMDkzMzEzMjI2.a_EeClgl9zTvq9WsonhIM_QIevGtI-o0rY5vu6dVXP4g.7BIHU5Bc9uF398dWaLbAnsvX_qde4ivdbmThvP0oy0kg.JPEG.hestom87%2F%25BA%25CE%25BB%25EA_%25B1%25AB%25C1%25A4_%25B8%25C0%25C1%25FD_%25C7%25E2%25C3%25CC%25B5%25C5%25C1%25F6%25B1%25B9%25B9%25E47.jpg&type=a340',\n",
       " 'https://search.pstatic.net/common/?src=http%3A%2F%2Fblogfiles.naver.net%2FMjAyMTA0MTZfMjA0%2FMDAxNjE4NTU5MzMzNjI0.KJ7FJ9Fz7mCksL_u31giom1sH2U5XtEyQR5G64D6H9Qg.h24IHYYksqVK30jSXrzJjLgOvFZWRyqwHLCxtUlT6aAg.PNG.jjanggura0%2FKakaoTalk_20210416_161529499_08.png&type=a340',\n",
       " 'https://search.pstatic.net/common/?src=http%3A%2F%2Fblogfiles.naver.net%2FMjAyMDEyMTFfMjU0%2FMDAxNjA3NjgyNDM1MDk1.3dX5Z5_OYFY9XbTVCN9FTfsUu2dOEOMIL6SZIOSZt40g.FDtJDgjuvYVj3e6bOlO4upxHwg56GpaJW7wQBSncqL0g.JPEG.jangchangick%2F20201210%25A3%25DF124713.jpg&type=a340',\n",
       " 'https://search.pstatic.net/common/?src=http%3A%2F%2Fblogfiles.naver.net%2FMjAyMTAzMDNfMTg0%2FMDAxNjE0NzQ2NjQ1NzQ3.W2d2g2Tbv_Iou_7QDiBTBpUzEMW-x7-7XMN4A6bew_Ig.Rqj-yV8I_ZcHUAEEdhZrp9wbGIwoOy30279lwWwhzU8g.JPEG.rokafkshun%2F20210303%25A3%25DF130500.jpg&type=a340',\n",
       " 'https://search.pstatic.net/common/?src=http%3A%2F%2Fblogfiles.naver.net%2FMjAyMTAxMTBfMjc0%2FMDAxNjEwMjY0ODMwNjY5.W8snFnC391K0xvCy3J6BOcknJj8q5Uewc52TAtsD4zkg.Th78_1Yh6r5oZCieNtkSLu6c0Oh6UxxgaJrvyShFazEg.JPEG.ice0ju825%2F20210109%25A3%25DF132453.jpg&type=a340',\n",
       " 'https://search.pstatic.net/common/?src=http%3A%2F%2Fblogfiles.naver.net%2FMjAyMTAyMjVfMTM4%2FMDAxNjE0MjYyMDMzOTYx.yGzKK5nrOxEtCl01x4KveFEZ06FPvKiJL81aOCpOqMwg.E1Kthxbys4_99MHmVt0Xv6gMiV-6cFaQ1tIetjB2fx8g.JPEG.adg3050%2F20210225%25A3%25DF210700.jpg&type=a340',\n",
       " 'https://search.pstatic.net/common/?src=http%3A%2F%2Fblogfiles.naver.net%2FMjAyMTAyMTZfMTIw%2FMDAxNjEzNDc1MzgwMzY0.HXIAlt0e5aM3uCEJuLb0bS__mZ1TTVw5RZjd4qnCk0gg.09lOlYEpZE8FZn-bM2VotlDg43ti-XMQsnPNDVIHh1Ag.JPEG.jjjddjjjdds%2F20210211_113436.jpg&type=a340',\n",
       " 'https://search.pstatic.net/common/?src=http%3A%2F%2Fblogfiles.naver.net%2FMjAyMTAzMTJfMTM5%2FMDAxNjE1NTE4NDYwMjM1.izaDdCEI-Eh1bsX4ujWHEyouNR6N6VCW8JjM8N4BO00g.vqDyOWOXUEotkMa9Zd8dSn9HxqYcPqtAfLn1MZ0yO60g.JPEG.jjasik23%2F20210306%25A3%25DF113627.jpg&type=a340',\n",
       " 'https://search.pstatic.net/common/?src=http%3A%2F%2Fblogfiles.naver.net%2FMjAyMTA0MDNfMjYx%2FMDAxNjE3NDAzNjM1MTk3.OWINyrZ5Mp2eeLPbRhLmpovoFSgeAc5pYzwEa8r1wJEg.qK6UMx__uBw7UIEKeisnnaFaXuyv5t3EJYqsLZ7lZIYg.JPEG.dungxx%2FIMG_9790.jpg&type=a340',\n",
       " 'https://search.pstatic.net/common/?src=http%3A%2F%2Fblogfiles.naver.net%2FMjAyMTAzMjVfNzcg%2FMDAxNjE2NjY5NTMzODE4.YH-k4p2rpcMOa3CHJ3PpKwns4_RCDbOdB7LMZUG5v6wg.5lHMmFmA8ewZPeuCx-AHER17dtBvPJDBABcVDjGukp4g.JPEG.050505yeon%2F5AACEE14-4611-4A07-9F62-23E230FFEFED.jpeg&type=a340',\n",
       " 'https://search.pstatic.net/common/?src=http%3A%2F%2Fimage.nmv.naver.net%2Fblog_2021_04_14_664%2F0b61cd4e-9d08-11eb-8076-246e963a4708_01.jpg&type=a340',\n",
       " 'https://search.pstatic.net/common/?src=http%3A%2F%2Fblogfiles.naver.net%2FMjAyMTAzMDNfMjA5%2FMDAxNjE0NzI3MjY2Mjc5.qLMZNHZiNBHUpSktYdAy94steRo1wxmX9Ax91ZkfJEMg.I7TV_LIBWSr5eaUfZndjPzcbyKMqAoluisZ99df7utsg.JPEG.chltnr2529%2F20210219_145430.jpg&type=a340',\n",
       " 'https://search.pstatic.net/common/?src=http%3A%2F%2Fblogfiles.naver.net%2FMjAyMTAzMzBfMjEy%2FMDAxNjE3MTA0MzM3NDI5.wBF18rX321WHmjubcfBob1F37heV7L2VFKPwkTwEOKEg.VfYVKenlAO1vbt8e69RmlK-sJzHqoU4rxJQSHampxRMg.JPEG.anjunghee424%2FIMG_8820.jpg&type=ofullfill340_600',\n",
       " 'https://search.pstatic.net/common/?src=http%3A%2F%2Fblogfiles.naver.net%2FMjAyMTAxMDlfMTY5%2FMDAxNjEwMTgzNDU1NTM2.Bda3M1PhAzYWAwCUX7MKfu2-NmMvuVE-zeT63_iTXEcg.k2U7J8vPu8ge90RKJhFc_UJjK3khlU7guW6O6GFd2qQg.JPEG.sujeong8142%2FIMG_2759.jpg&type=a340',\n",
       " 'https://search.pstatic.net/common/?src=http%3A%2F%2Fblogfiles.naver.net%2FMjAyMTA0MDFfMzQg%2FMDAxNjE3Mjg2MjQ3MzUz.266d5OFCPzHAPmrNEOdoJKLb6G36RGnRSfRENRmKnpAg.TSGqaajl5fWR09s0CXaHFZ62QW-MRAi1wno38fMF8Vcg.JPEG.kh723%2FIMG_0056.JPG&type=a340',\n",
       " 'https://search.pstatic.net/common/?src=http%3A%2F%2Fimage.nmv.naver.net%2Fblog_2021_03_20_1996%2Ff8e1d130-8980-11eb-a4d6-48df37ae3dc4_01.jpg&type=ofullfill340_600',\n",
       " 'https://search.pstatic.net/common/?src=http%3A%2F%2Fblogfiles.naver.net%2FMjAyMTAzMTRfNTgg%2FMDAxNjE1NjQ5MDIwOTQ1.0qfMCF93NUNuDWQT4xacqh7PeeNjcr6EwsA9gcz2UyEg.N-4auvIKRQ9K0jmh5m-zl36HLKlVk_1D6SOsFGTyF8Mg.JPEG.jundogi%2FIMG_2391.jpg&type=a340',\n",
       " 'https://search.pstatic.net/common/?src=http%3A%2F%2Fblogfiles.naver.net%2FMjAyMTAzMDFfMjYy%2FMDAxNjE0NTI0NTI2MDQz.4l_b_1xrcnw_3yNWXkVarQzgLVdM3uxTqYo7EFkDWtog.t1R9_4J_7mu4xVViFtiY0s_xmmduY71ULdPXV5IR4gwg.JPEG.love9magic%2Foutput_2930053975.jpg&type=a340',\n",
       " 'https://search.pstatic.net/common/?src=http%3A%2F%2Fblogfiles.naver.net%2FMjAyMTAzMTdfMTk0%2FMDAxNjE1OTg0MTUzNjA3.1QENKd64JvrnmLxkqiSJBHMoMqA4osxUhfo37gJr76og.5fm2WmFL_h9cIV1lbh9oqlLamJqxHdxOq_0qBF6Sw3og.JPEG.2046heui%2F1615984124343.jpg&type=a340',\n",
       " 'https://search.pstatic.net/common/?src=http%3A%2F%2Fblogfiles.naver.net%2FMjAyMTAzMTBfOTIg%2FMDAxNjE1MzM2MDY4ODI0.nzJ4wLGvzXEfBQI9HeD3rKXwBMifJGTJP1CCD968x70g.9rOwyR6Jw8WfAVCoCmf9NRVBpfvMP7YrM6EtpJxIdusg.JPEG.djcommerce%2F1_%252847%2529.jpg&type=a340',\n",
       " 'https://search.pstatic.net/common/?src=http%3A%2F%2Fblogfiles.naver.net%2FMjAyMTA0MDNfNTQg%2FMDAxNjE3NDMwNjExNDQ2.dy0y-7AINn_hbp5paLkm3-4pgLD6J4CfmkY4QvytMrwg._wzQAqnqskI_UWYX-Y0RWkyRdi-Ucme0MtjmBXjjE4Mg.JPEG.jiwooooone%2FKakaoTalk_20210403_135915685.jpg&type=a340',\n",
       " 'https://search.pstatic.net/common/?src=http%3A%2F%2Fblogfiles.naver.net%2FMjAyMTAzMjhfMiAg%2FMDAxNjE2OTEzOTU0MjQ3.Nk0s1SM8Fm0sOlGqL6EGShr5K-Zj483CShfW_1Q-A3Ug.Lg8vQGjHGu_49rzBba8YAumSqNjFLv1kXO9UZsfmL8Mg.JPEG.handy_window%2FKakaoTalk_20210328_124530714_09.jpg&type=a340',\n",
       " 'https://search.pstatic.net/common/?src=http%3A%2F%2Fblogfiles.naver.net%2FMjAyMTA0MDZfNjcg%2FMDAxNjE3NjM0OTI5NjYx.vzU9iqMWz-GHljf9P7i18OelvQkdL9j-M7VO1szBlGEg.2mtYGd_QnRT0CA68gtqEeA6zQ26THiuX0k7N2_r9PJkg.JPEG.ohdongyeol752%2FKakaoTalk_20210405_235456457.jpg&type=a340',\n",
       " 'https://search.pstatic.net/common/?src=http%3A%2F%2Fblogfiles.naver.net%2FMjAyMTA1MDdfODAg%2FMDAxNjIwMzc4NDQ0MDI5.jBa4o_Jxu9fSUnfgHjlZQkSKV8hH5MbhZIhQfdLjm0Eg.w9CckaBsc9CGWZemQBZ5JYcyIKspbi2NZwTJVL9YlFIg.JPEG.rabbits707%2F1620378332063.jpg&type=a340',\n",
       " 'https://search.pstatic.net/common/?src=http%3A%2F%2Fblogfiles.naver.net%2FMjAyMDExMTZfMjc3%2FMDAxNjA1NTMyNTg0MTc0.O2QBbVkfZIIqQnl3aclhxwoZk72sXsBgmDERpOecpy0g.0nvmGQQhvt586JKoYv42w7Vyb8RKzjGIMzosnQkvO7Eg.JPEG.arim850704%2FIMG_3507.JPG&type=a340',\n",
       " 'https://search.pstatic.net/common/?src=http%3A%2F%2Fblogfiles.naver.net%2FMjAyMDEwMjFfNzgg%2FMDAxNjAzMjg1OTY0MzI4.rsttS_6okbsqn4E4H1ej6v2wsdrGpbgDrSND5lWkfsUg.Jnuto81c1IC_BFIfwK1Dz3ShSQfjzUzxN2S40ize1rog.JPEG.skgg2%2F20201002_140130.jpg&type=a340',\n",
       " 'https://search.pstatic.net/common/?src=http%3A%2F%2Fblogfiles.naver.net%2FMjAyMTAyMjJfMjIz%2FMDAxNjEzOTIxMzM1NTg0.tp-tvLIq-3mFDQ_aU1MSJmWUoXv4cZn2C-uj4WTbDDgg.BE2e68NTZVd76BFPYSZBYQC8zOQGe1ZUOcR9EfAxy-cg.JPEG.royal309%2F16.jpg&type=a340',\n",
       " 'https://search.pstatic.net/common/?src=http%3A%2F%2Fblogfiles.naver.net%2FMjAyMTAxMThfNTMg%2FMDAxNjEwOTY4OTUzMDcx.CzolQkrTDgJZbMhg-Y0wcTw7JVe1TVNWbU7VrGsgCjMg.hBEBSjDgd6x8m-5PUu5y2Vnd-ARTBpvTs8kxMwmKqewg.JPEG.skylove4052%2F20210118%25A3%25DF132359.jpg&type=a340',\n",
       " 'https://search.pstatic.net/common/?src=http%3A%2F%2Fblogfiles.naver.net%2FMjAyMTAzMTZfMTYx%2FMDAxNjE1ODc4MDIyODcw.wY4aBU-N7w4VRoWRfW55LmvNa2zEmccspoWslZ1Rt9Ug.MGE0vrpwjNSD8rWad0SfvDrKngm2_5z7xeL6IjvVjcIg.JPEG.nestblue0315%2FKakaoTalk_20210303_223813775_01.jpg&type=a340',\n",
       " 'https://search.pstatic.net/common/?src=http%3A%2F%2Fblogfiles.naver.net%2FMjAyMTAxMzBfOTEg%2FMDAxNjEyMDA0NDk3OTMx.TPzQEiCEXNBb2n0wYDTIR1jT6oMjKdGm0ktKUvZFgUQg.7ScCjygWaa-3OAgG0Fvr30XScIvCwK3i5N3OzRb8eBkg.JPEG.nyy12677%2FIMG_1161.jpg&type=a340',\n",
       " 'https://search.pstatic.net/common/?src=http%3A%2F%2Fblogfiles.naver.net%2FMjAyMTAxMTdfMjAz%2FMDAxNjEwODk0MTE4NTgx.P3IrSGAZgmeHzHZqu4cFWufYfrrlv__nvmZuEUKqvrgg.U_HtP8OBlnvKMaXjBVAJO0K3Jm0foB90M5T77poV3I4g.JPEG.pon03099%2FIMG_6511.jpg&type=a340',\n",
       " 'https://search.pstatic.net/common/?src=http%3A%2F%2Fblogfiles.naver.net%2FMjAxODA4MDVfMjE0%2FMDAxNTMzNDI4MDEwMTgy.h8aKKEzOx_gbU0zbuNuPbetL4PzXSJoSU-r-FTbDQB8g.3WL07sTwpn5beQ0K5D3BvXQNPcCMfhHj8pl2LVO5f7cg.JPEG.kyeongeun21%2F1533428008356.jpg&type=a340',\n",
       " 'https://search.pstatic.net/common/?src=http%3A%2F%2Fblogfiles.naver.net%2FMjAyMTAyMDhfNzcg%2FMDAxNjEyNzgxODQ5MzM2.FD4uIWugFm4H57fTHmS23z6f-A31wPO4CZUxn3gGUJ8g.1VJC1fAS9Zz1LFf8oWmDgNmb3AkSmSXIvSU2gjCidiYg.JPEG.gmdtns5488%2Foutput_49037383.jpg&type=a340',\n",
       " 'https://search.pstatic.net/common/?src=http%3A%2F%2Fblogfiles.naver.net%2FMjAyMDA4MDZfMTA5%2FMDAxNTk2Njk2OTE2NTIy.D59N4BWJs3oVFcw2M1yCx4JYO_7pzo1rkvMbVcBQAgEg.isK_d2NH8LJyodAqaa3OVwdhH67Q7hsnb1dM4mgI1Ekg.JPEG.man_jung_2_%2F1596696915884.jpg&type=a340',\n",
       " 'https://search.pstatic.net/common/?src=http%3A%2F%2Fblogfiles.naver.net%2FMjAyMTAxMDJfMzMg%2FMDAxNjA5NTczOTYwMzc3.CfFtqQXtWSej8CPmfA6DMRsZyc8dsyjn1TInkZmTqgwg.z0qAyfp7syNhb9-yK8iySV1oOc-bdi3yfNvs9o5uGaog.JPEG.bridendgroom%2FKakaoTalk_20210102_165032656.jpg&type=a340',\n",
       " 'https://search.pstatic.net/common/?src=http%3A%2F%2Fblogfiles.naver.net%2FMjAyMTAxMTNfMjEz%2FMDAxNjEwNTQyNTI3MDAy.-V_ocGr5UeFLU7FTzfdQjsyoEB3Tw_-j8usiAmQlsaEg.tamwlBL-RyLPL2QoslL1hrJnuiE7Uyd5mSraeYKaf9gg.JPEG.chj1543%2F20210113%25A3%25DF192917.jpg&type=a340',\n",
       " 'https://search.pstatic.net/common/?src=http%3A%2F%2Fblogfiles.naver.net%2FMjAyMTA0MjNfMjQg%2FMDAxNjE5MTU4NzA5ODg4.VqbJsx0kD02Ln-PAK02mb-Kw0jWzNH7cp2iDpoS78I8g.ZIRa-QihsA42JtbYyV4h6VPT3smZid1BI8rcjQaXRWUg.JPEG.isikami2%2FIMG_8822.jpg&type=a340',\n",
       " 'https://search.pstatic.net/common/?src=http%3A%2F%2Fblogfiles.naver.net%2FMjAyMTAyMDdfMTk4%2FMDAxNjEyNjcyOTg2MjEw.PT7y9ZT6N1OnMxYLmpi1m3agppX_iDVeFpD_sXEroU4g.OWaCbs_e0_qqpsCdpE1TCpGuYEZCSdQ6ZF8GMa0HYC8g.JPEG.xia0788%2FIMG_0171.jpg&type=a340',\n",
       " 'https://search.pstatic.net/common/?src=http%3A%2F%2Fblogfiles.naver.net%2FMjAyMTAxMjhfMjk2%2FMDAxNjExODM1NDM3MzA4.8itw_g23Oxb2FigDshaQut0ahW9VoW9NTKT1HNg2UfQg.zNA5Fg-XXUckqrtLdfq470gb58_Be-qFLnQSVHdE-eog.JPEG.orols_%2FIMG%25A3%25DF20210128%25A3%25DF28.jpg&type=a340',\n",
       " 'https://search.pstatic.net/common/?src=http%3A%2F%2Fblogfiles.naver.net%2FMjAyMTAzMjJfMjc1%2FMDAxNjE2Mzk1NjM0ODI4.trEKKvjCNnlW2aIQE4_lPPf8DFXw2MlTL33pttyc3LYg.hK9ctTwDECWrZWetk2qHL-tj7fFOnvjNEv9TPqwl6vAg.JPEG.akejdcn%2FIMG_0033.jpg&type=a340',\n",
       " 'https://search.pstatic.net/common/?src=http%3A%2F%2Fcafefiles.naver.net%2FMjAxOTEyMzBfMjUy%2FMDAxNTc3NjMzNDM4ODYx.vEGxuVHKZ-qEbJfg4k8MLUaS9sUyG7DMeUyyqdg1o4Ag.9oRUlAf5Cc5qtajjuKUxW8-jOmLirmtXb4ZnTeN1Mp0g.JPEG%2FexternalFile.jpg&type=a340',\n",
       " 'https://search.pstatic.net/common/?src=http%3A%2F%2Fimage.nmv.naver.net%2Fblog_2020_07_12_29%2F8c1f1754-c435-11ea-b92d-246e963a4708_01.jpg&type=ofullfill340_600',\n",
       " 'https://search.pstatic.net/common/?src=http%3A%2F%2Fblogfiles.naver.net%2FMjAyMDA3MTVfMjIw%2FMDAxNTk0ODA0MTg0MzE4.lKbCWhgxNRIgXgwUr1HmU6tF17tcqUE4qikNXHXiAnog.UwxM_QBMWm-ZFdwZogJJJI8or_FmcxYVJ37CKKEm77Yg.JPEG.chlwns59%2F1594804184993.jpg&type=a340',\n",
       " 'https://search.pstatic.net/common/?src=http%3A%2F%2Fcafefiles.naver.net%2F20111109_100%2Fditl2393_1320770018610IIUO3_jpg%2F20090312230714_39904984_ditl2393.jpg&type=a340',\n",
       " 'https://search.pstatic.net/common/?src=http%3A%2F%2Fcafefiles.naver.net%2FMjAyMTAxMjVfMjk3%2FMDAxNjExNTM2Mjk3MjM4.0PE0a0OAU7-Bgpo13R5N6TJogkka8MaOSyv4iB9p5zIg.n3WrXdPSugVn1ZlruDh3RKw8WchCvBjpOXMZAhTpjw0g.JPEG%2FexternalFile.jpg&type=a340',\n",
       " 'https://search.pstatic.net/common/?src=http%3A%2F%2Fblogfiles.naver.net%2FMjAyMDEwMTdfMjg2%2FMDAxNjAyOTIyMzU5MjI3.yNSUriFSStC_Y89hz2PmffOtfnkj5FpV2UFQsulQphIg.ONw0g6PqpZOr6ERLwEISt5iUEpToqyWFCp-01eVfGVEg.JPEG.id_chaeum%2F09.jpg&type=a340',\n",
       " 'https://search.pstatic.net/common/?src=http%3A%2F%2Fblogfiles.naver.net%2F20140729_31%2Fdoggish_1406643060606jbh6g_JPEG%2F20140729_190701.jpg&type=a340',\n",
       " 'https://search.pstatic.net/common/?src=http%3A%2F%2Fcafefiles.naver.net%2FMjAyMDA3MjlfOTEg%2FMDAxNTk1OTkxOTM2MzU0.V_1E6lqgyNbyVfH1Afhz9_6xrxHHPjoFuCg0qvp0d-Ug.oVCTIHpbvsL_AjBGH0xaD14iT-EACuwllwYjC_HDyVUg.JPEG%2F20200729_093615.jpg&type=ofullfill340_600',\n",
       " 'https://search.pstatic.net/common/?src=http%3A%2F%2Fcafefiles.naver.net%2F20160706_81%2Fkk104868_1467814809949hnCBm_JPEG%2FKakaoTalk_20160706_213419566.jpg&type=a340',\n",
       " 'https://search.pstatic.net/common/?src=http%3A%2F%2Fblogfiles.naver.net%2FMjAyMDEwMzFfMTY3%2FMDAxNjA0MTA1NzUwNDQ5.mqa4d7c7BX1DGFARy1khK5FaZfY4r0BiyXR3YxnrG7Ag.LSimB5oudyO5beLZNqIMaWhLeyVmJ5qJabVMQfE0TqEg.JPEG.mmmjjjmmjj%2F6844B633-A488-4A14-8128-80A919D7E32A.jpeg&type=a340',\n",
       " 'https://search.pstatic.net/common/?src=http%3A%2F%2Fblogfiles.naver.net%2F20150206_247%2Fsahain35e_1423205626691qMFGq_JPEG%2FIMG_20150205_130937.jpg&type=a340',\n",
       " 'https://search.pstatic.net/common/?src=http%3A%2F%2Fcafefiles.naver.net%2F20131126_39%2Fekgusdia_1385435854411tdmGl_JPEG%2FCAM03157.jpg&type=a340',\n",
       " 'https://search.pstatic.net/common/?src=http%3A%2F%2Fblogfiles.naver.net%2FMjAyMDEwMjZfMjE2%2FMDAxNjAzNjQyMTgyNDk4.uhAWfiQd20PPRMopYumPtm90fF6IJNI6B-WgnRCuMLog.nmMoC6rD4THcmnaZHNUK35aLNGoCbZ13m_hn2bNfUC4g.JPEG.jsgo76%2F20201024%25A3%25DF131237.jpg&type=a340',\n",
       " 'https://search.pstatic.net/common/?src=http%3A%2F%2Fcafefiles.naver.net%2F20120816_136%2Fnotbad356_1345108222005xjgxz_JPEG%2F%25B5%25C5%25C1%25F6%25B1%25B9%25B9%25E4.jpeg&type=a340',\n",
       " 'https://search.pstatic.net/common/?src=http%3A%2F%2Fblogfiles.naver.net%2FMjAyMTAxMTZfNDIg%2FMDAxNjEwNzk1OTM0ODI2.ZTDqBnQijhSW0cg6KmHp_T-nEETVUYSf3K9t4b_JK_8g.v8tfs_e3BBASbGJUydZ9gbMpwu0C2FnLC7iCuk1mLqcg.JPEG.wiseegg88%2FDSC01373.JPG&type=a340',\n",
       " 'https://search.pstatic.net/common/?src=http%3A%2F%2Fcafefiles.naver.net%2FMjAxOTA2MDVfMzAw%2FMDAxNTU5NzA4MTgwNzc4.FiMb7PrEhD6_6QlnWSBYAqHRFj-sicveU5ig-pN7An0g.gS4Bj2dby4i5-NJAR283QXDyW25tA6Lv4m2drBmUoAwg.JPEG%2F80312EE6-FC75-4137-B8C0-B608840F8171.jpeg&type=a340',\n",
       " 'https://search.pstatic.net/common/?src=http%3A%2F%2Fblogfiles.naver.net%2FMjAyMDA3MDZfMjkz%2FMDAxNTk0MDIyNDA5MDg1.SFECJsJZxHgN1n-UMJmHSPAQLi_07DOMm7bzlRHXJiwg.8nVoZ0TVza3g3RBps8IDx8_mn_k2E4MdrJKmdhhs5bcg.JPEG.sunyuuuu%2Foutput_3882993958.jpg&type=a340',\n",
       " 'https://search.pstatic.net/common/?src=http%3A%2F%2Fblogfiles.naver.net%2F20140308_34%2Fmtkinghero88_1394287610791jtfj0_JPEG%2FIMG_2621.JPG&type=a340',\n",
       " 'https://search.pstatic.net/common/?src=http%3A%2F%2Fblogfiles.naver.net%2F20160218_242%2Fhhsgdh_1455796663529Pxcal_JPEG%2F%25BC%25AD%25B8%25E9_%25B5%25C5%25C1%25F6%25B1%25B9%25B9%25E4%25B0%25F1%25B8%25F1_%25BC%25DB%25C1%25A43%25B4%25EB%25B1%25B9%25B9%25E4_%25B5%25C5%25C1%25F6%25B1%25B9%25B9%25E4.JPG&type=l340_165',\n",
       " 'https://search.pstatic.net/common/?src=http%3A%2F%2Fblogfiles.naver.net%2F20120509_73%2Fcarcenter82_1336535385393fum3s_JPEG%2FIMG_2040.JPG&type=a340',\n",
       " 'https://search.pstatic.net/common/?src=http%3A%2F%2Fblogfiles.naver.net%2F20140515_32%2Fsacomi87_1400164387139sXw2Y_JPEG%2FIMG_9784.JPG&type=a340',\n",
       " 'https://search.pstatic.net/common/?src=http%3A%2F%2Fblogfiles.naver.net%2FMjAyMDA3MDVfMTY0%2FMDAxNTkzOTM4Mjk1NTY4.tDxdw5IRsw4-tbpeOeirgJVOVeYg-okh0mtVWWOn9DIg.91dynqKnQ88Vc7sU4dhPk9beookJzkgPViSlShYN7Isg.JPEG.sindonghwp%2FIMG_7232.jpg&type=a340',\n",
       " 'https://search.pstatic.net/common/?src=http%3A%2F%2Fblogfiles.naver.net%2F20150424_257%2Fsieunssi_1429855862143C9Wk4_JPEG%2FDSC08671.JPG&type=a340',\n",
       " 'https://search.pstatic.net/common/?src=http%3A%2F%2Fcafefiles.naver.net%2F20131119_203%2Fdutdlek1235_1384847679020rX5kE_JPEG%2F953142191.jpg&type=a340',\n",
       " 'https://search.pstatic.net/common/?src=http%3A%2F%2Fblogfiles.naver.net%2FMjAxOTA5MjhfMTcg%2FMDAxNTY5NjY2MzMwNzQz.VBHUjjUpLdHHW-eQK5XLHlk_KuFhquK9OqTa9qXX-sIg.Xk8X9uqQ8lQh4UtjPZGU93EYzvWslgJpVuvrANvuF_og.JPEG.app4142%2F1569666329762.JPG&type=a340',\n",
       " 'https://search.pstatic.net/common/?src=http%3A%2F%2Fblogfiles.naver.net%2F20121121_170%2F9401sun_13534749674495dVom_JPEG%2F1.jpg&type=a340',\n",
       " 'https://search.pstatic.net/common/?src=http%3A%2F%2Fblogfiles.naver.net%2F20140927_17%2Fetre6854_1411749986389WFszN_JPEG%2F20140920_091135.jpg&type=a340',\n",
       " 'https://search.pstatic.net/common/?src=http%3A%2F%2Fblogfiles.naver.net%2F20160328_51%2Fjiunlove33_1459147110378N7x85_JPEG%2FDSC06735.JPG&type=a340',\n",
       " 'https://search.pstatic.net/common/?src=http%3A%2F%2Fblogfiles.naver.net%2FMjAxNzA4MTBfMTkx%2FMDAxNTAyMjk0MzAxNTM5.c_xgfJav4Swt2o8Ba4FRnUjzLFFwyTj06mMRAsj60Zog.s-xjlJiSwKfgqTojsKt6JDkTp0w839qXH7tt1debREgg.JPEG.hee930622%2FIMG_6855.jpg&type=a340',\n",
       " 'https://search.pstatic.net/common/?src=http%3A%2F%2Fblogfiles.naver.net%2F20160229_288%2Feun033014_1456706485143Mvzpr_JPEG%2F20160227_182927_edit_edit.jpg&type=a340',\n",
       " 'https://search.pstatic.net/common/?src=http%3A%2F%2Fblogfiles.naver.net%2F20150825_16%2F1028866_14404930797906cNSk_JPEG%2FDSC00968.JPG&type=a340',\n",
       " 'https://search.pstatic.net/common/?src=http%3A%2F%2Fblogfiles.naver.net%2FMjAxODA3MTRfMjY3%2FMDAxNTMxNTAzNTg1MDQ0.BQaelkc3Rhsq4dVzN1IVaPsFercLzdQhblG7_VuhBjAg.m8YnJl5zIGm1yIKCUVBY8k5xSQ5npAB05osWarGqSBYg.JPEG.eaglesnest%2FR0183418.JPG&type=a340',\n",
       " 'https://search.pstatic.net/common/?src=http%3A%2F%2Fblogfiles.naver.net%2F20101102_146%2Fsshhjj18_1288630177785UuWLj_JPEG%2FP101023009.jpg&type=a340',\n",
       " 'https://search.pstatic.net/common/?src=http%3A%2F%2Fblogfiles.naver.net%2F20151225_219%2Ffullmoon_im_1451053681209Hg3bh_JPEG%2FNaverBlog_20151225_232759_03.jpg&type=a340',\n",
       " 'https://search.pstatic.net/common/?src=http%3A%2F%2Fblogfiles.naver.net%2FMjAxNzAyMjRfMiAg%2FMDAxNDg3OTEzNDk5MTE3.D_M1ANUJ7uBSSZ-Qho4mQeTPPqWDqtZc30k9PcIDQhwg.HLzMqs-5tpI80mexFaiI63RfBXiuFYYKqTovHdcZgmQg.JPEG.jamesk67%2F20170224_123649.jpg&type=a340',\n",
       " 'https://search.pstatic.net/common/?src=http%3A%2F%2Fblogfiles.naver.net%2FMjAxODAxMDdfMjI5%2FMDAxNTE1MzI5MzI2NzMz.o0IhU3O5HkawcpOEpcfkvDOtTJLeAy3OU8rRik8yA7gg.6_25Qj4N8snT6sPE87kzv9B5EOGleg170t7gNPGXQL8g.JPEG.atallcosts7%2F20180103_111142.jpg&type=a340',\n",
       " 'https://search.pstatic.net/common/?src=http%3A%2F%2Fblogfiles.naver.net%2FMjAxODA2MThfODMg%2FMDAxNTI5MzIwMTAzMDIz.H7NXwGYshmMxYb6tn9beI-Y_R8JowtbMC7PkDv2ThEEg.qQAaa4hEmpGfLIB3BQlVwKcOVRaDBB_0QPCAu9gPZjUg.JPEG.dmswo0797%2FIMG_4875.jpg&type=a340',\n",
       " 'https://search.pstatic.net/common/?src=http%3A%2F%2Fblogfiles.naver.net%2F20120312_186%2Fanbo00_1331517129809khOHX_JPEG%2FIMG_1095.JPG&type=a340',\n",
       " 'https://search.pstatic.net/common/?src=http%3A%2F%2Fblogfiles.naver.net%2F20161015_87%2Fpenguinnews_1476527225513Snhaj_JPEG%2FIMG_9224.jpg&type=a340',\n",
       " 'https://search.pstatic.net/common/?src=http%3A%2F%2Fblogfiles.naver.net%2F20140815_179%2Fnekobongbong_1408085672257HIje0_JPEG%2FIMG_7602-0061.JPG&type=a340',\n",
       " 'https://search.pstatic.net/common/?src=http%3A%2F%2Fblogfiles.naver.net%2FMjAyMDAxMTFfMjE1%2FMDAxNTc4NzMwMjM2OTg1.6l_zJ2Lc8miINVUFz4SzhmUI0AGEUnnlLcYZXaWb1YAg.R_fRLWkTeefOd1cmEsIlrPRGct0vWcsMluoA6ueAeRkg.JPEG.shutterup0604%2F%25BA%25CE%25BB%25EA_%25B1%25A4%25BE%25C8%25B8%25AE_%25B2%25C9%25B5%25C5%25C1%25F6%25B1%25B9%25B9%25E4-8.jpg&type=a340',\n",
       " 'https://search.pstatic.net/common/?src=http%3A%2F%2Fblogfiles.naver.net%2FMjAxNzA3MzBfMTkw%2FMDAxNTAxMzk4NTkyMjYz.vFr6Ejuds3SK3acbnZmknmNj-aa1FAVxLNmN-9wwhpwg.8ajjPk_fAjS75rbQ2DYaJ2XENjAP-414V-X7zuupPkkg.JPEG.biya428%2F20170730_085401.jpg&type=a340',\n",
       " 'https://search.pstatic.net/common/?src=http%3A%2F%2Fblogfiles.naver.net%2F20100308_96%2Fhilander_1267977495924M6kQF_jpg%2F20100227_0040_hilander.jpg&type=a340',\n",
       " 'https://search.pstatic.net/common/?src=http%3A%2F%2Fblogfiles.naver.net%2FMjAxODAxMjhfMjUy%2FMDAxNTE3MTUwNzIyMTc4.5Zv7SbspQXB1-kymlwG6lvKjC4bNnHoBsuJKbvdNF68g.Q2xhp0lbD6xJaUX-o9CigUIjlSIN0IC-oUR5eWSCA3kg.JPEG.kalgukbab%2F%25C4%25AE%25B1%25B9%25B9%25E4.jpg&type=a340',\n",
       " 'https://search.pstatic.net/common/?src=http%3A%2F%2Fblogfiles.naver.net%2F20131004_76%2F119singo_1380852001668ic9bW_JPEG%2FIMG_6835.JPG&type=a340',\n",
       " 'https://search.pstatic.net/common/?src=http%3A%2F%2Fblogfiles.naver.net%2F20150329_97%2Fxogns4931_1427630175059gjF8e_JPEG%2F20150328_210407.jpg&type=l340_165',\n",
       " 'https://search.pstatic.net/common/?src=http%3A%2F%2Fblogfiles.naver.net%2F20140701_122%2F004246_1404194099997i23kw_JPEG%2F140605121723NX300M.jpg&type=a340',\n",
       " 'https://search.pstatic.net/common/?src=http%3A%2F%2Fcafefiles.naver.net%2F20130711_113%2Floreal35_1373515869966zp6od_JPEG%2F20130711_125320.jpg&type=a340',\n",
       " 'https://search.pstatic.net/common/?src=http%3A%2F%2Fblogfiles.naver.net%2F20130226_21%2Fbarjang_1361872318556Vpfb4_JPEG%2F%25C5%25A9%25B1%25E2%25BA%25AF%25C8%25AF_IMG_0503.JPG&type=a340',\n",
       " 'https://search.pstatic.net/common/?src=http%3A%2F%2Fblogfiles.naver.net%2FMjAyMDAyMTFfMTcw%2FMDAxNTgxNDE3OTQ3MjU4.9yqG_A8iT5ldAJzpbAiaKFJ0OLDFHw5R6fltysFxEnog.7kOapqFMOb8ee7B3q2x9pksP0lkk5SoFPF1lULoo6c8g.JPEG.nikos69%2F1581417951616.jpg&type=a340',\n",
       " 'https://search.pstatic.net/common/?src=http%3A%2F%2Fblogfiles.naver.net%2F20130124_1%2Funicorns7_13590382472590gq9j_JPEG%2FP1540013.jpg&type=a340',\n",
       " 'https://search.pstatic.net/common/?src=http%3A%2F%2Fblogfiles.naver.net%2FMjAyMDA0MTFfMjgy%2FMDAxNTg2NTQzODIzODUy.7xbN8gZPxCQ9pgoulSuuAGUA-XKorarCILcULiewlJAg.pkepKvq0M6kqte-iDdiOzuiSrl2rr_mU5249vVlPxvIg.JPEG.skdi04251%2FIMG_7941.jpg&type=a340',\n",
       " 'https://search.pstatic.net/common/?src=http%3A%2F%2Fblogfiles.naver.net%2FMjAxNzAxMjNfMTI0%2FMDAxNDg1MTYyMTIwMjYx.zsNcb77A_dOCnBtis38juH3IRZOFmVpE03wfl56sIl0g.nzIUzqlqsYgLPBvNgpdGlltFN000KdvG0HgSVeoYItcg.JPEG.sukkyung70%2F20170123_142601.jpg&type=a340',\n",
       " 'https://search.pstatic.net/common/?src=http%3A%2F%2Fblogfiles.naver.net%2FMjAxNzEyMTVfNDAg%2FMDAxNTEzMjcwNDUyNjgz.5p8l2mgSQxavPdVJ-JuYrDYIjzwW1cuw6P2kn02BQk8g.W4jfa32TAbaAmhkPSiGnp9B-pa-eL9un-TLcyp2y7WMg.JPEG.fal8888%2F20171214_112754.jpg&type=a340',\n",
       " 'https://search.pstatic.net/common/?src=http%3A%2F%2Fblogfiles.naver.net%2FMjAxODA1MjJfMzQg%2FMDAxNTI2OTkwMTYzMjU3.wzZ-qM7yjoPzFIcxbkf9JpubwaZMpEzq2CgWO9iG5lMg.WotucrxsoiHd64VcMSn60fmwyCbyzlyFT8lFAfTaxnEg.JPEG.hwajwj77%2FDSC03910.JPG&type=a340',\n",
       " 'https://search.pstatic.net/common/?src=http%3A%2F%2Fblogfiles.naver.net%2FMjAyMDAzMDFfMjI4%2FMDAxNTgzMDQ3NzE0MTY0.eQ-3t2gD8MfIWGUFV8DFE7JOWmY-jvee-xzGlnUlyQkg.tR5mKwOpLYHmXqrzIEs08BUH_336qOpopAX6QvIsNQ0g.JPEG.doin1914%2FIMG_6862.JPG&type=a340',\n",
       " 'https://search.pstatic.net/common/?src=http%3A%2F%2Fblogfiles.naver.net%2F20130923_150%2Fjyung917_1379864579462QTuY7_JPEG%2FIMG_7928-2.JPG&type=a340',\n",
       " 'https://search.pstatic.net/common/?src=http%3A%2F%2Fblogfiles.naver.net%2F20121106_200%2Fppsohn_1352200181640i8C0t_JPEG%2F20120915_190912.jpg&type=a340',\n",
       " 'https://search.pstatic.net/common/?src=http%3A%2F%2Fblogfiles.naver.net%2FMjAxODA3MzBfMjQg%2FMDAxNTMyOTYwNzM5MjI2.CU006FhEwmeZDtudr6BnXL1Iv_ZojLBVd_AXsyfrWh8g.NNrlxae3BoqmqV_U5oGsgX2I2B9nGQ4Z0KuSvJH4-eog.JPEG.happy_day555%2FDSC06561.JPG&type=a340',\n",
       " 'https://search.pstatic.net/common/?src=http%3A%2F%2Fblogfiles.naver.net%2F20160528_100%2Fdrantipain_1464443884531zvqtb_JPEG%2FNaverBlog_20160528_225803_00.jpg&type=a340',\n",
       " 'https://search.pstatic.net/common/?src=http%3A%2F%2Fblogfiles.naver.net%2FMjAxOTA4MDRfMTY0%2FMDAxNTY0ODcyOTQ0NDMy.T4f8rMzON0fuXDZkJAj-jPDD7n5RMnBgNgC5geL9bWEg.s5tnjRf2MoxIIKwjvEqgpY1IjamHm1xP4sEHQHDKvmYg.JPEG.99hyunuk%2F20190803_183943.jpg&type=a340',\n",
       " 'https://search.pstatic.net/common/?src=http%3A%2F%2Fblogfiles.naver.net%2FMjAxOTAyMTVfMTgz%2FMDAxNTUwMjQxNDQ4MzMz.6DwmeIZyL5Ax4IslQ0Ybu9xUhOnFXeqK1EgfC9cR1GMg.jccbPjx6htiKCE58TaEJRr5vqi_8NNhg8F1k7MUXMJQg.JPEG.kirinkong%2F%25BA%25CE%25BB%25EA%25B5%25C5%25C1%25F6%25B1%25B9%25B9%25E4%25B8%25C0%25C1%25FD_%252817%2529.JPG&type=a340',\n",
       " 'https://search.pstatic.net/common/?src=http%3A%2F%2Fblogfiles.naver.net%2F20110822_174%2Fsad1988_13139706238956vwtm_JPEG%2F110818120337.jpg&type=a340',\n",
       " 'https://search.pstatic.net/common/?src=http%3A%2F%2Fblogfiles.naver.net%2F20151106_176%2Fkjths0909_1446771065438HzwNS_JPEG%2FKakaoTalk_20151106_085036169.jpg&type=a340',\n",
       " 'https://search.pstatic.net/common/?src=http%3A%2F%2Fcafefiles.naver.net%2F20141031_176%2Fwcw25_1414732349640kreHy_JPEG%2FEC95B5ED8F8919.JPG&type=a340',\n",
       " 'https://search.pstatic.net/common/?src=http%3A%2F%2Fcafefiles.naver.net%2F20140615_170%2Fwolves5003_14028334222974uSav_JPEG%2FNa1402831548857.jpg&type=a340',\n",
       " 'https://search.pstatic.net/common/?src=http%3A%2F%2Fblogfiles.naver.net%2F20140210_251%2Fyxntqhfmx_13919981449786Gk4P_JPEG%2FKakaoTalk_4834b7f213a32895.jpg&type=ofullfill340_600',\n",
       " 'https://search.pstatic.net/common/?src=http%3A%2F%2Fblogfiles.naver.net%2FMjAyMTAzMTBfOTIg%2FMDAxNjE1MzM2MDY4ODI0.nzJ4wLGvzXEfBQI9HeD3rKXwBMifJGTJP1CCD968x70g.9rOwyR6Jw8WfAVCoCmf9NRVBpfvMP7YrM6EtpJxIdusg.JPEG.djcommerce%2F1_%252847%2529.jpg&type=a340',\n",
       " 'https://search.pstatic.net/common/?src=http%3A%2F%2Fblogfiles.naver.net%2FMjAyMDAyMjVfMTUw%2FMDAxNTgyNjMzNzM0MjM5.T4vCcOYPkjP70KCpzE0sRiejgfUkicaKqYTD-ges_o4g.IkKDw3MOk0SuaOWWuaTHKvW7sFYljpEOlYhLgvqf-hEg.JPEG.nujoa777%2F014-%25BA%25CE%25BB%25EA%25B3%25B2%25C6%25F7%25B5%25BF%25B5%25C5%25C1%25F6%25B1%25B9%25B9%25E41.jpg&type=a340',\n",
       " 'https://search.pstatic.net/common/?src=http%3A%2F%2Fblogfiles.naver.net%2F20140915_161%2Fryungzzang_1410785364159NE61v_JPEG%2FIMG_3890.JPG&type=a340',\n",
       " 'https://search.pstatic.net/common/?src=http%3A%2F%2Fcafefiles.naver.net%2FMjAxOTAxMDNfNTAg%2FMDAxNTQ2NDkxMzA1NTIz.q7jRNt6AVnHHoSYiRbat7Vbs_YtYzn7lXwl5ucusksgg.Z9yTuuAa_aT9JnkPZFNRwY_b_s5DkEhWjAqWNJ9cy28g.JPEG.ooooa5%2FIMG_5976.JPG&type=a340',\n",
       " 'https://search.pstatic.net/common/?src=http%3A%2F%2Fblogfiles.naver.net%2FMjAyMTAxMThfNTMg%2FMDAxNjEwOTY4OTUzMDcx.CzolQkrTDgJZbMhg-Y0wcTw7JVe1TVNWbU7VrGsgCjMg.hBEBSjDgd6x8m-5PUu5y2Vnd-ARTBpvTs8kxMwmKqewg.JPEG.skylove4052%2F20210118%25A3%25DF132359.jpg&type=a340',\n",
       " 'https://search.pstatic.net/common/?src=http%3A%2F%2Fblogfiles.naver.net%2F20160709_192%2Fkimhyeonsu72_146807368978457mxX_JPEG%2F20160709_210432.jpg&type=ofullfill340_600',\n",
       " 'https://search.pstatic.net/common/?src=http%3A%2F%2Fblogfiles.naver.net%2FMjAyMTAyMTZfMTIw%2FMDAxNjEzNDc1MzgwMzY0.HXIAlt0e5aM3uCEJuLb0bS__mZ1TTVw5RZjd4qnCk0gg.09lOlYEpZE8FZn-bM2VotlDg43ti-XMQsnPNDVIHh1Ag.JPEG.jjjddjjjdds%2F20210211_113436.jpg&type=a340',\n",
       " 'https://search.pstatic.net/common/?src=http%3A%2F%2Fblogfiles.naver.net%2FMjAyMTAyMjVfMTM4%2FMDAxNjE0MjYyMDMzOTYx.yGzKK5nrOxEtCl01x4KveFEZ06FPvKiJL81aOCpOqMwg.E1Kthxbys4_99MHmVt0Xv6gMiV-6cFaQ1tIetjB2fx8g.JPEG.adg3050%2F20210225%25A3%25DF210700.jpg&type=a340',\n",
       " 'https://search.pstatic.net/common/?src=http%3A%2F%2Fblogfiles.naver.net%2FMjAxNzA2MTdfMjky%2FMDAxNDk3Njk2OTg2Mjk5.xw-QiFHVwvfQjQMrCCvkeHcgysdi_4NCCYH5yo_aAsMg.zvWqrEKCiVYHgrWCZXjFABGUgt26ZHmhhSs66EfL9CAg.JPEG.cinderellazoo%2F6a0a0db2-f507-4bc8-9862-a97165884014.jpg&type=a340',\n",
       " 'https://search.pstatic.net/common/?src=http%3A%2F%2Fblogfiles.naver.net%2FMjAxOTA3MTZfODcg%2FMDAxNTYzMjU3NjQ4MzA1.ue_tmERwkVTE8BP890LcVW63ybZyAYt-v-OMbfbv3yUg.mItEhp4bCGC2gnU636FMS8AltD8S1Py7mmqzGagSmCkg.JPEG.mphong9%2F%25BA%25CE%25BB%25EA_%25B5%25C5%25C1%25F6%25B1%25B9%25B9%25E4.jpg&type=a340',\n",
       " 'https://search.pstatic.net/common/?src=http%3A%2F%2Fblogfiles.naver.net%2FMjAxNzAxMjNfNyAg%2FMDAxNDg1MTM5OTAxMzQx.UusLJDg5YquPrbp14s3_vt6Sy06dDQGvWq1s2n4UitYg.zEm_hbki8oNp2t3QitXHk0UvQ1iPpE9u4OoQXQMKbtcg.JPEG.dlwlals0475%2F20170121_1335521.jpg&type=a340',\n",
       " 'https://search.pstatic.net/common/?src=http%3A%2F%2Fblogfiles.naver.net%2FMjAxODAzMDdfMTgg%2FMDAxNTIwNDE3NDE3ODA3.BGgn_eXT2RLOv6TCoQ4s2I-kyebdv65JadM1AFpvgGwg.YHZ4MacJmsQsOHG7VduiBoNwVd8qlJNifam3o1G0Otkg.JPEG.jaynarr%2FIMG_1770.jpg&type=a340',\n",
       " 'https://search.pstatic.net/common/?src=http%3A%2F%2Fblogfiles.naver.net%2FMjAyMTAzMDFfMjYy%2FMDAxNjE0NTI0NTI2MDQz.4l_b_1xrcnw_3yNWXkVarQzgLVdM3uxTqYo7EFkDWtog.t1R9_4J_7mu4xVViFtiY0s_xmmduY71ULdPXV5IR4gwg.JPEG.love9magic%2Foutput_2930053975.jpg&type=a340',\n",
       " 'https://search.pstatic.net/common/?src=http%3A%2F%2Fcafefiles.naver.net%2F20140629_93%2Fchdn55_1404010885455HY9So_JPEG%2F-1106831452.jpg&type=a340',\n",
       " 'https://search.pstatic.net/common/?src=http%3A%2F%2Fblogfiles.naver.net%2F20110321_171%2Fkys7400_13006967363952pB2G_JPEG%2F%25C4%25E1%25B3%25AA%25B9%25B0%25B1%25B9%25B9%25E4.jpg&type=a340',\n",
       " 'https://search.pstatic.net/common/?src=http%3A%2F%2Fblogfiles.naver.net%2FMjAyMTA1MDdfODAg%2FMDAxNjIwMzc4NDQ0MDI5.jBa4o_Jxu9fSUnfgHjlZQkSKV8hH5MbhZIhQfdLjm0Eg.w9CckaBsc9CGWZemQBZ5JYcyIKspbi2NZwTJVL9YlFIg.JPEG.rabbits707%2F1620378332063.jpg&type=a340',\n",
       " 'https://search.pstatic.net/common/?src=http%3A%2F%2Fblogfiles.naver.net%2F20150306_81%2Ftheshoes2_1425653805220Pa1dH_JPEG%2FDSC07557.JPG&type=a340',\n",
       " 'https://search.pstatic.net/common/?src=http%3A%2F%2Fblogfiles.naver.net%2FMjAxNzEyMzBfNTMg%2FMDAxNTE0NTcwNzMzMTAx.dXzuZP6SuM3itwdY_6qgEdXKL85isLl6DhEbD84S3xYg.NeU_DnfcgZzXrrTP9CJLISsPgZiOaraWkF6dv2B44hMg.JPEG.love_a_girl%2F%25C5%25A9%25B1%25E2%25BA%25AF%25C8%25AF_17-12-08-11-19-19-253_photo.jpg&type=a340',\n",
       " 'https://search.pstatic.net/common/?src=http%3A%2F%2Fblogfiles.naver.net%2F20140801_79%2Foh782007_14068942381248i1TL_JPEG%2F20140730_193644.jpg&type=a340',\n",
       " 'https://search.pstatic.net/common/?src=http%3A%2F%2Fblogfiles.naver.net%2F20150225_299%2Fwojqnnal_1424842007493kn10M_JPEG%2F%25B5%25B5%25B0%25A1%25B4%25CF%25C5%25C1.jpg&type=a340',\n",
       " 'https://search.pstatic.net/common/?src=http%3A%2F%2Fblogfiles.naver.net%2FMjAxODEyMTFfMjMw%2FMDAxNTQ0NTI2NzIyNzQx.39eT7pzC9R8BcNLTn-X52tPPhoTQTQQMoNyt4Vjhkw0g.DCIMPjmgVLuTqca7nL_eRbn_Lr4aipILlbY1a7NITf4g.JPEG.soraszzang%2FIMG_8304.JPG&type=a340',\n",
       " 'https://search.pstatic.net/common/?src=http%3A%2F%2Fblogfiles.naver.net%2F20160906_170%2Fharumar_1473171306498O09Dm_JPEG%2F%25C7%25CF%25B3%25B2%25B1%25B9%25B9%25E4.jpg&type=a340',\n",
       " 'https://search.pstatic.net/common/?src=http%3A%2F%2Fblogfiles.naver.net%2F20151226_148%2Fsjh5418_1451113199552Xuk0m_JPEG%2FDSC03023.jpg&type=a340',\n",
       " 'https://search.pstatic.net/common/?src=http%3A%2F%2Fblogfiles.naver.net%2F20140116_161%2Fserena_1009_1389856491169tomXR_JPEG%2Fimddage_8_%25289%2529.jpg&type=a340',\n",
       " 'https://search.pstatic.net/common/?src=http%3A%2F%2Fblogfiles.naver.net%2F20101109_13%2Fdusl1984_1289266048069Hr0BA_JPEG%2FDSC06011.JPG&type=a340',\n",
       " 'https://search.pstatic.net/common/?src=http%3A%2F%2Fblogfiles.naver.net%2FMjAxOTAzMjRfMTkw%2FMDAxNTUzMzk1MDM1OTgx.xk7kUySdBtWhbSGe2hJhkAvHbRoZkX_5vAkpXvWbVpgg.eny5KTtSNEkET_Jtai4m2QxQLz5KNsbLWCSKGchYUl8g.JPEG.raon-haus%2F20190324_110451.jpg&type=a340',\n",
       " 'https://search.pstatic.net/common/?src=http%3A%2F%2Fblogfiles.naver.net%2FMjAxNzExMDdfMjU3%2FMDAxNTEwMDUyNzkxNzA1.2Z-gl7rfICuPyUu1O3rX4by4_uh4uNyd8_hOncCPWWUg.tH_TBuI0opEMopl68uU9nW6uV1Ac6cfkBxJw0rShgtcg.JPEG.baby1004v%2F20170902_093232.jpg&type=a340',\n",
       " 'https://search.pstatic.net/common/?src=http%3A%2F%2Fblogfiles.naver.net%2F20120731_141%2Fyhn8757_1343741012929iip8B_JPEG%2F%25BB%25E7%25C1%25F8120608_0203.jpg&type=a340',\n",
       " 'https://search.pstatic.net/common/?src=http%3A%2F%2Fblogfiles.naver.net%2FMjAxOTAxMDlfMTkw%2FMDAxNTQ3MDQxMTU1MjAz.MyQtXahOKXWMySNVGyYkXHgXyBzBvzmP6CAjT4RDmB0g.DSAPi2K8xPemHhsPOTqgY7XSUJpgoLr7M4b99SaZTv8g.JPEG.anyany111%2F22-1.JPG&type=a340',\n",
       " 'https://search.pstatic.net/common/?src=http%3A%2F%2Fblogfiles.naver.net%2FMjAxNzA4MDhfMTY2%2FMDAxNTAyMTU1NDA5OTc0.JqnmVkqCTvhpq7QzQiSq_Me0nM4G5aeTZN1emln7N0Ug.HPVcItWB11rcT8ZjIFq31d05mYbSfBcm2gqt9N_7oxkg.JPEG.qlslrjekd11%2FKakaoTalk_20170808_094043273.jpg&type=a340',\n",
       " 'https://search.pstatic.net/common/?src=http%3A%2F%2Fcafefiles.naver.net%2F20160226_9%2Fdaehoon0212_1456480344366ckzBV_JPEG%2FDSC00722.JPG&type=a340',\n",
       " 'https://search.pstatic.net/common/?src=http%3A%2F%2Fblogfiles.naver.net%2FMjAyMDAxMDdfMTA4%2FMDAxNTc4Mzc5MTMzMTI5.I8RoyCjo7VPeP_I6pkdg-NKjRtDcBevdbksrLLyIPH8g.NLFGR84H2cygL6Sy2Wouq3MofHaZVFyZiZJpXc4rW5og.JPEG.khj0883%2FIMG_7599.jpg&type=a340',\n",
       " 'https://search.pstatic.net/common/?src=http%3A%2F%2Fblogfiles.naver.net%2F20110908_224%2Fred5006_1315454197519vRmf6_JPEG%2F%25BB%25E7%25C1%25F8_229.jpg&type=a340',\n",
       " 'https://search.pstatic.net/common/?src=http%3A%2F%2Fblogfiles.naver.net%2F20100913_258%2Ftnwls2300_1284308456754WBENT_JPEG%2F%25BB%25EF%25C0%25BB%25B1%25B9%25B9%25E4-%25B5%25B7%25C1%25B7%25C5%25C1.JPG&type=a340',\n",
       " 'https://search.pstatic.net/common/?src=http%3A%2F%2Fblogfiles.naver.net%2FMjAyMTAxMDJfMzMg%2FMDAxNjA5NTczOTYwMzc3.CfFtqQXtWSej8CPmfA6DMRsZyc8dsyjn1TInkZmTqgwg.z0qAyfp7syNhb9-yK8iySV1oOc-bdi3yfNvs9o5uGaog.JPEG.bridendgroom%2FKakaoTalk_20210102_165032656.jpg&type=a340',\n",
       " 'https://search.pstatic.net/common/?src=http%3A%2F%2Fblogfiles.naver.net%2F20160922_136%2Fkyakm0714_1474531322458U0iUr_JPEG%2FP1160466.JPG&type=a340',\n",
       " 'https://search.pstatic.net/common/?src=http%3A%2F%2Fblogfiles.naver.net%2F20110211_245%2Fpharmaherb_1297404335993PbVXJ_JPEG%2FP1140154.JPG&type=a340',\n",
       " 'https://search.pstatic.net/common/?src=http%3A%2F%2Fblogfiles.naver.net%2F20150109_225%2Fkaisr2_1420768822414DKuOB_JPEG%2F%25B1%25A4%25BE%25C8%25B8%25AE%25C2%25F2%25C1%25FA%25B9%25E6%252C7.jpg&type=ofullfill340_600',\n",
       " 'https://search.pstatic.net/common/?src=http%3A%2F%2Fblogfiles.naver.net%2FMjAxOTEyMzFfMjM0%2FMDAxNTc3Nzk1Njg5OTkx.adFS20dhGrHmWlH7MYPaRTB5SpfhJyEBdqvA8v6G1XQg.GV2jvNfDsOG3WYmfKriOjXloN-cPc-HFX1FPBZZgL18g.JPEG.dhkdqudwls%2F16.JPG&type=a340',\n",
       " 'data:image/gif;base64,R0lGODlhAQABAIAAAAAAAP///yH5BAEAAAAALAAAAAABAAEAAAIBRAA7',\n",
       " 'data:image/gif;base64,R0lGODlhAQABAIAAAAAAAP///yH5BAEAAAAALAAAAAABAAEAAAIBRAA7',\n",
       " 'data:image/gif;base64,R0lGODlhAQABAIAAAAAAAP///yH5BAEAAAAALAAAAAABAAEAAAIBRAA7',\n",
       " 'https://search.pstatic.net/common/?src=http%3A%2F%2Fblogfiles.naver.net%2F20130810_141%2Fdangangb_1376146732349MUcAd_JPEG%2FSAM_0346.JPG&type=ofullfill340_600',\n",
       " 'https://search.pstatic.net/common/?src=http%3A%2F%2Fblogfiles.naver.net%2F20130917_156%2Fghdrl6614_13793830072208n4Bl_PNG%2FIMG_20130917_5.png&type=ofullfill340_600',\n",
       " 'https://search.pstatic.net/common/?src=http%3A%2F%2Fblogfiles.naver.net%2F20151123_56%2Fmiryangsi_1448264829933tF8Li_JPEG%2F%25B9%25AB%25BE%25C8.jpg&type=a340',\n",
       " 'https://search.pstatic.net/common/?src=http%3A%2F%2Fblogfiles.naver.net%2F20121030_128%2Fpjh0joo33_1351556626578yCRyB_JPEG%2FiPhone_1.jpg&type=a340',\n",
       " 'https://search.pstatic.net/common/?src=http%3A%2F%2Fblogfiles.naver.net%2F20120830_105%2Fyoshi0_1346313791023clTB1_JPEG%2F120827_003.jpg&type=a340',\n",
       " 'https://search.pstatic.net/common/?src=http%3A%2F%2Fblogfiles.naver.net%2F20141205_122%2Fblingchina_1417705677844VrqxM_JPEG%2F20140730_113608.jpg&type=a340',\n",
       " 'https://search.pstatic.net/common/?src=http%3A%2F%2Fblogfiles.naver.net%2F20160122_55%2Fnangenius1_145345413774749E43_JPEG%2F20160120_183200.jpg&type=ofullfill340_600',\n",
       " 'https://search.pstatic.net/common/?src=http%3A%2F%2Fblogfiles.naver.net%2FMjAyMTAzMDNfMjA5%2FMDAxNjE0NzI3MjY2Mjc5.qLMZNHZiNBHUpSktYdAy94steRo1wxmX9Ax91ZkfJEMg.I7TV_LIBWSr5eaUfZndjPzcbyKMqAoluisZ99df7utsg.JPEG.chltnr2529%2F20210219_145430.jpg&type=a340',\n",
       " 'https://search.pstatic.net/common/?src=http%3A%2F%2Fblogfiles.naver.net%2FMjAyMTAxMTNfMjEz%2FMDAxNjEwNTQyNTI3MDAy.-V_ocGr5UeFLU7FTzfdQjsyoEB3Tw_-j8usiAmQlsaEg.tamwlBL-RyLPL2QoslL1hrJnuiE7Uyd5mSraeYKaf9gg.JPEG.chj1543%2F20210113%25A3%25DF192917.jpg&type=a340',\n",
       " 'https://search.pstatic.net/common/?src=http%3A%2F%2Fblogfiles.naver.net%2F20130625_161%2Fpeach_set_1372128883413CLDsl_JPEG%2F20130620_165856.jpg&type=a340',\n",
       " 'https://search.pstatic.net/common/?src=http%3A%2F%2Fblogfiles.naver.net%2FMjAyMTAxMzBfOTEg%2FMDAxNjEyMDA0NDk3OTMx.TPzQEiCEXNBb2n0wYDTIR1jT6oMjKdGm0ktKUvZFgUQg.7ScCjygWaa-3OAgG0Fvr30XScIvCwK3i5N3OzRb8eBkg.JPEG.nyy12677%2FIMG_1161.jpg&type=a340',\n",
       " 'https://search.pstatic.net/common/?src=http%3A%2F%2Fblogfiles.naver.net%2FMjAyMTA0MDZfNjcg%2FMDAxNjE3NjM0OTI5NjYx.vzU9iqMWz-GHljf9P7i18OelvQkdL9j-M7VO1szBlGEg.2mtYGd_QnRT0CA68gtqEeA6zQ26THiuX0k7N2_r9PJkg.JPEG.ohdongyeol752%2FKakaoTalk_20210405_235456457.jpg&type=a340',\n",
       " 'https://search.pstatic.net/common/?src=http%3A%2F%2Fblogfiles.naver.net%2FMjAxNzAyMDZfOSAg%2FMDAxNDg2MzczMDE3NTcx.iVWZW_zYTlpCjNQFdYofU11XjMBJCgO4ghb-_aKnfeAg.5bgehuHS833yUk6VvcqFS0vD2zVKhoJ613bn6CoeScUg.JPEG.white577%2F%25BF%25C2%25C3%25B5%25C3%25B5%25B8%25C0%25C1%25FD%252C_%25BA%25CE%25BB%25EA%25B5%25C5%25C1%25F6%25B1%25B9%25B9%25E4%25B8%25C0%25C1%25FD%252C_%25BB%25E7%25C1%25F7%25B5%25BF_%25B5%25C5%25C1%25F6%25B1%25B9%25B9%25E4%252C_%25C7%25D5%25C3%25B5%25C0%25CF%25B7%25F9%25B5%25C5%25C1%25F6%25B1%25B9%25B9%25E4%252C_%25BC%25F6%25C0%25B0%25B9%25E9%25B9%25DD%252C_%25B8%25F0%25B5%25EB%25B1%25B9%25B9%25E4%252C_%25B3%25EE%25C0%25CC%25B9%25E6%25C0%25D6%25B4%25C2_%25B5%25C5%25C1%25F6%25B1%25B9%25B9%25E4%25C1%25FD_%25288%2529.JPG&type=a340',\n",
       " 'https://search.pstatic.net/common/?src=http%3A%2F%2Fblogfiles.naver.net%2F20121221_97%2Fjh1007a_1356017157670aqrMu_JPEG%2F%25BB%25E7%25C1%25F8_265.jpg&type=a340',\n",
       " 'https://search.pstatic.net/common/?src=http%3A%2F%2Fblogfiles.naver.net%2F20130325_267%2Fgogomiraero_1364186498561FHeRb_JPEG%2F1364186150212.jpg&type=a340',\n",
       " 'https://search.pstatic.net/common/?src=http%3A%2F%2Fblogfiles.naver.net%2FMjAxNzExMzBfMjk2%2FMDAxNTEyMDE1NTQ1NTQy.mTTXWrf7ccvjonD325jJkD2flaAjzvzGX8zvYHYojtEg.ws32f0JTYY4B7mGwQXexy-d0QGjBrCUyzhnsNpzslHog.JPEG.nightingyj1004%2F3.jpg&type=a340',\n",
       " 'https://search.pstatic.net/common/?src=http%3A%2F%2Fblogfiles.naver.net%2F20160314_239%2Fsagina_1457966388890rYbLa_JPEG%2FattachImage_1522306646.jpeg&type=a340',\n",
       " 'https://search.pstatic.net/common/?src=http%3A%2F%2Fblogfiles.naver.net%2FMjAxOTExMjhfOTAg%2FMDAxNTc0OTA3NjUyMjUw.w_JD8oZhW8aL8sZtl3d3-ekXrQhHtPpQOiNk8O3AtOog.GwF4Yw6fnGhHsgcQCk0alRy4ugdcBLp7jn8p80XmojYg.JPEG.hj6835%2F%25B4%25EB%25B1%25B8_%25B1%25B9%25B9%25E4_%25B8%25C0%25C1%25FD_%25BA%25F1%25BB%25EA%25B5%25BF_%25BD%25C5%25B8%25B6%25BB%25EA%25BD%25C4%25B4%25E7_%25BC%25F6%25C0%25B0_%25B0%25ED%25B1%25E2%25B9%25E414.jpg&type=a340',\n",
       " 'https://search.pstatic.net/common/?src=http%3A%2F%2Fblogfiles.naver.net%2F20140301_136%2Fyoonmj0751_1393677466471kVD0i_JPEG%2F1393677463330_20140301_200302.jpg&type=a340',\n",
       " 'https://search.pstatic.net/common/?src=http%3A%2F%2Fblogfiles.naver.net%2FMjAxNzA3MjVfMjc2%2FMDAxNTAwOTc1MTExMDQ1.RQPxfFF-3QH-tRhQZpwJJCp1ABAlECthvX6Dbl8kUTQg.YiNlBvvjr72lkuITqOvBR9LdUYgYXN8_a_HadGJeTvkg.JPEG.mysowon1004%2F%25C7%25D8%25BF%25EE%25B4%25EB%25B5%25C5%25C1%25F6%25B1%25B9%25B9%25E4_%252815%2529.JPG&type=a340',\n",
       " 'https://search.pstatic.net/common/?src=http%3A%2F%2Fcafefiles.naver.net%2FMjAyMDA0MTJfMTc0%2FMDAxNTg2NzAxMzg1OTU0.zp3aNWqVMhyIdczW9a1mQzqeeV1mfkVZQK9P-_akTYwg.xzA5vuqs8I0-jOIpYwlDsbs9Eg3mJPhhKr_nqIaGHJ0g.JPEG%2FexternalFile.jpg&type=a340',\n",
       " 'https://search.pstatic.net/common/?src=http%3A%2F%2Fblogfiles.naver.net%2FMjAyMTAzMThfMjE5%2FMDAxNjE2MDI5MDkzMTMz.nu-ih4UR7ywA4yk1EH44qEJ_fSqcB16I-XDCJEgjt_Mg.IoXAWMFlEGgfUDXIyGnI-PxDICOd4Y42Nlf2XqEHKMwg.JPEG.taebaek_city%2FIMG_4210.jpg&type=a340',\n",
       " 'https://search.pstatic.net/common/?src=http%3A%2F%2Fcafefiles.naver.net%2FMjAyMDAxMDJfMTkg%2FMDAxNTc3OTUzNjE4NDM4.WRmd_x1oZ4Ahi-xFHji5DFgSfGK4U5C9-A2CWTM49uUg.x1V7ZGA2BnSY22Z6KcGwrEx10kGGXaP4LRC3Yq0tGX4g.JPEG%2FexternalFile.JPG&type=ofullfill340_600',\n",
       " 'https://search.pstatic.net/common/?src=http%3A%2F%2Fblogfiles.naver.net%2F20140510_285%2Fyura066_1399702619203ma5Qt_JPEG%2FSAM_2801.JPG&type=a340',\n",
       " 'https://search.pstatic.net/common/?src=http%3A%2F%2Fpost.phinf.naver.net%2FMjAxNzA5MTBfMjc4%2FMDAxNTA1MDM5ODkzMDQy.Y7V2B_W1ij7NVTSABb9PtZdKiI4fI1OauSDyM5q83agg.aKILlWk8dx8BvtVN7IU5DAPNcbL7BmfQfbDolBwxl6wg.JPEG%2FIvgpkgh_J8-HTu2SBNFL8T8vFddU.jpg&type=a340',\n",
       " 'https://search.pstatic.net/common/?src=http%3A%2F%2Fblogfiles.naver.net%2FMjAyMTAzMjhfMiAg%2FMDAxNjE2OTEzOTU0MjQ3.Nk0s1SM8Fm0sOlGqL6EGShr5K-Zj483CShfW_1Q-A3Ug.Lg8vQGjHGu_49rzBba8YAumSqNjFLv1kXO9UZsfmL8Mg.JPEG.handy_window%2FKakaoTalk_20210328_124530714_09.jpg&type=a340',\n",
       " 'https://search.pstatic.net/common/?src=http%3A%2F%2Fblogfiles.naver.net%2F20161011_236%2Flylhy71ih_1476166413437xcrTp_JPEG%2FKakaoTalk_20161011_143538098.jpg&type=a340',\n",
       " 'https://search.pstatic.net/common/?src=http%3A%2F%2Fblogfiles.naver.net%2FMjAyMTAxMjhfMjk2%2FMDAxNjExODM1NDM3MzA4.8itw_g23Oxb2FigDshaQut0ahW9VoW9NTKT1HNg2UfQg.zNA5Fg-XXUckqrtLdfq470gb58_Be-qFLnQSVHdE-eog.JPEG.orols_%2FIMG%25A3%25DF20210128%25A3%25DF28.jpg&type=a340',\n",
       " 'https://search.pstatic.net/common/?src=http%3A%2F%2Fblogfiles.naver.net%2FMjAxODA1MTZfMTM2%2FMDAxNTI2NDU0NzU0ODgy.BBPbjCWcvmLsQiHBhEFLRt_dcn7s72DJ9OmR0ce6F8kg.aeG_C16iuNwE1oMbSpgILzFpLsHFZhHfwdMP2VPYsfAg.JPEG.kyj4413601%2F%25BC%25F8%25B4%25EB%25B1%25B9%25B9%25E4_%25C4%25AE%25B7%25CE%25B8%25AE_%25281%2529.jpg&type=a340',\n",
       " 'https://search.pstatic.net/common/?src=http%3A%2F%2Fblogfiles.naver.net%2FMjAyMTAzMTZfMTYx%2FMDAxNjE1ODc4MDIyODcw.wY4aBU-N7w4VRoWRfW55LmvNa2zEmccspoWslZ1Rt9Ug.MGE0vrpwjNSD8rWad0SfvDrKngm2_5z7xeL6IjvVjcIg.JPEG.nestblue0315%2FKakaoTalk_20210303_223813775_01.jpg&type=a340',\n",
       " 'https://search.pstatic.net/common/?src=http%3A%2F%2Fblogfiles.naver.net%2FMjAyMTAzMjJfMjc1%2FMDAxNjE2Mzk1NjM0ODI4.trEKKvjCNnlW2aIQE4_lPPf8DFXw2MlTL33pttyc3LYg.hK9ctTwDECWrZWetk2qHL-tj7fFOnvjNEv9TPqwl6vAg.JPEG.akejdcn%2FIMG_0033.jpg&type=a340',\n",
       " 'https://search.pstatic.net/common/?src=http%3A%2F%2Fblogfiles.naver.net%2FMjAyMTAzMTRfNTgg%2FMDAxNjE1NjQ5MDIwOTQ1.0qfMCF93NUNuDWQT4xacqh7PeeNjcr6EwsA9gcz2UyEg.N-4auvIKRQ9K0jmh5m-zl36HLKlVk_1D6SOsFGTyF8Mg.JPEG.jundogi%2FIMG_2391.jpg&type=a340',\n",
       " 'https://search.pstatic.net/common/?src=http%3A%2F%2Fblogfiles.naver.net%2FMjAyMTAxMTdfMjAz%2FMDAxNjEwODk0MTE4NTgx.P3IrSGAZgmeHzHZqu4cFWufYfrrlv__nvmZuEUKqvrgg.U_HtP8OBlnvKMaXjBVAJO0K3Jm0foB90M5T77poV3I4g.JPEG.pon03099%2FIMG_6511.jpg&type=a340',\n",
       " 'https://search.pstatic.net/common/?src=http%3A%2F%2Fblogfiles.naver.net%2FMjAyMTAyMDhfNzcg%2FMDAxNjEyNzgxODQ5MzM2.FD4uIWugFm4H57fTHmS23z6f-A31wPO4CZUxn3gGUJ8g.1VJC1fAS9Zz1LFf8oWmDgNmb3AkSmSXIvSU2gjCidiYg.JPEG.gmdtns5488%2Foutput_49037383.jpg&type=a340',\n",
       " 'https://search.pstatic.net/common/?src=http%3A%2F%2Fblogfiles.naver.net%2F20151115_58%2Fdleisl5_1447513409244ze3IO_JPEG%2F%25B1%25B9%25B9%25E4%259D%256F_%25281%2529.jpg&type=a340',\n",
       " 'https://search.pstatic.net/common/?src=http%3A%2F%2Fblogfiles.naver.net%2FMjAyMTAzMjVfNzcg%2FMDAxNjE2NjY5NTMzODE4.YH-k4p2rpcMOa3CHJ3PpKwns4_RCDbOdB7LMZUG5v6wg.5lHMmFmA8ewZPeuCx-AHER17dtBvPJDBABcVDjGukp4g.JPEG.050505yeon%2F5AACEE14-4611-4A07-9F62-23E230FFEFED.jpeg&type=a340',\n",
       " 'https://search.pstatic.net/common/?src=http%3A%2F%2Fblogfiles.naver.net%2FMjAyMDEwMjZfMjE2%2FMDAxNjAzNjQyMTgyNDk4.uhAWfiQd20PPRMopYumPtm90fF6IJNI6B-WgnRCuMLog.nmMoC6rD4THcmnaZHNUK35aLNGoCbZ13m_hn2bNfUC4g.JPEG.jsgo76%2F20201024%25A3%25DF131237.jpg&type=a340',\n",
       " 'https://search.pstatic.net/common/?src=http%3A%2F%2Fblogfiles.naver.net%2F20130117_151%2Fkdhnim_1358404573414DPCY4_JPEG%2F_DSC9344.jpg&type=a340',\n",
       " 'https://search.pstatic.net/common/?src=http%3A%2F%2Fblogfiles.naver.net%2F20121019_298%2Fsooniea_1350576219843v5saX_JPEG%2F20121018_202024.jpg&type=a340',\n",
       " 'https://search.pstatic.net/common/?src=http%3A%2F%2Fimage.nmv.naver.net%2Fblog_2021_04_14_664%2F0b61cd4e-9d08-11eb-8076-246e963a4708_01.jpg&type=a340',\n",
       " 'https://search.pstatic.net/common/?src=http%3A%2F%2Fcafefiles.naver.net%2FMjAyMDA1MDJfMTY5%2FMDAxNTg4NDE2NTcyMzgx.sQ7kFl9mRfEBRvEx4ax1ZD1Kg4CAhTkOWWiZ4gLvIiwg.ahEpHgk46CnOYbfWiolnDyXYJgMPA3V0C-VVay9i4qog.JPEG%2FexternalFile.jpg&type=a340',\n",
       " 'https://search.pstatic.net/common/?src=http%3A%2F%2Fblogfiles.naver.net%2F20130721_173%2Fjieunpark92_1374410091597WfYEx_JPEG%2F1374410089476_20130705_162712.jpg&type=a340',\n",
       " 'https://search.pstatic.net/common/?src=http%3A%2F%2Fblogfiles.naver.net%2FMjAxNzA1MTZfMjkx%2FMDAxNDk0ODk4NzQ5MDI0.3GVwMXrYd4jMVNv-s9EKWLn_BYfzQivDgu0V6Tey3pcg.6VxW0tVwBe0kuMrNcE4u1b2GPxeTKfKs8alFpT8ec_Ug.JPEG.fkslghdud%2FP20170515_192520000_0C6F32A6-CAEF-4A63-BC53-3DAEBC216F06.JPG&type=a340',\n",
       " 'https://search.pstatic.net/common/?src=http%3A%2F%2Fblogfiles.naver.net%2FMjAxNjEwMjZfODgg%2FMDAxNDc3NDYyOTU0Mzkz.2UgqkbVKNdBUmNUuIa6jWdI25lnmPE1D7a74_0yDUIYg.DXenABK3nSfRr4stwDvRekJw0UY8Xz9MzLkTonWWAzEg.JPEG.enyqefbqw%2F%25B1%25B9%25B9%25D9_%25A4%25B2.jpg&type=a340',\n",
       " 'https://search.pstatic.net/common/?src=http%3A%2F%2Fblogfiles.naver.net%2F20120222_181%2Festeem5002_1329902674296YR5X2_JPEG%2FP2203463.jpg&type=a340',\n",
       " 'https://search.pstatic.net/common/?src=http%3A%2F%2Fblogfiles.naver.net%2F20110914_276%2Fedanj_1315964116858uH7pY_JPEG%2FP1010493.JPG&type=a340',\n",
       " 'https://search.pstatic.net/common/?src=http%3A%2F%2Fblogfiles.naver.net%2FMjAyMTA0MDFfMzQg%2FMDAxNjE3Mjg2MjQ3MzUz.266d5OFCPzHAPmrNEOdoJKLb6G36RGnRSfRENRmKnpAg.TSGqaajl5fWR09s0CXaHFZ62QW-MRAi1wno38fMF8Vcg.JPEG.kh723%2FIMG_0056.JPG&type=a340',\n",
       " 'https://search.pstatic.net/common/?src=http%3A%2F%2Fblogfiles.naver.net%2F20141112_197%2Fzxc9255_1415786354778Y5mdd_JPEG%2F20141107_122924.jpg&type=ofullfill340_600',\n",
       " 'https://search.pstatic.net/common/?src=http%3A%2F%2Fblogfiles.naver.net%2F20110523_211%2Fyuullkk100_13061111097905kpVh_JPEG%2F%25BB%25E7%25C1%25F8_165.jpg&type=a340',\n",
       " 'https://search.pstatic.net/common/?src=http%3A%2F%2Fblogfiles.naver.net%2FMjAyMTAyMDdfMTk4%2FMDAxNjEyNjcyOTg2MjEw.PT7y9ZT6N1OnMxYLmpi1m3agppX_iDVeFpD_sXEroU4g.OWaCbs_e0_qqpsCdpE1TCpGuYEZCSdQ6ZF8GMa0HYC8g.JPEG.xia0788%2FIMG_0171.jpg&type=a340',\n",
       " 'https://search.pstatic.net/common/?src=http%3A%2F%2Fblogfiles.naver.net%2FMjAyMTAxMjlfMTE1%2FMDAxNjExOTA1NDk3ODgw.7x9FIDF5xhy3UT8hhSfOudtnCGnwCae0YtT7-1cvdxEg.lzIhhWQkdVSuDGZYTb8cvJO7a3Qj_XYfb0ZhAZXV5r4g.JPEG.hugo4216615%2F20210127_122212.jpg&type=a340',\n",
       " 'https://search.pstatic.net/common/?src=http%3A%2F%2Fblogfiles.naver.net%2FMjAyMTA0MjNfMTUx%2FMDAxNjE5MTU2NTkzMjgy.lGHG_RCIe6_2Ai5IXiikSylf6-TTY8GDDY2AGEGxeRog.eNnQnamcm9a8WUV9H9uHeRG9iiP9ORtu7-Iq38CqduYg.JPEG.jamescho74%2FKakaoTalk_20210423_143629403.jpg&type=a340',\n",
       " 'https://search.pstatic.net/common/?src=http%3A%2F%2Fblogfiles.naver.net%2FMjAyMTA0MjNfMTUx%2FMDAxNjE5MTU2NTkzMjgy.lGHG_RCIe6_2Ai5IXiikSylf6-TTY8GDDY2AGEGxeRog.eNnQnamcm9a8WUV9H9uHeRG9iiP9ORtu7-Iq38CqduYg.JPEG.jamescho74%2FKakaoTalk_20210423_143629403.jpg&type=a340',\n",
       " 'https://search.pstatic.net/common/?src=http%3A%2F%2Fblogfiles.naver.net%2FMjAyMTA0MTNfMjEw%2FMDAxNjE4Mjk3NjUzNjQ3.N5GSkZlqraEYPMXb4p8VYw8o0OwPWnDKFWPlmNX91NIg.HJfme17yk7Rq5JyXcJHFCbxrUISRd9vWOXRwhmmtrzQg.JPEG.jaeyouuu%2F20210407_121417.jpg&type=ofullfill340_600',\n",
       " 'https://search.pstatic.net/common/?src=http%3A%2F%2Fblogfiles.naver.net%2FMjAyMTAzMDlfOTgg%2FMDAxNjE1MjUxMTMxOTcy.UNgpLmRMjDvShmejBrzNC400WvuGp3tZV1BgeYqGPtUg.aWtRImoTAMujcBbO3s_WhwZJprpUnOBhSyZYGRshCUIg.JPEG.hyeon2466%2F20210302%25A3%25DF115329.jpg&type=a340',\n",
       " 'https://search.pstatic.net/common/?src=http%3A%2F%2Fblogfiles.naver.net%2FMjAyMTAzMjRfNjUg%2FMDAxNjE2NTQ5NzQ0NTE2.Lnpse1ES8ZRzw00o4ass9u_6RzPLS4YoaN-FFXJakuwg.iLbrQAGT1m4Lk5gcHQx58Jz54cyIlVwayLZ_bpfwK8og.JPEG.youasyouu%2F20210321_180435.jpg&type=a340',\n",
       " 'https://search.pstatic.net/common/?src=http%3A%2F%2Fblogfiles.naver.net%2FMjAyMDEyMTBfMTUy%2FMDAxNjA3NTg3ODMxMTU0.zmlkp1QZuDveOQf5FN_3EZJv0IaKjZRlAqbWL5O6S-Qg.gitzmyxbka7hSb9NxdHOdbroAm84AH9Fl4L3z32JcVAg.JPEG.chicmay%2F20201205%25A3%25DF125841.jpg&type=a340',\n",
       " 'https://search.pstatic.net/common/?src=http%3A%2F%2Fblogfiles.naver.net%2FMjAyMTAzMjZfMjA3%2FMDAxNjE2NzYyNjk0OTQ1.QxBT1YNuqvv2CRZIUTmR4DbMghc4hrzKJTWhOnMzgukg.D9z4uS2gEPJ7bXeXrb3CQBDndTw3zLSVG_5RT-dY4_0g.JPEG.csy7509%2F1616761594180.jpg&type=a340',\n",
       " 'https://search.pstatic.net/common/?src=http%3A%2F%2Fblogfiles.naver.net%2F20150622_96%2Fdabigirl3_1434947182672aPGNn_JPEG%2FIMG_3187.JPG&type=a340',\n",
       " 'https://search.pstatic.net/common/?src=http%3A%2F%2Fblogfiles.naver.net%2FMjAyMTA0MjRfMTIz%2FMDAxNjE5MjcyODUyNDY3.o9VN7P8Tryzgy4X235HqiJ9xvxx_gntJywtqxXslX_Ag.tSU2izehyESX_CPHxdyuGaE0wOdQpHWs-LK2y3lpNz8g.JPEG.elfruca1025%2FIMG_5962.JPG&type=a340',\n",
       " 'https://search.pstatic.net/common/?src=http%3A%2F%2Fblogfiles.naver.net%2FMjAyMTAyMDFfMjcx%2FMDAxNjEyMTE1NzMzMDkz.XfJ9bCd6n6fzwtM7yBWmqYxq2Nux4yvSpnyQYkG5f1Ig.xzIoWAY0KFdGjYdyXFAG33FIMpTgZ3SHNG77HE7W01Ag.JPEG.pyewacket%2FIMG_0599.jpg&type=a340',\n",
       " 'https://search.pstatic.net/common/?src=http%3A%2F%2Fblogfiles.naver.net%2FMjAyMTA0MjRfMTE4%2FMDAxNjE5MjY1ODM0MzI4.2r5vPJEYTaMukhMudmQXx4yYzfVy4HcxRn3CvtqUQeYg.PRXNMIZ9vPBQdsNSMUyEzXM5gSBdSTvclUCOyPTzHIUg.JPEG.4myself51%2F%25BB%25E7%25B8%25AE%25BF%25F83.jpg&type=a340',\n",
       " 'https://search.pstatic.net/common/?src=http%3A%2F%2Fblogfiles.naver.net%2FMjAyMTAzMDJfMjIg%2FMDAxNjE0NjYwNTY3OTg0.Ae1xRR8nb3h7ZvkkLLZnX8aGo53FM8bC_zxWJFZqxa0g.nAlLF8AaGw29Z6wykiDYr-nSFgsDZmIUuDUjhcCEpIMg.JPEG.vibefeel1%2F1614660417886.jpg&type=a340',\n",
       " 'https://search.pstatic.net/common/?src=http%3A%2F%2Fblogfiles.naver.net%2FMjAyMTAzMTdfNjQg%2FMDAxNjE1OTYxMDc1NDU3.GkzHJZhb57lewPpan_hxcwEvymOKSGE3mF-kHn5YlCwg.fp9hsHxCr9caEQI8cUgS_OD7OOUY0dRYpwhkqXnHCGMg.JPEG.les7495%2FKakaoTalk_20210317_145636825_12.jpg&type=a340',\n",
       " 'https://search.pstatic.net/common/?src=http%3A%2F%2Fblogfiles.naver.net%2FMjAyMTA0MTlfMTg4%2FMDAxNjE4NzkzNTUzMDIw.6zcseZfi8mlPyp1pdrPx7wrNXLHj7qpuLpD4Xaz0iY4g.BN0ICzMK8mBiWDwwsBK6IeZMsSUyV3zm-KTq5_o2Z7sg.JPEG.elismayer%2F%25C4%25E1%25B3%25AA%25B9%25B0%25B1%25B9%25B9%25E4.jpg&type=a340',\n",
       " 'https://search.pstatic.net/common/?src=http%3A%2F%2Fblogfiles.naver.net%2FMjAyMTAzMzBfMTMx%2FMDAxNjE3MDc4NDQ4NTM2.cCOPPwAttCHYOeUVrmC5kcyMsOh4LLoJtimQRX6WsrYg.tJOxbJMPpgfj5NMNnwkJTlIeWaslS4qiiy0kHkRxMc8g.JPEG.since0819%2F2021-03-30-09-16-07-644.jpg&type=a340',\n",
       " 'https://search.pstatic.net/common/?src=http%3A%2F%2Fblogfiles.naver.net%2F20131014_256%2Fminwoohyuk17_1381739529143i6vUO_JPEG%2F%25BB%25E7%25C1%25F8_1062.jpg&type=a340',\n",
       " 'https://search.pstatic.net/common/?src=http%3A%2F%2Fblogfiles.naver.net%2FMjAyMTA0MTVfMjM4%2FMDAxNjE4NDI0NjE1NzA1.VhyhZ5PCB1JPJBpESRECsxOBa4ORlq4cJyG_bYlunBUg.xuA3NqyqdZl1NDIb1YCa3LfAB4jqo5HMpqm9sr15udgg.JPEG.nomal0285%2FKakaoTalk_20210415_032259928_09.jpg&type=a340',\n",
       " 'https://search.pstatic.net/common/?src=http%3A%2F%2Fblogfiles.naver.net%2FMjAyMTA0MDhfOTIg%2FMDAxNjE3ODU4NTc0OTU1.3RE6NLI2C7m-YK3TfJINtbH_ieYIqCJj7r2LHIOzEZYg.9WRUyWjHwf1RgiZCTDYwKyWLkBDmaLPQytGBJLMddGQg.JPEG.0118kjy%2FIMG_0879.jpg&type=a340',\n",
       " 'https://search.pstatic.net/common/?src=http%3A%2F%2Fblogfiles.naver.net%2FMjAyMTA0MTZfMjY4%2FMDAxNjE4NTAyNDc5NjE2.m7pkalJNePji-7rjXKnqJ5hAUOFIXwxICwdnVQOB1Zog.uYYnGQ9YWb94eHfOet80hC6OpPpWxLvT3dXf-4JKKlkg.JPEG.suyazzz%2FIMG_8677.jpg&type=a340',\n",
       " 'https://search.pstatic.net/common/?src=http%3A%2F%2Fblogfiles.naver.net%2FMjAyMTAzMDhfMjE3%2FMDAxNjE1MTkyNjA1OTA2.8xgQq5md0JHYhFymeXdGTzPh8IuLn3JXzKNVqRc57x8g.lHPMFzBCaATDQJG-8VpkqUdxfI13hi2ave93dWai-oIg.JPEG.akdl121%2FIMG_4129.jpg&type=a340',\n",
       " 'https://search.pstatic.net/common/?src=http%3A%2F%2Fblogfiles.naver.net%2FMjAyMTA0MTFfOTYg%2FMDAxNjE4MTQ3NzE0NzA2.mXRaiHwWU-945kfDM4RRvuHCTsNjtdsu7NwHoAx366cg.CNksHibJLq3Bh0xHiyiqaFuSnHJ5-7AnBdDNbQDsUZ4g.JPEG.wonsik0516%2FIMG_9982.jpg&type=a340',\n",
       " 'https://search.pstatic.net/common/?src=http%3A%2F%2Fblogfiles.naver.net%2FMjAyMTAzMDVfMTAg%2FMDAxNjE0OTA1NDI0NDg5.xToQv9Hupya7vGpVGlnJ6iuew6aw59lKJ4h7ptgGVWkg.SoDlHQkmd5BxP58HGrlnyBK-T9K70wEp-WT0HrC-8pwg.JPEG.ahee0426%2FIMG_4680.JPG&type=a340',\n",
       " 'https://search.pstatic.net/common/?src=http%3A%2F%2Fblogfiles.naver.net%2F20161020_125%2Frkdkfkek0708_1476969915631NayAv_JPEG%2F20160801_004306.jpg&type=a340',\n",
       " 'https://search.pstatic.net/common/?src=http%3A%2F%2Fblogfiles.naver.net%2FMjAyMTAzMzFfMzkg%2FMDAxNjE3MTg2MTEzODg2.8pGNCmZVawlysTfB4jnZRDRy0qiElE8KR_SQhp3Pj4Eg.jItcTXbmjg8kUxYQ1zRgM0OhNXU0M-p4Gfc17Ge5mNcg.JPEG.ioivvvv%2F20210331%25A3%25DF122124.jpg&type=a340',\n",
       " 'https://search.pstatic.net/common/?src=http%3A%2F%2Fblogfiles.naver.net%2F20140730_266%2Ftodamceo_1406687839728hjClk_JPEG%2FKakaoTalk_20140727_235813273.jpg&type=a340',\n",
       " 'https://search.pstatic.net/common/?src=http%3A%2F%2Fblogfiles.naver.net%2FMjAyMTAyMjBfOTcg%2FMDAxNjEzNzUzMDg0ODAz.Res_4UQPJ1hILb9kZDNEIBTUoUrnNeRFMG-0aBqdJYsg.mcJzQWCqHyHwbYfNBlGH35LrXH3bZfxt6-nWmif-HhIg.JPEG.jhmok123%2FEuCmzDQVoAcd5eT.jpg&type=a340',\n",
       " 'https://search.pstatic.net/common/?src=http%3A%2F%2Fblogfiles.naver.net%2FMjAyMTAxMjVfOTYg%2FMDAxNjExNTU3OTYyNDE4._ov3V9783N0fDgfmyFSfgbQDU0JpBsWn8CpXL-4Lg44g.UF6_DqrodpiGM3lGAmsdW35OgCkOPH2e4YkIxR8yba4g.JPEG.ooops120%2F%25A3%25DF1_%25A3%25A8111%25A3%25A9.jpg&type=a340',\n",
       " 'https://search.pstatic.net/common/?src=http%3A%2F%2Fblogfiles.naver.net%2FMjAyMTA0MTJfMTk5%2FMDAxNjE4MjIyODEzMDA4.svTsP5yjxGwgFj5oOgDCGnTXFwdtxXBxuS0RhhErR9cg.6um8BSphosN75mHsejXcCcipuzUEuO_LgCbUB-px2nYg.JPEG.oun0621%2FIMG_6201.jpg&type=a340',\n",
       " 'https://search.pstatic.net/common/?src=http%3A%2F%2Fblogfiles.naver.net%2F20160530_1%2Falexandy_1464568363613jI259_JPEG%2F20160529_113554.jpg&type=a340',\n",
       " 'https://search.pstatic.net/common/?src=http%3A%2F%2Fblogfiles.naver.net%2FMjAxNjEwMjJfNTYg%2FMDAxNDc3MTE5MzI0NzI5.Djb7ngbWmYkOgMQJJL_0v5xNZwWMcwr-tDQBuaPFljMg.X1xh7nJGBPJ5ZcKezLNOco8WDqO6rDKWlZkEgaMAxV0g.JPEG.theka25%2Fse3_image_1880475103.jpg&type=a340',\n",
       " 'https://search.pstatic.net/common/?src=http%3A%2F%2Fblogfiles.naver.net%2FMjAyMTAyMjJfMjQg%2FMDAxNjEzOTc1OTcwNTcy.4jRIRLOOb1vsVaiLoXUYTW0BVYq92tYVwdbBRWD3uHsg.Nl1-PdQJ41JCQVnKwziYam0wuotXW1zIFH3QkRN_kwQg.JPEG.shinheezoa%2FDFC7914C-A71C-4B24-84A4-066EA7B3BF82.jpg&type=a340',\n",
       " 'https://search.pstatic.net/common/?src=http%3A%2F%2Fblogfiles.naver.net%2FMjAyMTA0MDNfMjk4%2FMDAxNjE3NDU0MzE2NDA2.JlOkDRXE3z3B2zCgTijwaqt9xmxKAJtwWeIWDyUKPe4g.5pmL4ghEOY2j79wqNyAYx4_ibOoppuDnlpJxLtFfQnMg.JPEG.3126gfg%2FIMG_0150.jpg&type=a340',\n",
       " 'https://search.pstatic.net/common/?src=http%3A%2F%2Fblogfiles.naver.net%2FMjAyMTA0MjBfMTQ3%2FMDAxNjE4ODc0NTg0NzI5.sBPwttbiAKUkupwBMrNH-Y3ssZ0EmXQS8Id2JDojn2Yg.j88Ex3zvo0jrwACEbBTRSBzt5vH_8mi8g7HBVmTAOpAg.JPEG.myungsoo0727%2F20210419%25A3%25DF192842.jpg&type=a340',\n",
       " 'https://search.pstatic.net/common/?src=http%3A%2F%2Fblogfiles.naver.net%2FMjAyMTAzMzBfOTcg%2FMDAxNjE3MDU5NjY5MzAz.v0SYN4r-An1-_Uvpuip4UfsrkEmCQwY9PXkGIyqonM0g._3EXF1hpCVv1swmR7zO1_ET0tGYX8DcdMyU9ok20wFog.JPEG.rma1380%2F20210227%25A3%25DF084321.jpg&type=a340',\n",
       " 'https://search.pstatic.net/common/?src=http%3A%2F%2Fblogfiles.naver.net%2FMjAyMTAzMDdfMTYg%2FMDAxNjE1MTIzMjI0MDIw.VApOrER2y9QQAm99y7fIYRNju_tpdreUtgeamUOcVekg.E4tcguZ4VGTrU59mFYNHs2Lbh9IxLY6SheDU6VlurQsg.JPEG.braveycindy%2F1615123222592.jpg&type=l340_165',\n",
       " 'https://search.pstatic.net/common/?src=http%3A%2F%2Fblogfiles.naver.net%2FMjAyMTAzMThfMjIg%2FMDAxNjE2MDQ3ODQ0MTE4.CGFBsVuOJfBxrlPkrJr_bIhyLfzpuheE3-iqntuPHq8g.yNTxwjcsDY5GEgZzmt2W-bXXSAbHvMCYqr3a9u86On4g.JPEG.sooooojing%2F1614922204777.jpg&type=a340',\n",
       " 'https://search.pstatic.net/common/?src=http%3A%2F%2Fblogfiles.naver.net%2FMjAyMTAyMjFfMTk0%2FMDAxNjEzODk4NDM4MjI2.PQy9wNfPFZXW7Ld5yDf0PiwSctvDq49dHOMTfAiCOuUg.OASWKxf_3g-RoPNwPmLDlHs5FafBesGphkU6TPvzPUEg.JPEG.polo0780%2F1613898416544.jpg&type=a340',\n",
       " 'https://search.pstatic.net/common/?src=http%3A%2F%2Fblogfiles.naver.net%2FMjAyMTAyMjVfMjg4%2FMDAxNjE0MTc4OTE2NjA1.0jWbjiiwx4eKQUmF-MvKyD_0hWWMQqDu7__kGBZCQV4g.949DVXp4HN1jfeIIJPdHQUTuTcXZdM7SR7ChUnhcrVwg.JPEG.wyekdl%2F20210222%25A3%25DF115246.jpg&type=a340',\n",
       " 'https://search.pstatic.net/common/?src=http%3A%2F%2Fimage.nmv.naver.net%2Fcafe_2021_04_21_360%2F761a6764-a24f-11eb-992d-a0369ff952f4_01.jpg&type=ofullfill340_600',\n",
       " 'https://search.pstatic.net/common/?src=http%3A%2F%2Fblogfiles.naver.net%2FMjAyMTAyMjRfMjI0%2FMDAxNjE0MDk2MzE4ODc4.6DQWSpxBkJUgTDIapFYsoRb-iGBdrxnUkokeIKsyReYg.SwrnzVQ7Qd5_UrqPCZeP7mwqmectmc8MC7KANCua3NAg.JPEG.ghd951212%2FIMG_1389.JPG&type=a340',\n",
       " 'https://search.pstatic.net/common/?src=http%3A%2F%2Fblogfiles.naver.net%2FMjAyMTAzMDFfNjMg%2FMDAxNjE0NTk3MjM2ODU4.I781qRrjmOA2crJMBkQiu6UWRUL2tsI8yJABQ0SMGMYg.0BD6o0Sw_Q2dztsUk6f8wky_D495bIXVGlUpGcSbmOUg.JPEG.tjdgptls%2Foutput_3525431181.jpg&type=a340',\n",
       " 'https://search.pstatic.net/common/?src=http%3A%2F%2Fblogfiles.naver.net%2FMjAyMTAyMTdfMTI2%2FMDAxNjEzNTYwMjQ0NzY5.W__AgFBpQJ2Crtmtf46v4s3b8K_aIxnMW4qPnOeKriog._KK1njZzOs6Nj0-p3it9gaGDpyZPPxzNoQr6hk0PU0Ig.JPEG.rjsdn0519%2F1613560217983.jpg&type=a340',\n",
       " 'https://search.pstatic.net/common/?src=http%3A%2F%2Fblogfiles.naver.net%2F20160415_96%2Fmorninghae_1460693383208WW6yb_JPEG%2F20160415_115839_edit.jpg&type=a340',\n",
       " 'https://search.pstatic.net/common/?src=http%3A%2F%2Fblogfiles.naver.net%2F20140107_299%2Fgkakgkak123_1389066177012Pcb2L_JPEG%2F10.jpg&type=a340',\n",
       " 'https://search.pstatic.net/common/?src=http%3A%2F%2Fblogfiles.naver.net%2FMjAyMDExMjRfMTY4%2FMDAxNjA2MjE5Nzg3NjIz.J-iJ5Nmh-HSip_UMNW5cWvgxRIDMO5GMqnAKz33JIBcg.alo9OUJzOgxokG5PKUQI8FpKz-hytpMGJes2kvloO-4g.GIF.radio_oo_%2F1643997587.gif&type=a340',\n",
       " 'https://search.pstatic.net/common/?src=http%3A%2F%2Fcafefiles.naver.net%2F20100526_190%2Fjshhoney77_1274854978075532KI_jpg%2Fdwagi_jshhoney77.jpg&type=a340',\n",
       " 'https://search.pstatic.net/common/?src=http%3A%2F%2Fcafefiles.naver.net%2F20130925_257%2Ffoxwoo_1380102571391wOwvN_JPEG%2F-2015038526.jpg&type=ofullfill340_600',\n",
       " 'https://search.pstatic.net/common/?src=http%3A%2F%2Fblogfiles.naver.net%2F20120628_243%2Fjustlifesize_1340859775466EWkqr_JPEG%2FDSC02410.JPG&type=a340',\n",
       " 'https://search.pstatic.net/common/?src=http%3A%2F%2Fblogfiles.naver.net%2FMjAyMDExMjhfMjI3%2FMDAxNjA2NTY1Nzg5OTQz.V8nB9Z-azYqLGtFVHmrRsRsOFEhD44gjnGjchSVZJbkg.WqMoBqkMtP0x2mEeEbG5rQ5a4ooXeRLRiG5-9bfNijgg.JPEG.gazelles%2FIMG_8121.jpg&type=a340',\n",
       " 'https://search.pstatic.net/common/?src=http%3A%2F%2Fblogfiles.naver.net%2FMjAyMDExMTZfMTIw%2FMDAxNjA1NTMyNTkwMzQ3.LWSjTM8qOK4mCdf8bZ34hSKW8lHQV56viwAFYuYKEskg.2MtJH0wNNVhsI6j-gm_p7lG_v_G4KSvvpUuMr3KU1Tgg.JPEG.q759%2F20201107131013%25A3%25DFIMG%25A3%25DF9751.JPG&type=a340',\n",
       " 'https://search.pstatic.net/common/?src=http%3A%2F%2Fblogfiles.naver.net%2F20131227_201%2Fshghgus159_138813964897156Lpg_JPEG%2F1388139649020_1388135694737.jpg&type=a340',\n",
       " 'https://search.pstatic.net/common/?src=http%3A%2F%2Fblogfiles.naver.net%2FMjAyMTAzMzFfMjEg%2FMDAxNjE3MTg1NzEzNzU3.2Lt57v9KczbvM_OL915BWWE71ZfoBYzhh5pRMqgJOBAg.x14m6CrFppgYw0LtxQqoennDJ2XIvJbqu-jIEgq4qvkg.JPEG.wkddbstjs62%2FIMG_1010.jpg&type=a340',\n",
       " 'https://search.pstatic.net/common/?src=http%3A%2F%2Fblogfiles.naver.net%2FMjAyMDA5MzBfMTY0%2FMDAxNjAxNDIyMzg3NTU0.gXBZqfnnZ6YCbmWa8jwQ5maW2gX1fZCHaG2aHUT1PsAg.intNfYS1giIbUBKm_gO95hSXhEx5AUY3VtPdCdU7dKEg.JPEG.m_ercie%2FDSC05159.JPG&type=a340',\n",
       " 'https://search.pstatic.net/common/?src=http%3A%2F%2Fblogfiles.naver.net%2F20120909_183%2Fhellotktk_1347184769828WdLH3_JPEG%2F%25B0%25E6%25C1%25D6%25B1%25B9%25B9%25E4_%25BE%25DF%25BD%25C4_%25282%2529.jpg&type=a340',\n",
       " 'https://search.pstatic.net/common/?src=http%3A%2F%2Fblogfiles.naver.net%2FMjAxODEwMzFfOTgg%2FMDAxNTQwOTQ3MTYxNjY3.d5iPWUZBcfb7U5L9WO8493x1sxBIC44vLwLk4pi5tw8g.2QPtxD1qoOxUo3-OaOyyyy-Jw26grzj3NL1K4bCjtP0g.JPEG.wjdthddyd%2F%25BB%25E7%25BB%25F3_%25BD%25C3%25BF%25DC%25B9%25F6%25BD%25BA%25C5%25CD%25B9%25CC%25B3%25CE_%25B8%25C0%25C1%25FD.jpg&type=a340',\n",
       " 'https://search.pstatic.net/common/?src=http%3A%2F%2Fcafefiles.naver.net%2FMjAxNzAyMDhfMTg3%2FMDAxNDg2NTU0NjUwMTQ3.sP_6GLUdES46a-3NFZ4pqXyn8ryV93n0zSu3dbCETVcg.jNWj9YsnVo6Lb9ziz_UBauCW30-2JJsmUP4wu7ry5MUg.JPEG.didghrhks%2FexternalFile.jpg&type=a340',\n",
       " 'https://search.pstatic.net/common/?src=http%3A%2F%2Fblogfiles.naver.net%2F20160713_184%2Fpilineos00_1468384159543n2uAH_JPEG%2F%25B1%25E2%25C5%25B8%25B5%25BF%25C8%25A3%25C8%25B81430197777255.jpeg&type=a340',\n",
       " 'https://search.pstatic.net/common/?src=http%3A%2F%2Fcafefiles.naver.net%2F20150306_13%2Feui7813_1425632391105VSU6W_JPEG%2F1%25B5%25C5%25C1%25F6%25B1%25B9%25B9%25E4.jpg&type=a340',\n",
       " 'https://search.pstatic.net/common/?src=http%3A%2F%2Fblogfiles.naver.net%2FMjAyMTAzMjlfMjg3%2FMDAxNjE3MDE3NzE0OTQw.kXHSgVDWo1VMlcTY1F5QHMM0BXmKtnY1nzFPpeAHyNEg.fFyOrq9xpzng4prHAYSmEOIBfOYYw99wsynAltpaSLEg.JPEG.s2aaa_ch%2FKakaoTalk_20210329_180512749_10.jpg&type=a340',\n",
       " 'https://search.pstatic.net/common/?src=http%3A%2F%2Fblogfiles.naver.net%2FMjAxODEyMTFfMTc4%2FMDAxNTQ0NDg5MDM3NDQz.XSiUBh2A8JsxItsfjAiYo_CD3JAWHA-8ldMP27r7or4g.cXZiQ5B7Z_F4nYiManMOhi4PgVcFlk5kBT3Ocl3-OLIg.JPEG.powcar331%2F%25BC%25F6%25C0%25B0%25B1%25B9%25B9%25E4%25B8%25D4%25BE%25FA%25C1%25F6.jpg&type=a340',\n",
       " 'https://search.pstatic.net/common/?src=http%3A%2F%2Fblogfiles.naver.net%2FMjAyMTAyMDVfMTUy%2FMDAxNjEyNTIxOTcwNzcy._ZaX05FSp-0Dp1CPi1FFgMIwhWACx8FeipFYalWkI5sg.6JawZ6jDwQ0f3cqkNA6F9RXXo6ZehwaAV27skjSzA1kg.JPEG.swhdm1986%2F_SAM3416.JPG&type=a340',\n",
       " 'https://search.pstatic.net/common/?src=http%3A%2F%2Fblogfiles.naver.net%2FMjAyMTAxMjdfMjE0%2FMDAxNjExNzMzNjg0OTQz.ABq7HP9RPNazR9QMxJtGRPq2_WQLOO1Q7AtcqkCqWGog.2vO3btQOxfuw6_g8Hh-0hhNSL05zwznTtgDxKlMa9Nkg.JPEG.yeonat62%2F20210127_140114.jpg&type=l340_165',\n",
       " 'https://search.pstatic.net/common/?src=http%3A%2F%2Fblogfiles.naver.net%2FMjAyMDEyMTdfMjQ1%2FMDAxNjA4MTk5ODU0OTkx.pnkSIeKiCoPfy7bXPvGtgLrAxKujse9e4Xl4GgMSStwg.XPD-hVsTjCrcxfaYEdGY1-y6JbD8I6CFrFKJfq2yT58g.JPEG.tourgoheung%2F20201204_131032.jpg&type=a340',\n",
       " 'https://search.pstatic.net/common/?src=http%3A%2F%2Fblogfiles.naver.net%2F20150214_252%2Ffly7615_14238402845645Q03N_JPEG%2F%25BA%25CE%25BB%25EA_%25BC%25F6%25BF%25B5%25B1%25B8_%25B1%25A4%25BE%25C8%25B5%25BF_%25BC%25F6%25BF%25B5%25B5%25C5%25C1%25F6%25B1%25B9%25B9%25E4_%25B8%25C0%25C1%25FD_%25284%2529.JPG&type=a340',\n",
       " 'https://search.pstatic.net/common/?src=http%3A%2F%2Fblogfiles.naver.net%2FMjAxNzEwMjFfMTUg%2FMDAxNTA4NTkwNzY3NzU0.L0ojNx11VMKEqqD-JV6ktE4psWEOIueRn3rbscH4vpQg.dZHnhrdrLoHpJlo3hypgYGUHB_Wr56LWClNpweu0PNYg.JPEG.eseses1213%2F20170927_184934.jpg&type=a340',\n",
       " 'https://search.pstatic.net/common/?src=http%3A%2F%2Fblogfiles.naver.net%2FMjAyMTA0MDhfMjIx%2FMDAxNjE3ODU3NjgwNzUw.5iTxrB6J1L5R37bPmTRBJxJaARdZTcVDWyxMCqJW_BAg.BLwEy1NQPpcqL8MGyJjHraCH2MbYP7wegKzA2vShRRsg.JPEG.lovely_yk2%2FIMG_4146.jpg&type=a340',\n",
       " 'https://search.pstatic.net/common/?src=http%3A%2F%2Fblogfiles.naver.net%2F20150817_91%2Frmeoakdks849_14398022047918LJoK_JPEG%2Fc6ca3012e55a03a7505e56578fac4f52.JPG&type=a340',\n",
       " 'https://search.pstatic.net/common/?src=http%3A%2F%2Fcafefiles.naver.net%2FMjAyMTA0MDVfOTkg%2FMDAxNjE3NTY4MTc0Mzc1.H0yY-Ik7vx0H32fSXIQVg9LvhaKj9U5TSSo1kN6_dugg.34wsHtAPqDnjWx5IDnICuFMApUGq0tHtUiB1MqmT4Ocg.JPEG%2FexternalFile.jpg&type=ofullfill340_600',\n",
       " 'https://search.pstatic.net/common/?src=http%3A%2F%2Fblogfiles.naver.net%2FMjAyMTAyMDdfMjU3%2FMDAxNjEyNjk4Njk3MDIx.LkSSUYC6kkTNusttVV9yr5dQdNZxU9iB7ruJK9AJ0x0g.t8C133z4f3C1qr1kf57StAh-WOoWATeUCMvw1tFyyuYg.JPEG.ssain1910%2FKakaoTalk_20210207_201500031_13.jpg&type=a340',\n",
       " 'https://search.pstatic.net/common/?src=http%3A%2F%2Fblogfiles.naver.net%2F20100104_289%2Fsk4dade_1262609096685jO0Ke_jpg%2Fbusan02_sk4dade.jpg&type=a340',\n",
       " 'https://search.pstatic.net/common/?src=http%3A%2F%2Fblogfiles.naver.net%2FMjAxODA5MDNfOTAg%2FMDAxNTM1OTI0MTE2NDc1.g8sGlO-Po8Eq3uTXMtNX6JK1QtOk_FkHG1G98Vt8xfMg.ecYaPHlJGXyspebY9vJ6xRflHVhyvW4eJMqkidmZ450g.JPEG.unicorns7%2FIMG_3311.jpg&type=a340',\n",
       " 'https://search.pstatic.net/common/?src=http%3A%2F%2Fblogfiles.naver.net%2FMjAyMTAyMThfMjM1%2FMDAxNjEzNjU3MjU3MDEy.ELAfgdesLYRe6hiYz3UTGUVMp61NGO3dwhHCWBHhWEEg.q36ogzre-KM2N1yzjjge9zHytr6wGSnMvQzQDwM0Imsg.JPEG.foreverminwoo%2FIMG_1390.jpg&type=a340',\n",
       " 'https://search.pstatic.net/common/?src=http%3A%2F%2Fblogfiles.naver.net%2F20140511_200%2F8282man_1399787808917eCi4B_JPEG%2FIMG_0557.JPG&type=a340',\n",
       " 'https://search.pstatic.net/common/?src=http%3A%2F%2Fblogfiles.naver.net%2F20130213_257%2Fdondon02_13607238750593yIs7_JPEG%2FIMG_20130120_212159.jpg&type=a340',\n",
       " 'https://search.pstatic.net/common/?src=http%3A%2F%2Fcafefiles.naver.net%2F20140604_222%2Frlaalsdn5775_1401875590219vmoxH_JPEG%2F-515400527.jpg&type=l340_165',\n",
       " 'https://search.pstatic.net/common/?src=http%3A%2F%2Fblogfiles.naver.net%2F20131217_229%2Fjungkitte89_1387268324949KpqyV_JPEG%2F1387268312505_20131217_163050.jpg&type=a340',\n",
       " 'https://search.pstatic.net/common/?src=http%3A%2F%2Fblogfiles.naver.net%2F20130318_56%2Fkakahasm_1363610732452CAAsK_JPEG%2FIMG_5784.JPG&type=a340',\n",
       " 'https://search.pstatic.net/common/?src=http%3A%2F%2Fblogfiles.naver.net%2F20110326_287%2Fgukbabi_1301121394798NFBSv_JPEG%2FSDC14792.JPG&type=a340',\n",
       " 'https://search.pstatic.net/common/?src=http%3A%2F%2Fblogfiles.naver.net%2FMjAyMTA0MDlfMjQx%2FMDAxNjE3OTM3MDc3NDc2.PHzOOVzi9OH-U_F6kMPsIesJ8s7GRboB584Ajwq6Fdwg.rmPPxCtmlSdGa1GJn-C84zddXRQrUND1O5MD2LpoH5wg.JPEG.daum005930%2FKakaoTalk_20210325_122225177_08.jpg&type=a340',\n",
       " 'https://search.pstatic.net/common/?src=http%3A%2F%2Fblogfiles.naver.net%2FMjAyMDA4MTVfMTMg%2FMDAxNTk3NDc3MTQyOTcw.Wynzf8wTtNqpIbrxVgZHP6G32SAiXKBw3VFbfhQI3B0g.AstJiwKP03jlPbstBYrM-7yr_vc5F-1yydWiVZ1O3PQg.JPEG.ghehd3097%2FKakaoTalk_20200815_163443802_06.jpg&type=a340',\n",
       " 'https://search.pstatic.net/common/?src=http%3A%2F%2Fblogfiles.naver.net%2F20160111_161%2Frrrtldbrskeht_1452483389365DDq73_JPEG%2FP20160102_171051739_6F253B05-42A2-4A82-9586-27150BEC0D0A.JPG&type=a340',\n",
       " 'https://search.pstatic.net/common/?src=http%3A%2F%2Fblogfiles.naver.net%2F20140624_119%2Fhbucor_1403575314468DPVf5_JPEG%2FP20140505_130009000_31AF2CF9-091D-4598-B7F8-928400B74EDF.JPG&type=a340',\n",
       " 'https://search.pstatic.net/common/?src=http%3A%2F%2Fblogfiles.naver.net%2F20140615_52%2Fsajahome_1402830479223H2lh7_JPEG%2F1402830479206_C360_2014-06-15-14-22-45-295.jpg&type=a340',\n",
       " 'https://search.pstatic.net/common/?src=http%3A%2F%2Fblogfiles.naver.net%2FMjAyMTAxMTFfMjcz%2FMDAxNjEwMzQ3MTE1NTE1.6G9Lrp4NE2DoXLDSGuEqu6fc0IDf2z54Sc6sMtM_vlgg.X6a9qjSL2baTLAxH8Ys9E4rpeGrP7V7XemqDdzj3tzwg.JPEG.acearch76%2F014.jpg&type=a340',\n",
       " 'https://search.pstatic.net/common/?src=http%3A%2F%2Fblogfiles.naver.net%2FMjAyMTAyMTVfNzEg%2FMDAxNjEzMzc5NTE1NDk0.VIkV5JXMVor08OuLWhuFyQatXQADF9lDmlTtbZPb4rMg.tX5cpQmpDiaL2MusglF9ZS94L-Tqcw_Jj6Ce5CzPs3Ig.JPEG.ppark0486%2F20210215%25A3%25DF102750.jpg&type=a340',\n",
       " 'https://search.pstatic.net/common/?src=http%3A%2F%2Fblogfiles.naver.net%2FMjAyMTAzMDRfMjA4%2FMDAxNjE0ODQyMjkzNDAy.l5UL2XCLIQEz0flQbx3vFwBDlFZ28EgUNyccAE7MuEYg.tJPfx_4UcNKouI6KQ7QlVAg4Te0ZCa-B-SeIm5ZTiosg.JPEG.eskim7269%2F20210303%25A3%25DF192240.jpg&type=a340',\n",
       " 'https://search.pstatic.net/common/?src=http%3A%2F%2Fblogfiles.naver.net%2F20131113_210%2Fukcoy12697_138427350304785jAQ_PNG%2F%25BC%25F8%25B4%25EB3.png&type=a340',\n",
       " 'https://search.pstatic.net/common/?src=http%3A%2F%2Fcafefiles.naver.net%2F20151117_88%2Fkwanghak29_1447729369346iP4Ig_JPEG%2F740_20151117_115416.jpg&type=a340',\n",
       " 'https://search.pstatic.net/common/?src=http%3A%2F%2Fblogfiles.naver.net%2FMjAyMTA0MDNfMTg4%2FMDAxNjE3NDE2NTM3ODQx.X6R8XnWZ9qKVuSI-4vVxkThif5RV7OVBx5n-fC9gMJog.oICXXsdXxMfKW6qh1KN2pfWINNqvkiY5x0agutQ88vcg.JPEG.shanellk%2FIMG_5773.jpg&type=a340',\n",
       " 'https://search.pstatic.net/common/?src=http%3A%2F%2Fblogfiles.naver.net%2FMjAyMTAzMTJfMjM4%2FMDAxNjE1NTQ5ODU0Njg2.Tb276mA9JIrv-d0Apd3Ry80LWYLOtxiAWqn_Qg3FVIAg.wbly5r4k8B1PkDqSYmjEJpyi6lg1c-kydlADWG2m-Lkg.JPEG.hsgood%2FIMG-0441.jpg&type=a340',\n",
       " 'https://search.pstatic.net/common/?src=http%3A%2F%2Fblogfiles.naver.net%2FMjAyMTAzMjNfMjEw%2FMDAxNjE2NTA2MTkzNjE5._GDtpk4owz8LGedfPTCs7t1-WrzB7e41fUtCLjm0t1Ug.Xu72KE6aJPkkdstM5m4Hn6dG5IKknTicsuhoatzakgYg.JPEG.dung921%2FKakaoTalk_20210323_221916667.jpg&type=a340',\n",
       " 'https://search.pstatic.net/common/?src=http%3A%2F%2Fblogfiles.naver.net%2FMjAyMTAyMTVfMTk5%2FMDAxNjEzMzgxODI3Mzgx.djwlNie1wnqMtbIM7jSsJsWahIZUaC3P-AiRkgwwUHEg.zE9zKSo5G-Z6xclmI2gGQEk6V8TrEFe4Blivw-C3RPMg.JPEG.wjdgml1248%2F10.jpg&type=a340',\n",
       " 'https://search.pstatic.net/common/?src=http%3A%2F%2Fblogfiles.naver.net%2FMjAyMTAyMDJfMTE5%2FMDAxNjEyMjQwMTM4OTcz.aHK5MiyXOiXvHDfqunPGFd9iIUqfj-MeHX1YJG7z8Y0g.BOtimiFnlBJ80Fex5BobPSx52Z6e8Z_SB6AkOoHVy-4g.JPEG.choch110%2F008.jpg&type=a340',\n",
       " 'https://search.pstatic.net/common/?src=http%3A%2F%2Fblogfiles.naver.net%2FMjAxOTAzMzBfMjEy%2FMDAxNTUzOTEzNzYxOTM4.tEpjJ69vLC_sYe14t5oNIcW6mLC4H9lrFw54iEhAlDMg.hT287r_bx4UWUVC9M-myb0YmabbzS_KtlJVei3caM8og.JPEG.lovelyflower77%2F20190206_193314_HDR.jpg&type=a340',\n",
       " 'https://search.pstatic.net/common/?src=http%3A%2F%2Fblogfiles.naver.net%2F20160328_32%2Fssyoung_93_1459138019786QQjVq_JPEG%2FNaverBlog_20160328_130659_08.jpg&type=a340',\n",
       " 'https://search.pstatic.net/common/?src=http%3A%2F%2Fblogfiles.naver.net%2F20140211_81%2Frannyo_o_1392059512807dFMJG_JPEG%2F1392059512051_IMG056.jpg&type=a340',\n",
       " 'https://search.pstatic.net/common/?src=http%3A%2F%2Fblogfiles.naver.net%2F20160101_227%2Femmapic_1451657365842Wai9J_JPEG%2FIMG_9840.jpg&type=a340',\n",
       " 'https://search.pstatic.net/common/?src=http%3A%2F%2Fblogfiles.naver.net%2F20160327_68%2Fjini9014_1459086120311PdUGd_JPEG%2FSAM_2289.JPG&type=a340',\n",
       " 'https://search.pstatic.net/common/?src=http%3A%2F%2Fblogfiles.naver.net%2F20131012_282%2Fo_luvp_1381540856249gi4uU_JPEG%2FDSC06171.JPG&type=a340',\n",
       " 'https://search.pstatic.net/common/?src=http%3A%2F%2Fblogfiles.naver.net%2FMjAyMDExMTJfMTA1%2FMDAxNjA1MTUzODY2Mjk5.yzQXalhrHIzgPUONF3k84-hetIPXcpZI6lDTexgYLdcg.iSOn_HTMMsVVpp3cdaVfRBexLbsbgfxhU_wGq8gCPAwg.JPEG.baeh76%2F20201107_130043.jpg&type=a340',\n",
       " 'https://search.pstatic.net/common/?src=http%3A%2F%2Fblogfiles.naver.net%2FMjAyMTA0MThfMTMx%2FMDAxNjE4NzIyNDQzNjE3.s9icbVOmMOeSDua3iD8GVekkqLdXZ-L_Jq7r9-4kjukg.lLtFLzSGEIxbiLmpCnlL8eHncyLhs8OIdZKMz1QEV7Mg.JPEG.beaqon%2F20210418%25A3%25DF125612.jpg&type=a340',\n",
       " 'https://search.pstatic.net/common/?src=http%3A%2F%2Fblogfiles.naver.net%2FMjAxNzAxMDVfMTQ3%2FMDAxNDgzNTQzODgyMTcx.-rBVPPjjcQZSReBFvSeZzDesmoJ08ScwIF8_s8bLnfIg.cZpcjyBoYyU3pI_E8qM2kHuAUYSG8yN-dbN_F96Dj_8g.JPEG.hongteaho%2F%25B2%25D9%25B9%25CC%25B1%25E2_IMG_6775.JPG&type=a340',\n",
       " 'data:image/gif;base64,R0lGODlhAQABAIAAAAAAAP///yH5BAEAAAAALAAAAAABAAEAAAIBRAA7',\n",
       " 'data:image/gif;base64,R0lGODlhAQABAIAAAAAAAP///yH5BAEAAAAALAAAAAABAAEAAAIBRAA7',\n",
       " 'data:image/gif;base64,R0lGODlhAQABAIAAAAAAAP///yH5BAEAAAAALAAAAAABAAEAAAIBRAA7',\n",
       " 'data:image/gif;base64,R0lGODlhAQABAIAAAAAAAP///yH5BAEAAAAALAAAAAABAAEAAAIBRAA7',\n",
       " 'data:image/gif;base64,R0lGODlhAQABAIAAAAAAAP///yH5BAEAAAAALAAAAAABAAEAAAIBRAA7',\n",
       " 'data:image/gif;base64,R0lGODlhAQABAIAAAAAAAP///yH5BAEAAAAALAAAAAABAAEAAAIBRAA7',\n",
       " 'data:image/gif;base64,R0lGODlhAQABAIAAAAAAAP///yH5BAEAAAAALAAAAAABAAEAAAIBRAA7',\n",
       " 'data:image/gif;base64,R0lGODlhAQABAIAAAAAAAP///yH5BAEAAAAALAAAAAABAAEAAAIBRAA7',\n",
       " 'data:image/gif;base64,R0lGODlhAQABAIAAAAAAAP///yH5BAEAAAAALAAAAAABAAEAAAIBRAA7',\n",
       " 'data:image/gif;base64,R0lGODlhAQABAIAAAAAAAP///yH5BAEAAAAALAAAAAABAAEAAAIBRAA7',\n",
       " 'https://search.pstatic.net/common/?src=http%3A%2F%2Fblogfiles.naver.net%2F20130118_251%2Fgamrae007_13585100221026wjc7_JPEG%2Fsam_9792.jpg&type=l340_165',\n",
       " 'https://search.pstatic.net/common/?src=http%3A%2F%2Fblogfiles.naver.net%2FMjAyMTA0MjJfMTk0%2FMDAxNjE5MDI3OTA3ODUz.4I8xGDIoeBoNr1kwF_jOzGz1Sl0GX1kGw4hPqGZA4t0g.V3dCJzsy2Ec8zItDlpN_qneuJOamsmIBiXTWSc-aOugg.JPEG.siren1026%2F20210421_100739.jpg&type=a340',\n",
       " 'https://search.pstatic.net/common/?src=http%3A%2F%2Fblogfiles.naver.net%2FMjAyMDA3MjRfMTk5%2FMDAxNTk1NTMyMDU2ODQ2.ICCcvtIE636goVUcx2n6ZiVywzWAE6otKYS_4V-cOpIg.nfqIS8d-6oRMi_-xch1B3zANsy27HEKew7XVkqU3Hwcg.JPEG.hygea2030%2F8%25B5%25C5%25C1%25F6%25B1%25B9%25B9%25E4DSC06969.JPG&type=a340',\n",
       " 'https://search.pstatic.net/common/?src=http%3A%2F%2Fblogfiles.naver.net%2F20130307_206%2Fgugiri1_1362641570877qw8Mf_JPEG%2FP20130305_195747000_52B866CE-6445-45D7-A06D-5119BCD12D7B.JPG&type=a340',\n",
       " 'https://search.pstatic.net/common/?src=http%3A%2F%2Fblogfiles.naver.net%2FMjAxOTA4MTNfMjQg%2FMDAxNTY1NjgxNzE5NTQ5.eYdjr1km27gOmHma_cpoGI3ozG7XS3Nvv9bh2I5YDA0g.NJob1hjbJTue0A_MSDrsssDe6xaa861oKTCGv6La2a8g.JPEG.pacarsmine%2F%25A4%25B75_%25281%2529.jpg&type=a340',\n",
       " 'https://search.pstatic.net/common/?src=http%3A%2F%2Fblogfiles.naver.net%2FMjAyMTAzMDhfNzkg%2FMDAxNjE1MTYyNzU5Nzgz.igvgzlydNGbWV1zIxNtjzB9gh3L3xIacrNQ_k_RUqVAg.Jp8NPwRrsFNPaJqIcKodCBobxRZDHLawUlfY41kNac8g.JPEG.qkrdntjr147%2F20210307_125528.jpg&type=a340',\n",
       " 'https://search.pstatic.net/common/?src=http%3A%2F%2Fblogfiles.naver.net%2F20121017_275%2Fsosols_1350456386329p3Mh8_JPEG%2FiPad_2.jpg&type=a340',\n",
       " 'https://search.pstatic.net/common/?src=http%3A%2F%2Fblogfiles.naver.net%2FMjAyMTAxMjRfMjMg%2FMDAxNjExNDkzMTk4NTQx.dO4fE3dGBmWPSnL-XJjRvO9WL7Xzahlhj6pVxSnf-WAg.Cya8LF1_DeZz-ICHyXgwulqVbcPYu_5CAOpq7S6C_Dkg.JPEG.cozy95%2F20.JPG&type=a340',\n",
       " 'https://search.pstatic.net/common/?src=http%3A%2F%2Fblogfiles.naver.net%2FMjAyMTAyMjhfMjY4%2FMDAxNjE0NTE1ODI1OTUw.o8ELquW6U3trUH2DHpCAgUJCCBROIQTpaFzShQUiYWcg.fdPKvpYjxNZ3uHF_9yaL0ZIduBpFcIP3Cs2-mcGWzG4g.PNG.jaey0919%2F793922791.gif&type=ofullfill340_600',\n",
       " 'data:image/gif;base64,R0lGODlhAQABAIAAAAAAAP///yH5BAEAAAAALAAAAAABAAEAAAIBRAA7',\n",
       " 'data:image/gif;base64,R0lGODlhAQABAIAAAAAAAP///yH5BAEAAAAALAAAAAABAAEAAAIBRAA7',\n",
       " 'data:image/gif;base64,R0lGODlhAQABAIAAAAAAAP///yH5BAEAAAAALAAAAAABAAEAAAIBRAA7',\n",
       " 'data:image/gif;base64,R0lGODlhAQABAIAAAAAAAP///yH5BAEAAAAALAAAAAABAAEAAAIBRAA7',\n",
       " 'data:image/gif;base64,R0lGODlhAQABAIAAAAAAAP///yH5BAEAAAAALAAAAAABAAEAAAIBRAA7',\n",
       " 'data:image/gif;base64,R0lGODlhAQABAIAAAAAAAP///yH5BAEAAAAALAAAAAABAAEAAAIBRAA7',\n",
       " 'data:image/gif;base64,R0lGODlhAQABAIAAAAAAAP///yH5BAEAAAAALAAAAAABAAEAAAIBRAA7',\n",
       " 'data:image/gif;base64,R0lGODlhAQABAIAAAAAAAP///yH5BAEAAAAALAAAAAABAAEAAAIBRAA7',\n",
       " 'data:image/gif;base64,R0lGODlhAQABAIAAAAAAAP///yH5BAEAAAAALAAAAAABAAEAAAIBRAA7',\n",
       " 'https://search.pstatic.net/common/?src=http%3A%2F%2Fblogfiles.naver.net%2F20160428_76%2Fparksm7774_1461835516812Sbrnt_PNG%2F%25C0%25CC%25B9%25CC%25C1%25F6_055.png&type=a340',\n",
       " 'https://search.pstatic.net/common/?src=http%3A%2F%2Fblogfiles.naver.net%2FMjAyMTAyMTRfMjk0%2FMDAxNjEzMzEzMzgzODg5.teilf6x8sIxvdGOsOkEVNZD_dY8Mo-m3T1WgGhdSZ6Mg.0OS41jwEes81fRGZsNKrw2pZf3gTA0RT2A6SwHNV_5cg.JPEG.eo3619%2FIMG_6685.jpg&type=a340',\n",
       " 'https://search.pstatic.net/common/?src=http%3A%2F%2Fblogfiles.naver.net%2FMjAyMTA0MTBfMTc4%2FMDAxNjE4MDUzNjk4MDAx.65yl-9bczUtOPR83Mew9MKTsdkOS9w3NOOtKG0-XcJwg.F8B1DGeeedM5JFbd8K2CS2f0TeBJQJOxSOfMMaR2tsMg.JPEG.eishit%2F20210406_115328.jpg&type=a340',\n",
       " 'https://search.pstatic.net/common/?src=http%3A%2F%2Fblogfiles.naver.net%2FMjAxNzAyMjVfMjQg%2FMDAxNDg4MDMzNTY3NDQx.xmvzkrh_tIIF75gzX0svDZ9sfUQgfVWO22F_ucXfLrAg.SZCAkbYz02hTxkK0pxZGoLLreaZdtT0smi78OkupSvcg.JPEG.s2sue%2FP0228528.jpg&type=a340',\n",
       " 'https://search.pstatic.net/common/?src=http%3A%2F%2Fblogfiles.naver.net%2FMjAxODA5MTNfMjY4%2FMDAxNTM2ODAwMTAyMjU2.4KYJZbGcgxBMtORWy4RfYeZ6n-siXgNpuy37HRq-rbgg.u0oJZ8mqmcHVUQEuBHTBRLcPDjp8ioIMwFW6ClEScukg.JPEG.newekgp1101%2FKakaoTalk_Moim_4UjwnkOBSmnk1J4ly4D8246emNudKp.jpg&type=a340',\n",
       " 'https://search.pstatic.net/common/?src=http%3A%2F%2Fblogfiles.naver.net%2F20140323_197%2Fqsohersb6_1395505479556HtNTM_JPEG%2F%25B1%25B9%25B9%25E4%25B0%25FA_%25BB%25EA%25B3%25AB%25C1%25F6_%25281%2529.jpg&type=a340',\n",
       " 'https://search.pstatic.net/common/?src=http%3A%2F%2Fblogfiles.naver.net%2FMjAyMTAyMTlfMTEx%2FMDAxNjEzNjYwNzU1Mzk5.5Uowz9iq3h5ocGhluk9087JOOx8uAdX_hXhqgL79RSog.mCXotcxM2kqASeRGycxvrLaS_87-CLAO0UTenE5-0dkg.JPEG.dyfmffpdl345%2FIMG_4080.jpg&type=a340',\n",
       " 'https://search.pstatic.net/common/?src=http%3A%2F%2Fblogfiles.naver.net%2F20140622_100%2Fppww85_1403436557319PW4iU_JPEG%2F1403436555442_20140621_043621.jpg&type=ofullfill340_600',\n",
       " 'https://search.pstatic.net/common/?src=http%3A%2F%2Fblogfiles.naver.net%2F20150130_137%2Fyodahiro_1422625401869Bdo63_JPEG%2FIMG_6863.JPG&type=a340',\n",
       " 'https://search.pstatic.net/common/?src=http%3A%2F%2Fblogfiles.naver.net%2F20160622_138%2Fcutemeng_1466586779285nMTOG_JPEG%2FNaverBlog_20160622_181258_06.jpg&type=a340',\n",
       " 'https://search.pstatic.net/common/?src=http%3A%2F%2Fblogfiles.naver.net%2FMjAyMTAxMTNfMjA4%2FMDAxNjEwNTQ0MTQ2NDIw.gqBgzllA8VBVkq8Px7n9xnZ6oGy91NMLpyYmi7hhBjgg.ymf5jif27N6x1mC1QHTG6OGnQrHq3CSsRFF3bRIDfXIg.JPEG.kommmir%2F1610543487566.jpg&type=a340',\n",
       " 'https://search.pstatic.net/common/?src=http%3A%2F%2Fblogfiles.naver.net%2F20130825_66%2Fpsh158_1377408608707XtjAr_JPEG%2F1377408605236_20130825_131115.jpg&type=ofullfill340_600',\n",
       " 'https://search.pstatic.net/common/?src=http%3A%2F%2Fblogfiles.naver.net%2FMjAyMTA1MTBfMTMy%2FMDAxNjIwNjI4NTg3MzIz.NUfM0SXaEXA1UZHCEe0BYgDwMuHlMP7mBiXlE-d9Qugg.u-7A6MZ7lF7yMP8LFehY5bSvgic4LAxUHs9TL74umf0g.JPEG.performancek%2FIMG_0423.jpg&type=a340',\n",
       " 'https://search.pstatic.net/common/?src=http%3A%2F%2Fblogfiles.naver.net%2F20110119_7%2Fulkeuni96_1295438866808LfCmC_JPEG%2FDSC_0144.JPG&type=a340',\n",
       " 'https://search.pstatic.net/common/?src=http%3A%2F%2Fblogfiles.naver.net%2FMjAyMTAzMTNfMTMz%2FMDAxNjE1NjI3NTAzOTAx.CepBNDMKm89kau4R7VZ3Ae2E6Z6j4Y6qSkJ5s2f6vXkg.W07fvGMs7qL1ELXHyaodtWtpvvVA2cr7IG-R3mL-FyAg.JPEG.gpals724%2FIMG_2402.JPG&type=a340',\n",
       " 'https://search.pstatic.net/common/?src=http%3A%2F%2Fblogfiles.naver.net%2FMjAyMTAxMTRfMjE0%2FMDAxNjEwNjIzMDk2MzQz.UNHa_9wm5Z1G-8mVq20gjNedaJzzxt4-hfpghmkEVRAg.xDeNKnKoyflrCusRLvvA_T11x0RaUKdkGSSsdCTHs-gg.JPEG.rgn1207%2FIMG_3309.JPG&type=a340',\n",
       " 'https://search.pstatic.net/common/?src=http%3A%2F%2Fpost.phinf.naver.net%2FMjAxODAyMDlfMzYg%2FMDAxNTE4MTU4ODA5Njkz.c0ZKC1AbHKoURqrRJi2GCy9PBJdS0bs5_Oyc-_6uPGMg.fmmbJlzLEr-cKCOJBWMth-IeyftoZWgKFLion7Rkd_Ag.JPEG%2FIr1ESKgAMYNPKQRfyQTO_AzL8ZF0.jpg&type=ofullfill340_600',\n",
       " 'https://search.pstatic.net/common/?src=http%3A%2F%2Fcafefiles.naver.net%2FMjAyMDA2MjlfMjQ0%2FMDAxNTkzNDAyMDgzOTMx.N0aUVjxRy47vssH6UjENxSzmr6ZdpUKC5yMpUhMUWzAg.HJsngs-fjs0_JEmbVned9aqrUpMWC3S2NV6lz56CVHgg.JPEG%2FexternalFile.jpg&type=a340',\n",
       " 'https://search.pstatic.net/common/?src=http%3A%2F%2Fblogfiles.naver.net%2F20110114_288%2Fshrnrgus80_1295010761856fJfeH_JPEG%2FIMG_3953.JPG&type=a340',\n",
       " 'https://search.pstatic.net/common/?src=http%3A%2F%2Fblogfiles.naver.net%2FMjAyMDExMTlfMjc5%2FMDAxNjA1NzQ1MzA0MDQw.HIEN9jId0sJRZTNpU8Li5yn4Ol5IbQwhp2gLlefNkqog.4ca0tqrkQ6aKjC3q7RMlz3-5aKcbGQlD2JaHDh4lvj0g.JPEG.jeondasom4%2FP1090592.JPG&type=a340',\n",
       " 'https://search.pstatic.net/common/?src=http%3A%2F%2Fblogfiles.naver.net%2FMjAyMDEwMTJfODEg%2FMDAxNjAyNDY5MzAxNjM1.Uix3yKD2ywpCw6SLNu3UafDi0gdgyyq8_R02dTSr6msg.3IatvE7aCSMUsXMJbF5Oo15V5k-rqegdha3YUVlNOqUg.JPEG.jini930307%2FIMG_4647.JPG&type=a340',\n",
       " 'https://search.pstatic.net/common/?src=http%3A%2F%2Fblogfiles.naver.net%2FMjAyMTAxMTlfMTI5%2FMDAxNjExMDM1NDMzNjc3.mV9fG1X9zs7hxu5axKpGrHy9Yi-8jL5H3R5y8lHlWJsg.kY2pReU_rK7H_B99LSP1uvy2BTxId4WJd3iMIng_Lokg.JPEG.wngk0224%2FIMG_9890.jpg&type=a340',\n",
       " 'data:image/gif;base64,R0lGODlhAQABAIAAAAAAAP///yH5BAEAAAAALAAAAAABAAEAAAIBRAA7',\n",
       " 'data:image/gif;base64,R0lGODlhAQABAIAAAAAAAP///yH5BAEAAAAALAAAAAABAAEAAAIBRAA7',\n",
       " 'https://search.pstatic.net/common/?src=http%3A%2F%2Fblogfiles.naver.net%2FMjAxNzA0MTdfMjEg%2FMDAxNDkyNDE1ODA2ODM2.tU90JJHcZiyrkMgeiv_O1yLhmvmNS-sXJtSSVrZlIlAg.tQ4Fxv6Qma_wdSx45Oiyj2GHCFBMYKVDJfW8Xc870T4g.JPEG.sunny-jinny%2F2017-03-28-11-11-58.jpg&type=a340',\n",
       " 'https://search.pstatic.net/common/?src=http%3A%2F%2Fblogfiles.naver.net%2F20130401_129%2Fhagela_1364805344707cXbza_JPEG%2FIMG_1714.JPG&type=a340',\n",
       " 'https://search.pstatic.net/common/?src=http%3A%2F%2Fblogfiles.naver.net%2F20121217_226%2Fd8eight_1355706817371kWnbf_JPEG%2FCAM00075.jpg&type=a340',\n",
       " 'https://search.pstatic.net/common/?src=http%3A%2F%2Fblogfiles.naver.net%2FMjAyMTAyMDhfNTQg%2FMDAxNjEyNzYzNzUyODc4.-eKgadsBvHn3nu6sFhfmAMr5lkhBEaTMNTrRnAv9VjYg.Qx8P-nYKHuSkr1zouSXziRvmD4I8LQP2hGToM4EhZbcg.JPEG.jmc1525%2FIMG_0678.JPG&type=a340',\n",
       " 'https://search.pstatic.net/common/?src=http%3A%2F%2Fblogfiles.naver.net%2F20120213_233%2Fadwitch1_1329099301400zbDMc_JPEG%2FIMG_0013.jpg&type=a340',\n",
       " 'https://search.pstatic.net/common/?src=http%3A%2F%2Fblogfiles.naver.net%2F20110328_123%2Ffoodenjoy_13013101055618Bq5U_JPEG%2FiPad_0.jpg&type=a340',\n",
       " 'https://search.pstatic.net/common/?src=http%3A%2F%2Fcafefiles.naver.net%2FMjAxOTA5MTBfMTc0%2FMDAxNTY4MTE5NDgyNTky.Zar-y07C5FWrNbnCd2yP0CFVxmrV8828fDMdg7FMpugg.GMm9-FtZ4R2SEsT5tmiJFrxjc_EBF7fNLL_YSAGDZhcg.PNG%2F2019-09-10_21%253B39%253B25_.png&type=a340',\n",
       " 'https://search.pstatic.net/common/?src=http%3A%2F%2Fimage.nmv.naver.net%2Fblog_2020_12_15_387%2F6287c519-3ec0-11eb-bb05-48df379cc9e4_01.jpg&type=a340',\n",
       " 'https://search.pstatic.net/common/?src=http%3A%2F%2Fblogfiles.naver.net%2F20141022_115%2Fgabvud_1413975220952LXa2s_JPEG%2F1413975218137_20141022_192047.jpg&type=l340_165',\n",
       " 'https://search.pstatic.net/common/?src=http%3A%2F%2Fblogfiles.naver.net%2F20150328_85%2Fwkdgksk1117_1427468436749V01Wa_JPEG%2FIMG_2299.JPG&type=a340',\n",
       " 'https://search.pstatic.net/common/?src=http%3A%2F%2Fblogfiles.naver.net%2F20130306_243%2Fsasago2_1362538560137VMigR_JPEG%2F%25B5%25C5%25C1%25F6%25B1%25B9%25B9%25E4%25B8%25C0%25C1%25FD_9.jpg&type=a340',\n",
       " 'https://search.pstatic.net/common/?src=http%3A%2F%2Fblogfiles.naver.net%2FMjAyMTAyMDRfMjMy%2FMDAxNjEyNDE4Mjg1NjY0.o_ccN0jhC_Q_qQdfOu3JOdJFJYEtPJH2FDPPc3VJnt4g.uQfHzhiiilJNaAGz86KE4XbF5I-lZVn2LJQZ7FZ-LpAg.JPEG.kyl8741%2FIMG_6413.JPG&type=a340',\n",
       " 'https://search.pstatic.net/common/?src=http%3A%2F%2Fblogfiles.naver.net%2FMjAyMDA2MjRfMSAg%2FMDAxNTkyOTcyNDgxNjI1._AfhMMi12ByK3DMxymKpbg_HpWZY2dcBu2PnbSorL5Qg.hmf2F-38hIfZKd1xePWdLJa91i69_FdPDnf-z4SeJz0g.JPEG.ghdzlzlghd%2FKakaoTalk_20200624_131948137.jpg&type=a340',\n",
       " 'https://search.pstatic.net/common/?src=http%3A%2F%2Fblogfiles.naver.net%2FMjAyMTA0MTNfNzgg%2FMDAxNjE4Mjc2NTcyMzgy.sVdSLBmkIfgAeDKcecn9n2eGIvSI2LAZDj_E381aPk0g.IUApkgOZH57FJjnmAZ3Zir1uBS7PHmI-9SNXWn1e1sUg.JPEG.sonamuhair%2FKakaoTalk_20210408_133737041.jpg&type=a340',\n",
       " 'https://search.pstatic.net/common/?src=http%3A%2F%2Fimage.nmv.naver.net%2Fblog_2021_01_29_2697%2F11a32da9-6229-11eb-9fa5-a0369ff9545c_01.jpg&type=a340',\n",
       " 'https://search.pstatic.net/common/?src=http%3A%2F%2Fimage.nmv.naver.net%2Fblog_2021_03_02_80%2Ffa206241-7b23-11eb-a12c-a0369ff963bc_06.jpg&type=a340',\n",
       " 'https://search.pstatic.net/common/?src=http%3A%2F%2Fblogfiles.naver.net%2FMjAyMTA0MjVfMjY2%2FMDAxNjE5MzMzMDk2NzM3.RobmpnzHG7Ub4ZlQLd47LUqTYUfVNSHQUlH7DpNZlqAg.GWb1lan-SRcA6UcTcG_JpeKtNVT2-UHZ9tT69MSBStAg.JPEG.aengim8036%2Foutput_3458673543.jpg&type=a340',\n",
       " 'https://search.pstatic.net/common/?src=http%3A%2F%2Fblogfiles.naver.net%2FMjAyMTAxMjlfMjQx%2FMDAxNjExODgxOTM4OTEx.CzXJQAiBjhGroU8n68TQGlnbIfHx92sPGOYWuNVxrUEg.oLj23gtplNheVKjZVqCIxtmNuwacFKTdyE9GX6RJF2sg.JPEG.lori0724%2F20210129%25A3%25DF094542.jpg&type=l340_165',\n",
       " 'https://search.pstatic.net/common/?src=http%3A%2F%2Fblogfiles.naver.net%2FMjAyMTAzMjRfMTcx%2FMDAxNjE2NTUzNTEyNjYw.izpaHQ9qMess0GIsB_HduGEPDMkKkFhIDTisPQ3BrzEg._xljwGwNjWucHN9uEWW8kZiwetl3QBuuja_NxLtFQtEg.JPEG.junkik124%2FIMG_2318.JPG&type=a340',\n",
       " 'https://search.pstatic.net/common/?src=http%3A%2F%2Fblogfiles.naver.net%2FMjAyMTA0MjRfMjE1%2FMDAxNjE5MjcxNDY2MzA2.qtoyBkjDcKeOS5jGWqMfUPAWNn1xY9jmZRz_jumFWCMg.eyCUKTRjE8xKBy_nLv40zCkgBq18NgqVuOov9mNkwSQg.JPEG.csh8851%2FIMG_8087.jpg&type=a340',\n",
       " 'https://search.pstatic.net/common/?src=http%3A%2F%2Fblogfiles.naver.net%2FMjAyMTAzMjZfMjYw%2FMDAxNjE2NzMwNzc0MDc5.ZYq_-tqqFUEgCeqdqsyzDOX8rCU8Q3Z3yYUcgmLvTB0g.dOLFOyETOfz_bgnfWjFTTw_iVKtOggaS3d8TpzYlcKMg.JPEG.navy367%2FDSC04310.jpg&type=a340',\n",
       " 'https://search.pstatic.net/common/?src=http%3A%2F%2Fblogfiles.naver.net%2FMjAyMTA0MjZfMTI0%2FMDAxNjE5NDM2MDg0Mjc4.iJJUtl5N971j8oDFo1ekY1OHvRRvkuZmq1_SwM5M9_kg.5YOan0h1g04PpmXZSfOq1Fwv1o5IVXWqG4InmuW6m6kg.JPEG.ykmon103%2Foutput_2094227265.jpg&type=a340',\n",
       " 'https://search.pstatic.net/common/?src=http%3A%2F%2Fblogfiles.naver.net%2FMjAyMTAzMDFfMzEg%2FMDAxNjE0NTc3ODA1ODI4.gOcbfamkJKpfssZYgn9OCALqVpV2jAaP5DQe7gVbAIgg.xBtGvDb5jNz7x0pfNcBJISsgtvwHVFXgzU3BalG_2IAg.JPEG.zoot2579%2F20210227_141402.jpg&type=a340',\n",
       " 'https://search.pstatic.net/common/?src=http%3A%2F%2Fblogfiles.naver.net%2FMjAyMTA0MjVfMzcg%2FMDAxNjE5MzM5NjMzMTQz.ks9bFngWOTljQ6eXm9WfIgnvOxRueK99S9ytkidzCUEg.FOQ89Fu6g1ISlhBTk2Yzj_RrRwhfNqBsOnL6MSm82hwg.JPEG.5pigs%2F20210423072540%25A3%25DFIMG%25A3%25DF4427.JPG&type=a340',\n",
       " 'https://search.pstatic.net/common/?src=http%3A%2F%2Fblogfiles.naver.net%2FMjAyMTA0MTJfNzkg%2FMDAxNjE4MjIwMzUzNjc3.wjMl63gwXCv5R8P7nhNoQZkvM7ANHxeKP-o2KnguYb0g.f_6yKTLEVYjBOPMsP3GnD9joeB8VybmQP907FKB0uQ0g.PNG.jhs091202%2F11.png&type=a340',\n",
       " 'https://search.pstatic.net/common/?src=http%3A%2F%2Fimage.nmv.naver.net%2Fblog_2020_11_16_2915%2Ffc39a41e-27e2-11eb-a2e1-505dac8c37f3_01.jpg&type=ofullfill340_600',\n",
       " 'https://search.pstatic.net/common/?src=http%3A%2F%2Fblogfiles.naver.net%2FMjAyMTA0MDFfODkg%2FMDAxNjE3MjM1OTI1OTcw.8gtm5wTPeqWAKc7MCBh_FFGGFwqlF337cedRoSNyKMEg.Jfd-Tth4TzMybnZOuofH1EfhFG4eNubfCNmXlL5ML5Ug.JPEG.oy_hb_love%2F20210316%25A3%25DF193045.jpg&type=a340',\n",
       " 'https://search.pstatic.net/common/?src=http%3A%2F%2Fblogfiles.naver.net%2FMjAyMTAzMDJfMTMz%2FMDAxNjE0NjkxMzQ2NDM5.UxwG0yqF-BJ4kIkjWb7G2ghG6VbKBwm3JdDKWRJK2IYg.JXzy3mM0fAAwPYb7LnEljyLo9TinBpws3cSpO-AAzTkg.JPEG.glqltmzktm%2F1614690468215.jpg&type=a340',\n",
       " 'https://search.pstatic.net/common/?src=http%3A%2F%2Fimage.nmv.naver.net%2Fblog_2021_04_20_1148%2Fc28c9e6e-a1da-11eb-810e-48df379cca40_01.jpg&type=ofullfill340_600',\n",
       " 'https://search.pstatic.net/common/?src=http%3A%2F%2Fblogfiles.naver.net%2FMjAyMTA0MTFfMTEz%2FMDAxNjE4MTUxODI0MjA5.QuCnlg_Zy0FZs3eQCqGo0QSbMpLQrjLB_alG7X4X5X0g.jrpedWaEePfSBQL9GBptcV0mWrTRT-JqY8TaXNZuV2gg.JPEG.u-gym3%2F20201018%25A3%25DF131359.jpg&type=l340_165',\n",
       " 'https://search.pstatic.net/common/?src=http%3A%2F%2Fblogfiles.naver.net%2FMjAyMTA0MThfMTE4%2FMDAxNjE4NzU2MTQ5NzMw.E2NVabGeBEK840HzH1VXqvFobSOOKtRAU61VQkk_Ao8g.nEZEoK1YTTpVeW383AWds56JYgw3_7M1D3uAawIzvCIg.JPEG.wyekdl%2F20210414%25A3%25DF144434.jpg&type=a340',\n",
       " 'https://search.pstatic.net/common/?src=http%3A%2F%2Fblogfiles.naver.net%2FMjAyMTAyMjFfMjI2%2FMDAxNjEzOTA3NzMzOTAz.fVwtD42h7cjopgcs5O19RDh7c2CDe5idmS_-bYQ5h0sg.BJK11_Tk2bVfgnaO-2TTHxkNJVrqzyAjU3iubIWG6Hog.JPEG.hoyranqueen%2FIMG%25A3%25DF20210221%25A3%25DF134606%25A3%25DF321.jpg&type=a340',\n",
       " 'https://search.pstatic.net/common/?src=http%3A%2F%2Fblogfiles.naver.net%2FMjAyMTA0MjBfMTU5%2FMDAxNjE4OTEzMjkwNzcy.KfPY-mEuSluuAMCd-hakcM9H3rWUcauY41ieUVE6HCog.0XnNb_U8L04T8QbsA5NchUS48Escjf5J4jIT8IkSTvsg.JPEG.forpsh%2F20210420%25A3%25DF183126.jpg&type=a340',\n",
       " 'https://search.pstatic.net/common/?src=http%3A%2F%2Fblogfiles.naver.net%2FMjAyMTAzMzBfMTkz%2FMDAxNjE3MTAzOTU2OTgw.pb20u7sW-dvRa9GyV-UGtDKJ3FnjPD4o-nBhthDNurYg.jOrgGzw4OsGT1ExjWn0HjK1iPhFm51ADeKvpLWExESgg.JPEG.loveyourfamily%2F20210328%25A3%25DF173059.jpg&type=a340',\n",
       " 'https://search.pstatic.net/common/?src=http%3A%2F%2Fblogfiles.naver.net%2FMjAyMTA0MDFfMjIz%2FMDAxNjE3MjU5ODk5Njkx.WYyn-vcCNrnHhLaGBhuWwbQfjKRY1H8V6IQVrflr7hYg._razvSglDPE-gXIIUWABKJSNbeM0qjA5PS_KIR2OurYg.JPEG.eunhyukmom%2F20210327101740%25A3%25DFIMG%25A3%25DF2200.JPG&type=l340_165',\n",
       " 'https://search.pstatic.net/common/?src=http%3A%2F%2Fblogfiles.naver.net%2FMjAyMTAzMDFfOTUg%2FMDAxNjE0NTcwMzcxMTc3.mO6Eu7lHbUEBtufqE_wWARq5YM2YjNz-S_kdUQyh8JEg.nqpVV5byuKNm2ENWM1NWf8zxMs3hsHhRJpXEs_e6Twcg.JPEG.yhth27%2F%25BC%25F8%25B4%25EB%25B8%25B8%25B1%25B9%25B9%25E4.jpg&type=a340',\n",
       " 'https://search.pstatic.net/common/?src=http%3A%2F%2Fimage.nmv.naver.net%2Fblog_2021_03_17_753%2F7de143ae-86f0-11eb-bbff-505dac8c3639_01.jpg&type=ofullfill340_600',\n",
       " 'https://search.pstatic.net/common/?src=http%3A%2F%2Fblogfiles.naver.net%2FMjAyMTAzMDFfMjQg%2FMDAxNjE0NTgzNTI3ODIz.oDY3EwQJy0v9sbB07UROq2jReU5a1MhDkSuxQt3Uye8g.4p0byimxIkUzwjD8mv_g62IYkTnic47WqnZm1FXR2MMg.JPEG.clthd123%2FIMG_8525.JPG&type=a340',\n",
       " 'https://search.pstatic.net/common/?src=http%3A%2F%2Fimage.nmv.naver.net%2Fblog_2021_02_01_2485%2F51f9d325-6445-11eb-bba0-a0369ff94f34_01.jpg&type=a340',\n",
       " 'https://search.pstatic.net/common/?src=http%3A%2F%2Fblogfiles.naver.net%2FMjAyMTAzMDFfMTQz%2FMDAxNjE0NTg1NTQ2NjA3.DMM4li8FhM3RIB96wSxqry5APql5ygnXW7uy-MLBIQUg.gq1H4FcB25NSBreqeraUxKmapWdfjdmIP6MRlWgof9Yg.JPEG.soonii59%2FIMG_6642.JPG&type=l340_165',\n",
       " 'https://search.pstatic.net/common/?src=http%3A%2F%2Fblogfiles.naver.net%2FMjAyMTAzMjhfMTI2%2FMDAxNjE2OTMyMTYxNTEz.UYbX1YFSZwcOeg0t_IxVHRxNJWok1IduC_bj76OeFaYg.L1Qt1qqFiNg4MzZqaMiKsLoZv8L0hLx6d-6_HCYKu8Yg.JPEG.kimmi5060%2F20210315_124726.jpg&type=a340',\n",
       " 'https://search.pstatic.net/common/?src=http%3A%2F%2Fblogfiles.naver.net%2FMjAyMTA0MjVfMjY2%2FMDAxNjE5MzMzMDk2NzM3.RobmpnzHG7Ub4ZlQLd47LUqTYUfVNSHQUlH7DpNZlqAg.GWb1lan-SRcA6UcTcG_JpeKtNVT2-UHZ9tT69MSBStAg.JPEG.aengim8036%2Foutput_3458673543.jpg&type=a340',\n",
       " 'https://search.pstatic.net/common/?src=http%3A%2F%2Fblogfiles.naver.net%2FMjAyMTAxMjlfMjQx%2FMDAxNjExODgxOTM4OTEx.CzXJQAiBjhGroU8n68TQGlnbIfHx92sPGOYWuNVxrUEg.oLj23gtplNheVKjZVqCIxtmNuwacFKTdyE9GX6RJF2sg.JPEG.lori0724%2F20210129%25A3%25DF094542.jpg&type=l340_165',\n",
       " 'https://search.pstatic.net/common/?src=http%3A%2F%2Fblogfiles.naver.net%2FMjAyMTAzMjRfMTcx%2FMDAxNjE2NTUzNTEyNjYw.izpaHQ9qMess0GIsB_HduGEPDMkKkFhIDTisPQ3BrzEg._xljwGwNjWucHN9uEWW8kZiwetl3QBuuja_NxLtFQtEg.JPEG.junkik124%2FIMG_2318.JPG&type=a340',\n",
       " 'https://search.pstatic.net/common/?src=http%3A%2F%2Fblogfiles.naver.net%2FMjAyMTA0MjRfMjE1%2FMDAxNjE5MjcxNDY2MzA2.qtoyBkjDcKeOS5jGWqMfUPAWNn1xY9jmZRz_jumFWCMg.eyCUKTRjE8xKBy_nLv40zCkgBq18NgqVuOov9mNkwSQg.JPEG.csh8851%2FIMG_8087.jpg&type=a340',\n",
       " 'https://search.pstatic.net/common/?src=http%3A%2F%2Fblogfiles.naver.net%2FMjAyMTAzMjZfMjYw%2FMDAxNjE2NzMwNzc0MDc5.ZYq_-tqqFUEgCeqdqsyzDOX8rCU8Q3Z3yYUcgmLvTB0g.dOLFOyETOfz_bgnfWjFTTw_iVKtOggaS3d8TpzYlcKMg.JPEG.navy367%2FDSC04310.jpg&type=a340',\n",
       " 'https://search.pstatic.net/common/?src=http%3A%2F%2Fblogfiles.naver.net%2FMjAyMTA0MjZfMTI0%2FMDAxNjE5NDM2MDg0Mjc4.iJJUtl5N971j8oDFo1ekY1OHvRRvkuZmq1_SwM5M9_kg.5YOan0h1g04PpmXZSfOq1Fwv1o5IVXWqG4InmuW6m6kg.JPEG.ykmon103%2Foutput_2094227265.jpg&type=a340',\n",
       " 'https://search.pstatic.net/common/?src=http%3A%2F%2Fblogfiles.naver.net%2FMjAyMTAzMDFfMzEg%2FMDAxNjE0NTc3ODA1ODI4.gOcbfamkJKpfssZYgn9OCALqVpV2jAaP5DQe7gVbAIgg.xBtGvDb5jNz7x0pfNcBJISsgtvwHVFXgzU3BalG_2IAg.JPEG.zoot2579%2F20210227_141402.jpg&type=a340',\n",
       " 'https://search.pstatic.net/common/?src=http%3A%2F%2Fblogfiles.naver.net%2FMjAyMTA0MjVfMzcg%2FMDAxNjE5MzM5NjMzMTQz.ks9bFngWOTljQ6eXm9WfIgnvOxRueK99S9ytkidzCUEg.FOQ89Fu6g1ISlhBTk2Yzj_RrRwhfNqBsOnL6MSm82hwg.JPEG.5pigs%2F20210423072540%25A3%25DFIMG%25A3%25DF4427.JPG&type=a340',\n",
       " 'https://search.pstatic.net/common/?src=http%3A%2F%2Fblogfiles.naver.net%2FMjAyMTA0MTJfNzkg%2FMDAxNjE4MjIwMzUzNjc3.wjMl63gwXCv5R8P7nhNoQZkvM7ANHxeKP-o2KnguYb0g.f_6yKTLEVYjBOPMsP3GnD9joeB8VybmQP907FKB0uQ0g.PNG.jhs091202%2F11.png&type=a340',\n",
       " 'https://search.pstatic.net/common/?src=http%3A%2F%2Fimage.nmv.naver.net%2Fblog_2020_11_16_2915%2Ffc39a41e-27e2-11eb-a2e1-505dac8c37f3_01.jpg&type=ofullfill340_600',\n",
       " 'data:image/gif;base64,R0lGODlhAQABAIAAAAAAAP///yH5BAEAAAAALAAAAAABAAEAAAIBRAA7',\n",
       " 'https://search.pstatic.net/common/?src=http%3A%2F%2Fblogfiles.naver.net%2FMjAyMTAzMDJfMTMz%2FMDAxNjE0NjkxMzQ2NDM5.UxwG0yqF-BJ4kIkjWb7G2ghG6VbKBwm3JdDKWRJK2IYg.JXzy3mM0fAAwPYb7LnEljyLo9TinBpws3cSpO-AAzTkg.JPEG.glqltmzktm%2F1614690468215.jpg&type=a340',\n",
       " 'https://search.pstatic.net/common/?src=http%3A%2F%2Fimage.nmv.naver.net%2Fblog_2021_04_20_1148%2Fc28c9e6e-a1da-11eb-810e-48df379cca40_01.jpg&type=ofullfill340_600',\n",
       " 'https://search.pstatic.net/common/?src=http%3A%2F%2Fblogfiles.naver.net%2FMjAyMTA0MTFfMTEz%2FMDAxNjE4MTUxODI0MjA5.QuCnlg_Zy0FZs3eQCqGo0QSbMpLQrjLB_alG7X4X5X0g.jrpedWaEePfSBQL9GBptcV0mWrTRT-JqY8TaXNZuV2gg.JPEG.u-gym3%2F20201018%25A3%25DF131359.jpg&type=l340_165',\n",
       " 'https://search.pstatic.net/common/?src=http%3A%2F%2Fblogfiles.naver.net%2FMjAyMTA0MThfMTE4%2FMDAxNjE4NzU2MTQ5NzMw.E2NVabGeBEK840HzH1VXqvFobSOOKtRAU61VQkk_Ao8g.nEZEoK1YTTpVeW383AWds56JYgw3_7M1D3uAawIzvCIg.JPEG.wyekdl%2F20210414%25A3%25DF144434.jpg&type=a340',\n",
       " 'https://search.pstatic.net/common/?src=http%3A%2F%2Fblogfiles.naver.net%2FMjAyMTAyMjFfMjI2%2FMDAxNjEzOTA3NzMzOTAz.fVwtD42h7cjopgcs5O19RDh7c2CDe5idmS_-bYQ5h0sg.BJK11_Tk2bVfgnaO-2TTHxkNJVrqzyAjU3iubIWG6Hog.JPEG.hoyranqueen%2FIMG%25A3%25DF20210221%25A3%25DF134606%25A3%25DF321.jpg&type=a340',\n",
       " 'https://search.pstatic.net/common/?src=http%3A%2F%2Fblogfiles.naver.net%2FMjAyMTA0MjBfMTU5%2FMDAxNjE4OTEzMjkwNzcy.KfPY-mEuSluuAMCd-hakcM9H3rWUcauY41ieUVE6HCog.0XnNb_U8L04T8QbsA5NchUS48Escjf5J4jIT8IkSTvsg.JPEG.forpsh%2F20210420%25A3%25DF183126.jpg&type=a340',\n",
       " 'https://search.pstatic.net/common/?src=http%3A%2F%2Fblogfiles.naver.net%2FMjAyMTAzMzBfMTkz%2FMDAxNjE3MTAzOTU2OTgw.pb20u7sW-dvRa9GyV-UGtDKJ3FnjPD4o-nBhthDNurYg.jOrgGzw4OsGT1ExjWn0HjK1iPhFm51ADeKvpLWExESgg.JPEG.loveyourfamily%2F20210328%25A3%25DF173059.jpg&type=a340',\n",
       " 'https://search.pstatic.net/common/?src=http%3A%2F%2Fblogfiles.naver.net%2FMjAyMTA0MDFfMjIz%2FMDAxNjE3MjU5ODk5Njkx.WYyn-vcCNrnHhLaGBhuWwbQfjKRY1H8V6IQVrflr7hYg._razvSglDPE-gXIIUWABKJSNbeM0qjA5PS_KIR2OurYg.JPEG.eunhyukmom%2F20210327101740%25A3%25DFIMG%25A3%25DF2200.JPG&type=l340_165',\n",
       " 'https://search.pstatic.net/common/?src=http%3A%2F%2Fblogfiles.naver.net%2FMjAyMTAzMDFfOTUg%2FMDAxNjE0NTcwMzcxMTc3.mO6Eu7lHbUEBtufqE_wWARq5YM2YjNz-S_kdUQyh8JEg.nqpVV5byuKNm2ENWM1NWf8zxMs3hsHhRJpXEs_e6Twcg.JPEG.yhth27%2F%25BC%25F8%25B4%25EB%25B8%25B8%25B1%25B9%25B9%25E4.jpg&type=a340',\n",
       " 'https://search.pstatic.net/common/?src=http%3A%2F%2Fimage.nmv.naver.net%2Fblog_2021_03_17_753%2F7de143ae-86f0-11eb-bbff-505dac8c3639_01.jpg&type=ofullfill340_600',\n",
       " 'https://search.pstatic.net/common/?src=http%3A%2F%2Fblogfiles.naver.net%2FMjAyMTAzMDFfMjQg%2FMDAxNjE0NTgzNTI3ODIz.oDY3EwQJy0v9sbB07UROq2jReU5a1MhDkSuxQt3Uye8g.4p0byimxIkUzwjD8mv_g62IYkTnic47WqnZm1FXR2MMg.JPEG.clthd123%2FIMG_8525.JPG&type=a340',\n",
       " 'https://search.pstatic.net/common/?src=http%3A%2F%2Fimage.nmv.naver.net%2Fblog_2021_02_01_2485%2F51f9d325-6445-11eb-bba0-a0369ff94f34_01.jpg&type=a340',\n",
       " 'https://search.pstatic.net/common/?src=http%3A%2F%2Fblogfiles.naver.net%2FMjAyMTAzMDFfMTQz%2FMDAxNjE0NTg1NTQ2NjA3.DMM4li8FhM3RIB96wSxqry5APql5ygnXW7uy-MLBIQUg.gq1H4FcB25NSBreqeraUxKmapWdfjdmIP6MRlWgof9Yg.JPEG.soonii59%2FIMG_6642.JPG&type=l340_165',\n",
       " 'https://search.pstatic.net/common/?src=http%3A%2F%2Fblogfiles.naver.net%2FMjAyMTAzMjhfMTI2%2FMDAxNjE2OTMyMTYxNTEz.UYbX1YFSZwcOeg0t_IxVHRxNJWok1IduC_bj76OeFaYg.L1Qt1qqFiNg4MzZqaMiKsLoZv8L0hLx6d-6_HCYKu8Yg.JPEG.kimmi5060%2F20210315_124726.jpg&type=a340',\n",
       " 'https://search.pstatic.net/common/?src=http%3A%2F%2Fblogfiles.naver.net%2FMjAyMTAzMDFfMTE2%2FMDAxNjE0NTczNzU4ODU0.SpsbyT0SgMd93jn3hmfsiZRU-ObG2utc7zxXPTYygKkg.pXSWFR_l62lKuSH0d2IEaQ_3Rgw_avBk2HZ13Yp0Vmog.JPEG.goodlove3566%2F20210301%25A3%25DF130816.jpg&type=a340',\n",
       " 'https://search.pstatic.net/common/?src=http%3A%2F%2Fblogfiles.naver.net%2FMjAyMTAzMjVfMjc0%2FMDAxNjE2NjU3MTI5OTk5.FCYSPFjRhbSjaw5wwyHl5NXKGSwZdjzGcGPZxrXgbVgg.mGtY7qyJaOgIl-1CFRqHEggdA8Q-1l_LQYCM2016ud0g.JPEG.gksrufp07%2FIMG_4718.jpg&type=a340',\n",
       " 'https://search.pstatic.net/common/?src=http%3A%2F%2Fimage.nmv.naver.net%2Fblog_2021_04_21_3008%2F981cf35e-a266-11eb-9039-48df379cc9e4_01.jpg&type=ofullfill340_600',\n",
       " 'https://search.pstatic.net/common/?src=http%3A%2F%2Fblogfiles.naver.net%2FMjAyMTA0MjVfMjQ3%2FMDAxNjE5MzIyNTgwOTc2.0B6bM17i4OcDiGSQSFWnyM5EKwOfWp8nw9Wfyfph61kg.yoh2XCC7PT6E_1mPq1hicrop2OFj4F4L9a-2DIDD3-sg.JPEG.qogo9790%2F20210423%25A3%25DF135448.jpg&type=a340',\n",
       " 'https://search.pstatic.net/common/?src=http%3A%2F%2Fblogfiles.naver.net%2FMjAyMTA0MTZfMjkw%2FMDAxNjE4NTc5Njk1NTM3.B_MAoi0NcN7GIns_XpFr7OZE5q5AWQ5kB-0vE6t12ugg.pGR0wDIiHjaj8IbKXDMq903dRy7VDA_48p8SiUQF_ycg.JPEG.yg1035%2FIMG_9077.JPG&type=a340',\n",
       " 'https://search.pstatic.net/common/?src=http%3A%2F%2Fblogfiles.naver.net%2FMjAyMTA0MjZfODUg%2FMDAxNjE5NDIwODgxNzEw.-uXJOoFU3X2OJOt-ARCKJctoOvTXdtcVVsuNMeWcUw8g.8p8ybFuYeDGAXS2vWsU5EJ3jXYqjzjStwLV38PYVpDcg.JPEG.fogdojin%2F20210426%25A3%25DF152207.jpg&type=a340',\n",
       " 'https://search.pstatic.net/common/?src=http%3A%2F%2Fblogfiles.naver.net%2FMjAyMTAzMzFfMTI1%2FMDAxNjE3MTUyNDM0MDk2.v9Mi2VP5zV8uRybMn1HxIx8xEcbeKGPBkyMEO5M9ufkg.KbaHfi27Ymm_2TeC6sO5ipQrLebtJMKR45TLxmGdrKcg.JPEG.nrgsa%2F20210328%25A3%25DF122336.jpg&type=a340',\n",
       " 'https://search.pstatic.net/common/?src=http%3A%2F%2Fblogfiles.naver.net%2FMjAyMTAyMDZfNjQg%2FMDAxNjEyNjE5ODQ4OTc1.fisPQSiPHuBG127osLCoYf7WCuhzJ5QDox4bFPScZccg.ZoRvDA31UDjIu4aX5YStCajFUdwm7smUKCZs_D4uB-gg.JPEG.mongwakos%2FIMG_4022.JPG&type=a340',\n",
       " 'https://search.pstatic.net/common/?src=http%3A%2F%2Fimage.nmv.naver.net%2Fblog_2021_04_25_734%2F76d52e73-a5b8-11eb-a722-a0369ff9545c_01.jpg&type=ofullfill340_600',\n",
       " 'https://search.pstatic.net/common/?src=http%3A%2F%2Fblogfiles.naver.net%2FMjAyMTAzMTNfMjIw%2FMDAxNjE1NjE0MDg5OTA3.fyycq2LdGTKPdKO3UmRj2ItLnoPWqKxkn192RUs9XoIg.lCdZOpMawINlRzvHA7QH7AEk-H2VjWhOCrmqe0laZDcg.JPEG.winterburn%2F20210311%25A3%25DF185948.jpg&type=a340',\n",
       " 'https://search.pstatic.net/common/?src=http%3A%2F%2Fblogfiles.naver.net%2FMjAyMTAyMjFfMjA3%2FMDAxNjEzODY4MjUxODcx.rapOeeOyugG7RMkVrf3vX-if6INFj4X_AM9ZpfWfAZsg.Zcs4myyaWVnMiZ3EKY1xF4zTB8sJS-2Ij-UJdFUGAj4g.JPEG.xogur2881%2F20210219%25A3%25DF192551.jpg&type=ofullfill340_600',\n",
       " 'https://search.pstatic.net/common/?src=http%3A%2F%2Fblogfiles.naver.net%2FMjAyMTAzMTdfMTM4%2FMDAxNjE1OTg0MTU0NjE5.nTG1W1W1e0TelHIEy9-rzKmOtl_eIiqIdrJBaoTwmgcg.wAYm8BXPaA_oQOBpHeyx5XhAM88MSSSJI7DOBHBLdagg.JPEG.2046heui%2F1615984132759.jpg&type=a340',\n",
       " 'https://search.pstatic.net/common/?src=http%3A%2F%2Fblogfiles.naver.net%2FMjAyMTAzMjVfMTk0%2FMDAxNjE2NjY1MjQyNzI5.O4CBgYzOqqHT4bkeIEHHVMp10oOMjp_q2wdtd0auEHgg.1iCGaDCqLkxiSk49Lqmd321sw_qCAsOMtvuENjcRbegg.JPEG.sihong2%2F1616663490261.jpg&type=a340',\n",
       " 'https://search.pstatic.net/common/?src=http%3A%2F%2Fblogfiles.naver.net%2FMjAyMTAzMTdfMjEy%2FMDAxNjE1OTY0MTcyOTg3.7N6hJsif3bbNHWkjSxYjjYXqA_3lfuBcJkJ3BPQpV9Ag.13Op9HotfbJQrgI9qta6j8umfD9Wlzv0WWoQ7hkkgisg.JPEG.ghnaa0822%2FIMG_6291.jpg&type=a340',\n",
       " 'https://search.pstatic.net/common/?src=http%3A%2F%2Fblogfiles.naver.net%2FMjAyMTA0MjZfMjYz%2FMDAxNjE5NDM3ODE2NjI3.c4i2YvOvMsX2skcLm7HGM_oz_7dQNkctP3v6HxWji3Ag.EQtKJJXh2Wowo3Fv0QEzn3YAFDHLRbKM_mYjXm0bmsEg.JPEG.dgskyroad%2F1619436452824.jpg&type=a340',\n",
       " 'https://search.pstatic.net/common/?src=http%3A%2F%2Fblogfiles.naver.net%2FMjAyMTAxMTZfMTM5%2FMDAxNjEwNzg2NDY5Mzg1.DMhruooz2pkO3OHegFmDbKDM4-pwDwmbnjcOKVqWEbMg.dFk0gtZcnPL7i7nYc4gg501IEVXTC8sHOf-8OoNbqhcg.JPEG.bren1004%2F1610786467850.jpg&type=a340',\n",
       " 'https://search.pstatic.net/common/?src=http%3A%2F%2Fblogfiles.naver.net%2FMjAyMTAxMTBfOTIg%2FMDAxNjEwMjc2ODE3MDU0.MPX4RlXVKFYUN2lW9AG_rsyfXB1kXdKxKj6VMrqGE8kg.CWxLyvOEfuKZOGCfwIg0kePioocQgwdzMW6QLb6zycYg.JPEG.grandmachine%2F%25B9%25E8%25BF%25AC%25C1%25A4_%25BC%25D2%25B8%25D3%25B8%25AE%25B1%25B9%25B9%25E4%25285%2529.jpg&type=a340',\n",
       " 'https://search.pstatic.net/common/?src=http%3A%2F%2Fblogfiles.naver.net%2FMjAyMTA0MTlfMjc4%2FMDAxNjE4ODI5MjU3MjQ3.57AKOxH9aqtwJxidUE30zakjiad2KP7PyuAR4MTBFcwg.xFFCHFtUWj-ht-K3us8YgjhvvK6VKsj7biSKIOJxBWYg.JPEG.fika-day%2F20210419_180901.jpg&type=a340',\n",
       " 'https://search.pstatic.net/common/?src=http%3A%2F%2Fblogfiles.naver.net%2FMjAyMTAzMDJfNjkg%2FMDAxNjE0NjE5MjMyNzAx.fxy2urJyQVNRAL-ivTMzNeX1rjSoRH98fezhJyIw_Pog.ztU9GBRshhwO4rHixljJrN_u-w8-OCbpY6BoTSV3D-Eg.JPEG.ekwjd619%2FIMG_6659.jpg&type=a340',\n",
       " 'https://search.pstatic.net/common/?src=http%3A%2F%2Fblogfiles.naver.net%2FMjAyMTA0MjZfMjE1%2FMDAxNjE5Mzc4MzMzOTcx.hwWQzAUrylOzzGB4K5-0WWuGaa2rGfcr5ic8BA2Dtksg.xWFsuKzRVjPEPxMYD7may19e2Y2I2LDJaKDF9Ok0-qMg.JPEG.raonex%2FIMG%25A3%25DF20210402%25A3%25DF141652%25A3%25DF140.jpg&type=a340',\n",
       " 'https://search.pstatic.net/common/?src=http%3A%2F%2Fblogfiles.naver.net%2FMjAyMTAzMDJfNjkg%2FMDAxNjE0Njg3Mzg5ODkw.zA3Niieuqg7Eb-4lL1dBYA_W7MeMB_vHAn8alr7KimQg.AXXDCG5e0fkr3tWlCEexLYOW6_pdLvTEWSDaYkN5uCEg.JPEG.wlsdnjs0607%2FKakaoTalk_20210302_175045690_01.jpg&type=a340',\n",
       " 'https://search.pstatic.net/common/?src=http%3A%2F%2Fblogfiles.naver.net%2FMjAyMTA0MTRfNzUg%2FMDAxNjE4MzY1NzcxOTQz.-i8U6FikoCX0sM0gb6irKKVSPlm35WaAKufOgf5WLEIg.bQ5FG9lk4tAM1PZsAnh1WClnWNp3yyC4apFc9RSw_Twg.JPEG.lsmmm0816%2F20210410%25A3%25DF133306.jpg&type=a340',\n",
       " 'https://search.pstatic.net/common/?src=http%3A%2F%2Fblogfiles.naver.net%2FMjAyMTAyMThfMjIz%2FMDAxNjEzNjEyOTE0NjY2.rAqCosnzqIcnII7q92nNFDg_xAMQAUXYWleXFR6s0Tcg.eg5dt6g61dd9UbvSxsft3GV04THWki_teYP3DMJJ39Ig.JPEG.toyou0108%2FKakaoTalk_20210216_155519118_15.jpg&type=a340',\n",
       " 'https://search.pstatic.net/common/?src=http%3A%2F%2Fblogfiles.naver.net%2FMjAyMTA0MjBfMTEx%2FMDAxNjE4OTA2MTk2MDcz.OxdCq2zJx7v_QyvfDuO8biJtHxMf7wtl5-eYOsLPwmQg.-BOOxhvP224cYyYEtlwsDxDRBjMJWdwlgcKhTnO48DIg.JPEG.kimmangdyu%2FIMG_7468.jpg&type=a340',\n",
       " 'https://search.pstatic.net/common/?src=http%3A%2F%2Fblogfiles.naver.net%2FMjAyMTAzMTZfMTYx%2FMDAxNjE1ODc4MDIyODcw.wY4aBU-N7w4VRoWRfW55LmvNa2zEmccspoWslZ1Rt9Ug.MGE0vrpwjNSD8rWad0SfvDrKngm2_5z7xeL6IjvVjcIg.JPEG.nestblue0315%2FKakaoTalk_20210303_223813775_01.jpg&type=sc960_832',\n",
       " 'https://search.pstatic.net/common/?src=http%3A%2F%2Fblogfiles.naver.net%2FMjAyMTAzMDVfMTAg%2FMDAxNjE0OTA1NDI0NDg5.xToQv9Hupya7vGpVGlnJ6iuew6aw59lKJ4h7ptgGVWkg.SoDlHQkmd5BxP58HGrlnyBK-T9K70wEp-WT0HrC-8pwg.JPEG.ahee0426%2FIMG_4680.JPG&type=a340',\n",
       " 'https://search.pstatic.net/common/?src=http%3A%2F%2Fblogfiles.naver.net%2FMjAyMTAzMDNfMjA5%2FMDAxNjE0NzI3MjY2Mjc5.qLMZNHZiNBHUpSktYdAy94steRo1wxmX9Ax91ZkfJEMg.I7TV_LIBWSr5eaUfZndjPzcbyKMqAoluisZ99df7utsg.JPEG.chltnr2529%2F20210219_145430.jpg&type=a340',\n",
       " 'data:image/gif;base64,R0lGODlhAQABAIAAAAAAAP///yH5BAEAAAAALAAAAAABAAEAAAIBRAA7',\n",
       " 'https://search.pstatic.net/common/?src=http%3A%2F%2Fblogfiles.naver.net%2F20151019_220%2Fnanenniggu_1445232154365UdkGP_JPEG%2FDSC09261.JPG&type=a340',\n",
       " 'https://search.pstatic.net/common/?src=http%3A%2F%2Fblogfiles.naver.net%2FMjAxODA3MzBfMjQg%2FMDAxNTMyOTYwNzM5MjI2.CU006FhEwmeZDtudr6BnXL1Iv_ZojLBVd_AXsyfrWh8g.NNrlxae3BoqmqV_U5oGsgX2I2B9nGQ4Z0KuSvJH4-eog.JPEG.happy_day555%2FDSC06561.JPG&type=a340',\n",
       " 'data:image/gif;base64,R0lGODlhAQABAIAAAAAAAP///yH5BAEAAAAALAAAAAABAAEAAAIBRAA7',\n",
       " 'https://search.pstatic.net/common/?src=http%3A%2F%2Fblogfiles.naver.net%2FMjAxNzEyMDlfMTYx%2FMDAxNTEyNzg4Nzc2NTI1.1FdM_cew5HA8kMEg91w_QKeLmMWu2TmxRLkoyb7XOHYg.aGIDHzr4o2KsArpWID2uW7Y3MT8oCBIz0XQJWC3PnAkg.JPEG.godrod07%2FIMG_4315.JPG&type=a340',\n",
       " 'https://search.pstatic.net/common/?src=http%3A%2F%2Fblogfiles.naver.net%2FMjAyMTAxMThfNTMg%2FMDAxNjEwOTY4OTUzMDcx.CzolQkrTDgJZbMhg-Y0wcTw7JVe1TVNWbU7VrGsgCjMg.hBEBSjDgd6x8m-5PUu5y2Vnd-ARTBpvTs8kxMwmKqewg.JPEG.skylove4052%2F20210118%25A3%25DF132359.jpg&type=a340',\n",
       " 'data:image/gif;base64,R0lGODlhAQABAIAAAAAAAP///yH5BAEAAAAALAAAAAABAAEAAAIBRAA7',\n",
       " 'https://search.pstatic.net/common/?src=http%3A%2F%2Fblogfiles.naver.net%2FMjAxODEwMThfOTUg%2FMDAxNTM5ODY2MjYyOTIw.6LdC8_1OQzLPeksqB9KczQCue9EFeo7hAMmZ-YdDxQ4g.KZXVPvbNgK4_eMyI1QiEu-NFWp8pNLbQxoANCiOEadQg.JPEG.jun_729%2F2.jpg&type=a340',\n",
       " 'data:image/gif;base64,R0lGODlhAQABAIAAAAAAAP///yH5BAEAAAAALAAAAAABAAEAAAIBRAA7',\n",
       " 'data:image/gif;base64,R0lGODlhAQABAIAAAAAAAP///yH5BAEAAAAALAAAAAABAAEAAAIBRAA7',\n",
       " 'data:image/gif;base64,R0lGODlhAQABAIAAAAAAAP///yH5BAEAAAAALAAAAAABAAEAAAIBRAA7',\n",
       " 'data:image/gif;base64,R0lGODlhAQABAIAAAAAAAP///yH5BAEAAAAALAAAAAABAAEAAAIBRAA7',\n",
       " 'data:image/gif;base64,R0lGODlhAQABAIAAAAAAAP///yH5BAEAAAAALAAAAAABAAEAAAIBRAA7',\n",
       " 'data:image/gif;base64,R0lGODlhAQABAIAAAAAAAP///yH5BAEAAAAALAAAAAABAAEAAAIBRAA7',\n",
       " 'data:image/gif;base64,R0lGODlhAQABAIAAAAAAAP///yH5BAEAAAAALAAAAAABAAEAAAIBRAA7',\n",
       " 'data:image/gif;base64,R0lGODlhAQABAIAAAAAAAP///yH5BAEAAAAALAAAAAABAAEAAAIBRAA7',\n",
       " 'data:image/gif;base64,R0lGODlhAQABAIAAAAAAAP///yH5BAEAAAAALAAAAAABAAEAAAIBRAA7',\n",
       " 'data:image/gif;base64,R0lGODlhAQABAIAAAAAAAP///yH5BAEAAAAALAAAAAABAAEAAAIBRAA7',\n",
       " 'data:image/gif;base64,R0lGODlhAQABAIAAAAAAAP///yH5BAEAAAAALAAAAAABAAEAAAIBRAA7',\n",
       " 'data:image/gif;base64,R0lGODlhAQABAIAAAAAAAP///yH5BAEAAAAALAAAAAABAAEAAAIBRAA7',\n",
       " 'data:image/gif;base64,R0lGODlhAQABAIAAAAAAAP///yH5BAEAAAAALAAAAAABAAEAAAIBRAA7',\n",
       " 'data:image/gif;base64,R0lGODlhAQABAIAAAAAAAP///yH5BAEAAAAALAAAAAABAAEAAAIBRAA7',\n",
       " 'data:image/gif;base64,R0lGODlhAQABAIAAAAAAAP///yH5BAEAAAAALAAAAAABAAEAAAIBRAA7',\n",
       " 'data:image/gif;base64,R0lGODlhAQABAIAAAAAAAP///yH5BAEAAAAALAAAAAABAAEAAAIBRAA7',\n",
       " 'data:image/gif;base64,R0lGODlhAQABAIAAAAAAAP///yH5BAEAAAAALAAAAAABAAEAAAIBRAA7',\n",
       " 'data:image/gif;base64,R0lGODlhAQABAIAAAAAAAP///yH5BAEAAAAALAAAAAABAAEAAAIBRAA7',\n",
       " 'data:image/gif;base64,R0lGODlhAQABAIAAAAAAAP///yH5BAEAAAAALAAAAAABAAEAAAIBRAA7',\n",
       " 'data:image/gif;base64,R0lGODlhAQABAIAAAAAAAP///yH5BAEAAAAALAAAAAABAAEAAAIBRAA7',\n",
       " 'data:image/gif;base64,R0lGODlhAQABAIAAAAAAAP///yH5BAEAAAAALAAAAAABAAEAAAIBRAA7',\n",
       " 'data:image/gif;base64,R0lGODlhAQABAIAAAAAAAP///yH5BAEAAAAALAAAAAABAAEAAAIBRAA7',\n",
       " 'data:image/gif;base64,R0lGODlhAQABAIAAAAAAAP///yH5BAEAAAAALAAAAAABAAEAAAIBRAA7',\n",
       " 'data:image/gif;base64,R0lGODlhAQABAIAAAAAAAP///yH5BAEAAAAALAAAAAABAAEAAAIBRAA7',\n",
       " 'data:image/gif;base64,R0lGODlhAQABAIAAAAAAAP///yH5BAEAAAAALAAAAAABAAEAAAIBRAA7',\n",
       " 'data:image/gif;base64,R0lGODlhAQABAIAAAAAAAP///yH5BAEAAAAALAAAAAABAAEAAAIBRAA7',\n",
       " 'data:image/gif;base64,R0lGODlhAQABAIAAAAAAAP///yH5BAEAAAAALAAAAAABAAEAAAIBRAA7',\n",
       " 'data:image/gif;base64,R0lGODlhAQABAIAAAAAAAP///yH5BAEAAAAALAAAAAABAAEAAAIBRAA7',\n",
       " 'data:image/gif;base64,R0lGODlhAQABAIAAAAAAAP///yH5BAEAAAAALAAAAAABAAEAAAIBRAA7',\n",
       " 'data:image/gif;base64,R0lGODlhAQABAIAAAAAAAP///yH5BAEAAAAALAAAAAABAAEAAAIBRAA7',\n",
       " 'data:image/gif;base64,R0lGODlhAQABAIAAAAAAAP///yH5BAEAAAAALAAAAAABAAEAAAIBRAA7',\n",
       " 'data:image/gif;base64,R0lGODlhAQABAIAAAAAAAP///yH5BAEAAAAALAAAAAABAAEAAAIBRAA7',\n",
       " 'data:image/gif;base64,R0lGODlhAQABAIAAAAAAAP///yH5BAEAAAAALAAAAAABAAEAAAIBRAA7',\n",
       " 'data:image/gif;base64,R0lGODlhAQABAIAAAAAAAP///yH5BAEAAAAALAAAAAABAAEAAAIBRAA7',\n",
       " 'data:image/gif;base64,R0lGODlhAQABAIAAAAAAAP///yH5BAEAAAAALAAAAAABAAEAAAIBRAA7',\n",
       " 'data:image/gif;base64,R0lGODlhAQABAIAAAAAAAP///yH5BAEAAAAALAAAAAABAAEAAAIBRAA7',\n",
       " 'data:image/gif;base64,R0lGODlhAQABAIAAAAAAAP///yH5BAEAAAAALAAAAAABAAEAAAIBRAA7',\n",
       " 'data:image/gif;base64,R0lGODlhAQABAIAAAAAAAP///yH5BAEAAAAALAAAAAABAAEAAAIBRAA7',\n",
       " 'https://search.pstatic.net/common/?src=http%3A%2F%2Fblogfiles.naver.net%2FMjAyMTAzMTZfMTYx%2FMDAxNjE1ODc4MDIyODcw.wY4aBU-N7w4VRoWRfW55LmvNa2zEmccspoWslZ1Rt9Ug.MGE0vrpwjNSD8rWad0SfvDrKngm2_5z7xeL6IjvVjcIg.JPEG.nestblue0315%2FKakaoTalk_20210303_223813775_01.jpg&type=sc960_832']"
      ]
     },
     "execution_count": 72,
     "metadata": {},
     "output_type": "execute_result"
    }
   ],
   "source": [
    "img_list"
   ]
  },
  {
   "cell_type": "code",
   "execution_count": 63,
   "metadata": {},
   "outputs": [
    {
     "name": "stdout",
     "output_type": "stream",
     "text": [
      "2번째 이미지가 저장 중입니다.\n",
      "3번째 이미지가 저장 중입니다.\n",
      "4번째 이미지가 저장 중입니다.\n",
      "5번째 이미지가 저장 중입니다.\n",
      "6번째 이미지가 저장 중입니다.\n",
      "7번째 이미지가 저장 중입니다.\n",
      "8번째 이미지가 저장 중입니다.\n",
      "9번째 이미지가 저장 중입니다.\n",
      "10번째 이미지가 저장 중입니다.\n",
      "11번째 이미지가 저장 중입니다.\n",
      "12번째 이미지가 저장 중입니다.\n",
      "13번째 이미지가 저장 중입니다.\n",
      "14번째 이미지가 저장 중입니다.\n",
      "15번째 이미지가 저장 중입니다.\n",
      "16번째 이미지가 저장 중입니다.\n",
      "17번째 이미지가 저장 중입니다.\n",
      "18번째 이미지가 저장 중입니다.\n",
      "19번째 이미지가 저장 중입니다.\n",
      "20번째 이미지가 저장 중입니다.\n",
      "21번째 이미지가 저장 중입니다.\n",
      "22번째 이미지가 저장 중입니다.\n",
      "23번째 이미지가 저장 중입니다.\n",
      "24번째 이미지가 저장 중입니다.\n",
      "25번째 이미지가 저장 중입니다.\n",
      "26번째 이미지가 저장 중입니다.\n",
      "27번째 이미지가 저장 중입니다.\n",
      "28번째 이미지가 저장 중입니다.\n",
      "29번째 이미지가 저장 중입니다.\n",
      "30번째 이미지가 저장 중입니다.\n",
      "31번째 이미지가 저장 중입니다.\n",
      "32번째 이미지가 저장 중입니다.\n",
      "33번째 이미지가 저장 중입니다.\n",
      "34번째 이미지가 저장 중입니다.\n",
      "35번째 이미지가 저장 중입니다.\n",
      "36번째 이미지가 저장 중입니다.\n",
      "37번째 이미지가 저장 중입니다.\n",
      "38번째 이미지가 저장 중입니다.\n",
      "39번째 이미지가 저장 중입니다.\n",
      "40번째 이미지가 저장 중입니다.\n",
      "41번째 이미지가 저장 중입니다.\n",
      "42번째 이미지가 저장 중입니다.\n",
      "43번째 이미지가 저장 중입니다.\n",
      "44번째 이미지가 저장 중입니다.\n",
      "45번째 이미지가 저장 중입니다.\n",
      "46번째 이미지가 저장 중입니다.\n",
      "47번째 이미지가 저장 중입니다.\n",
      "48번째 이미지가 저장 중입니다.\n",
      "49번째 이미지가 저장 중입니다.\n",
      "50번째 이미지가 저장 중입니다.\n",
      "51번째 이미지가 저장 중입니다.\n",
      "52번째 이미지가 저장 중입니다.\n",
      "53번째 이미지가 저장 중입니다.\n",
      "54번째 이미지가 저장 중입니다.\n",
      "55번째 이미지가 저장 중입니다.\n",
      "56번째 이미지가 저장 중입니다.\n",
      "57번째 이미지가 저장 중입니다.\n",
      "58번째 이미지가 저장 중입니다.\n",
      "59번째 이미지가 저장 중입니다.\n",
      "60번째 이미지가 저장 중입니다.\n",
      "61번째 이미지가 저장 중입니다.\n",
      "62번째 이미지가 저장 중입니다.\n",
      "63번째 이미지가 저장 중입니다.\n",
      "64번째 이미지가 저장 중입니다.\n",
      "65번째 이미지가 저장 중입니다.\n",
      "66번째 이미지가 저장 중입니다.\n",
      "67번째 이미지가 저장 중입니다.\n",
      "68번째 이미지가 저장 중입니다.\n",
      "69번째 이미지가 저장 중입니다.\n",
      "70번째 이미지가 저장 중입니다.\n",
      "71번째 이미지가 저장 중입니다.\n",
      "72번째 이미지가 저장 중입니다.\n",
      "73번째 이미지가 저장 중입니다.\n",
      "74번째 이미지가 저장 중입니다.\n",
      "75번째 이미지가 저장 중입니다.\n",
      "76번째 이미지가 저장 중입니다.\n",
      "77번째 이미지가 저장 중입니다.\n",
      "78번째 이미지가 저장 중입니다.\n",
      "79번째 이미지가 저장 중입니다.\n",
      "80번째 이미지가 저장 중입니다.\n",
      "81번째 이미지가 저장 중입니다.\n",
      "82번째 이미지가 저장 중입니다.\n",
      "83번째 이미지가 저장 중입니다.\n",
      "84번째 이미지가 저장 중입니다.\n",
      "85번째 이미지가 저장 중입니다.\n",
      "86번째 이미지가 저장 중입니다.\n",
      "87번째 이미지가 저장 중입니다.\n",
      "88번째 이미지가 저장 중입니다.\n",
      "89번째 이미지가 저장 중입니다.\n",
      "90번째 이미지가 저장 중입니다.\n",
      "91번째 이미지가 저장 중입니다.\n",
      "92번째 이미지가 저장 중입니다.\n",
      "93번째 이미지가 저장 중입니다.\n",
      "94번째 이미지가 저장 중입니다.\n",
      "95번째 이미지가 저장 중입니다.\n",
      "96번째 이미지가 저장 중입니다.\n",
      "97번째 이미지가 저장 중입니다.\n",
      "98번째 이미지가 저장 중입니다.\n",
      "99번째 이미지가 저장 중입니다.\n",
      "100번째 이미지가 저장 중입니다.\n"
     ]
    }
   ],
   "source": [
    "#파일명을 결정해줄 변수하나 생성\n",
    "\n",
    "file_num = 0\n",
    "\n",
    "for i in range(len(img_list)):\n",
    "    urlretrieve(img_list[i],\"./이미지/\"+str(file_num)+'.jpg') #이미지 저장코드\n",
    "    \n",
    "    file_num+=1 #파일명 1씩 증가\n",
    "    time.sleep(1) #시간 1초씩 주기\n",
    "    \n",
    "    print('{}번째 이미지가 저장 중입니다.'.format(file_num+1))"
   ]
  },
  {
   "cell_type": "markdown",
   "metadata": {},
   "source": [
    "### 실습"
   ]
  },
  {
   "cell_type": "code",
   "execution_count": 74,
   "metadata": {},
   "outputs": [
    {
     "name": "stdout",
     "output_type": "stream",
     "text": [
      "폴더생성\n"
     ]
    }
   ],
   "source": [
    "if not os.path.isdir('./오데마피게'):\n",
    "    os.mkdir('./오데마피게')\n",
    "    print('폴더생성')"
   ]
  },
  {
   "cell_type": "code",
   "execution_count": 93,
   "metadata": {},
   "outputs": [],
   "source": [
    "driver = wb.Chrome()\n",
    "url =\"https://search.naver.com/search.naver?sm=tab_hty.top&where=image&query=%EC%98%A4%EB%8D%B0%EB%A7%88%ED%94%BC%EA%B2%8C&oquery=%EA%B5%AD%EB%B0%A5&tqi=h5GjXwp0J1sssR9YtxKssssssvC-436160\"\n",
    "driver.get(url)"
   ]
  },
  {
   "cell_type": "code",
   "execution_count": 94,
   "metadata": {},
   "outputs": [],
   "source": [
    "soup = bs(driver.page_source, 'lxml')"
   ]
  },
  {
   "cell_type": "code",
   "execution_count": 102,
   "metadata": {},
   "outputs": [],
   "source": [
    "img_src1 = soup.select('img._image')"
   ]
  },
  {
   "cell_type": "code",
   "execution_count": 103,
   "metadata": {},
   "outputs": [
    {
     "data": {
      "text/plain": [
       "48"
      ]
     },
     "execution_count": 103,
     "metadata": {},
     "output_type": "execute_result"
    }
   ],
   "source": [
    "len(img_src1)"
   ]
  },
  {
   "cell_type": "code",
   "execution_count": 104,
   "metadata": {},
   "outputs": [
    {
     "data": {
      "text/plain": [
       "[<img alt=\"[신제품소개] 오데마피게의 2021년 신제품들 &amp; 마블과의 콜라보레이션 시작\" class=\"_image _listImage\" data-org-height=\"510\" data-org-width=\"340\" src=\"https://search.pstatic.net/common/?src=http%3A%2F%2Fblogfiles.naver.net%2FMjAyMTAzMjBfNTkg%2FMDAxNjE2MjI5OTA5MjM2.v8wRkgkAsTm7IVdF4FQBfiaV_iMU_g1uFPKi1UII9Gog.h5OTJGymmO0qoYcUR0Z2W1iOKVQQs1Pc8HHUo43f5l0g.JPEG.jlcmania%2FAudemars-Piguet-Royal-Oak-Selfwinding-Chronograph-41mm-Calibre-4401-2021-edi.jpg&amp;type=a340\" style=\"height: 327px; opacity: 1;\"/>,\n",
       " <img alt=\"[타임모나코] 21년(국내) AP 오데마피게 15500ST GREY DIAL : 타임모나코\" class=\"_image _listImage\" data-org-height=\"419\" data-org-width=\"340\" src=\"https://search.pstatic.net/common/?src=http%3A%2F%2Fshop1.phinf.naver.net%2F20210421_24%2F1619000988655SCD65_JPEG%2F20136834364239705_175682374.jpg&amp;type=a340\" style=\"height: 269px; opacity: 1;\"/>,\n",
       " <img alt=\"고급 천연고무 실리콘 스포츠 오데마피게 15703 스트랩 밴드 방수 워치 시계줄 : 욜로룩\" class=\"_image _listImage\" data-org-height=\"444\" data-org-width=\"340\" src=\"https://search.pstatic.net/common/?src=http%3A%2F%2Fshop1.phinf.naver.net%2F20210410_290%2F1618028448726JmXCk_PNG%2F19164282519976981_1192123553.png&amp;type=a340\" style=\"height: 285px; opacity: 1;\"/>,\n",
       " <img alt=\"세상에서 가장 비싼 브랜드 시계 : 오데마 피게\" class=\"_image _listImage\" data-org-height=\"389\" data-org-width=\"340\" src=\"https://search.pstatic.net/common/?src=http%3A%2F%2Fblogfiles.naver.net%2FMjAyMTAyMTVfMTU3%2FMDAxNjEzMzc4MjEyNzkz.2DemRqK2b_kuU0m0ihiPHsQ9zuWHvl6-f9h_4M_mb8Eg.2wdQqY4dSinhV4a0B0WZr7dDYYjDoIdw55GbSFbViIsg.PNG.qkrtjd81%2Fimage.png&amp;type=a340\" style=\"height: 249px; opacity: 1;\"/>,\n",
       " <img alt=\"오데마피게 로얄오크 15400ST.OO.1220ST.02 시계보호필름\" class=\"_image _listImage\" data-lazy-src=\"https://search.pstatic.net/common/?src=http%3A%2F%2Fblogfiles.naver.net%2FMjAyMTAzMjdfMTM0%2FMDAxNjE2ODIwODg3MjEy.LQvZaIDbXTfUk9K2rAdls28jzGU0nYssy3UczlAnbmQg.icPsHoNrsjMJdpCjS4amgrdtR79lY4Pw_URpuhRw7dIg.JPEG.anfile13%2F15400ST.OO.1220ST.02_%25BF%25C0%25B5%25A5%25B8%25B6%25C7%25C7%25B0%25D4_%25B7%25CE%25BE%25E2%25BF%25C0%25C5%25A9_15400_%25BD%25C3%25B0%25E8%25BA%25B8%25C8%25A3%25C7%25CA%25B8%25A71_%252836%2529.jpg&amp;type=a340\" data-org-height=\"481\" data-org-width=\"340\" src=\"data:image/gif;base64,R0lGODlhAQABAIAAAAAAAP///yH5BAEAAAAALAAAAAABAAEAAAIBRAA7\" style=\"height: 308px;\"/>,\n",
       " <img alt=\"★ 입고예정 오데마피게 로얄오크 크로노그래프 ( 26331ST . OO . 1220ST . 02 ) ★\" class=\"_image _listImage\" data-org-height=\"340\" data-org-width=\"340\" src=\"https://search.pstatic.net/common/?src=http%3A%2F%2Fblogfiles.naver.net%2FMjAyMTAyMTNfMTk3%2FMDAxNjEzMTkwMTQ3OTU4.q6nlVxYZ8R0RP8QXgQn0ctD-wLSl_LIBM82Fbc8iLpYg.Df2w523UBteA1m1uq8hvbZbfnyQgTYpNDvLcrZgYNh8g.JPEG.winyyb%2FK-001.jpg&amp;type=a340\" style=\"height: 218px; opacity: 1;\"/>,\n",
       " <img alt=\"엘러브 ★ 오데마피게 로얄오크 오프쇼어42 스틸 크로노그래프 네이비 악어스트랩 블랙판 ★ 아이러브코코드림\" class=\"_image _listImage\" data-org-height=\"340\" data-org-width=\"340\" src=\"https://search.pstatic.net/common/?src=http%3A%2F%2Fblogfiles.naver.net%2FMjAyMTAzMTlfMTg2%2FMDAxNjE2MTQyOTkzMjU2.wQD1uZWQUAZpY0bYjosIsUlRAhfWmMIoudrAmEYVv14g.q4D08bbi-6sjTyd3AyZW3Ebc1BM34azEeuCT_9_ZSusg.JPEG.cocodream_%2Fd80596b6952033d51a2c16c9a6149f3c.jpg&amp;type=a340\" style=\"height: 218px; opacity: 1;\"/>,\n",
       " <img alt=\"[수원시계수리점]이미테이션 AP 오데마피게 로얄오크 오프셔 시계&amp;위블로시계 배터리교체\" class=\"_image _listImage\" data-org-height=\"424\" data-org-width=\"340\" src=\"https://search.pstatic.net/common/?src=http%3A%2F%2Fblogfiles.naver.net%2FMjAyMTA0MTNfMTg5%2FMDAxNjE4MzAwMjc5MDgz.pdqhlXHKayI4XO-fRwKg9hHqGWkdj0J0XNmPEXKg9uEg.bI2hVXWOseNXlW9TAd7rxoNsRCGQnf0Rb09T0W5irxYg.JPEG.speed2185%2FSmartSelect%25A3%25DF20210413%25A3%25AD164748%25A3%25DFNAVER.jpg&amp;type=a340\" style=\"height: 272px; opacity: 1;\"/>,\n",
       " <img alt=\"오데마 피게 로얄오크 명품의 최고시계\" class=\"_image _listImage\" data-lazy-src=\"https://search.pstatic.net/common/?src=http%3A%2F%2Fblogfiles.naver.net%2FMjAyMTAxMThfOTcg%2FMDAxNjEwOTY4OTUzMDgw.-pMcQ0E066IxiYPkoIP0L15aBKQhupKiCNm6GNiIoesg.wTBMe_W6IktnCpW1goI1Re6AU32SRjVzc-YiyuDrungg.PNG.hausdorf%2F6.png&amp;type=a340\" data-org-height=\"218\" data-org-width=\"340\" src=\"data:image/gif;base64,R0lGODlhAQABAIAAAAAAAP///yH5BAEAAAAALAAAAAABAAEAAAIBRAA7\" style=\"height: 140px;\"/>,\n",
       " <img alt=\"오데마피게 로얄오크 해외 사이트에서만 볼수있엇던 모델\" class=\"_image _listImage\" data-org-height=\"210\" data-org-width=\"340\" src=\"https://search.pstatic.net/common/?src=http%3A%2F%2Fblogfiles.naver.net%2FMjAyMTA0MDdfMjUx%2FMDAxNjE3NzkzMjEyNDcz.R3qa4KXlh8zUcqfgmeLybHKO0KUxAyES9st8OgSM7NUg.SrDvFTjwucknysFmxvlITPeImIcLBQ4Sun3b3cg1-5og.PNG.iamokey%2F4.png&amp;type=a340\" style=\"height: 135px; opacity: 1;\"/>,\n",
       " <img alt=\"오데마 피게\" class=\"_image _listImage\" data-org-height=\"600\" data-org-width=\"340\" src=\"https://search.pstatic.net/common/?src=http%3A%2F%2Fcafefiles.naver.net%2FMjAyMDA3MjdfMjA4%2FMDAxNTk1ODUyMjI4MjE1.hIrJJ4YgY8VJciE-EoBKr1CDZS4MqaxGiJNvfQ8gYXwg.Mqa08Cdb_NrlpTH3ZomXBllVBrbnWSXdpyifDLJO-zAg.JPEG%2FexternalFile.jpg&amp;type=ofullfill340_600\" style=\"height: 385px; opacity: 1;\"/>,\n",
       " <img alt=\"9명의 프로 골퍼들과 함께한 오데마 피게의 골프 인비테이셔널\" class=\"_image _listImage\" data-org-height=\"405\" data-org-width=\"340\" src=\"https://search.pstatic.net/common/?src=http%3A%2F%2Fcafefiles.naver.net%2FMjAxNzA1MjVfMTYw%2FMDAxNDk1Njg0MDIzMjU3.EZ3TEY2XWSll9ArL9Lr9U_pL2ByTJxVglL-meLMpfLYg.9InqFB5U4Yu0sn4_VfWooMN1ynjjL1RsnR1ZSbDqnkYg.JPEG.joshjang%2FexternalFile.jpg&amp;type=a340\" style=\"height: 260px; opacity: 1;\"/>,\n",
       " <img alt=\"ap 오데마피게 시계수리 후기 리스펙트 합니다\" class=\"_image _listImage\" data-org-height=\"509\" data-org-width=\"340\" src=\"https://search.pstatic.net/common/?src=http%3A%2F%2Fblogfiles.naver.net%2FMjAyMDExMDlfMTUg%2FMDAxNjA0OTIwNTkzMTEz.HEDJiwcwBC0UVg0tIVzkg-Sk9afm4_i67T6-Su3A-IEg.8_DnSaZn7wEmNCN27ka9ViFSZ1LTyT-4ElIr0aN7gMAg.JPEG.garu1114%2FKakaoTalk_20201109_193943687.jpg&amp;type=a340\" style=\"height: 326px; opacity: 1;\"/>,\n",
       " <img alt=\"카카오와치 오데마피게 로얄오크 점보  Audemars Piguet 15202OR.OO.1240OR.01 Jumbo\" class=\"_image _listImage\" data-org-height=\"443\" data-org-width=\"340\" src=\"https://search.pstatic.net/common/?src=http%3A%2F%2Fblogfiles.naver.net%2FMjAyMTAxMDVfMTM3%2FMDAxNjA5Nzc3MzY2NDUz.wdURCJFR1tDws49hCHaUmC2BbFLBH8UXbHEV_yg7eCgg.FKYX3GwVSzIN_eeIKIdBxoCtDnmz4lJb6YN9rJD1blsg.JPEG.speed5617%2F2021-01-05_01%253B22%253B37.jpg&amp;type=a340\" style=\"height: 284px; opacity: 1;\"/>,\n",
       " <img alt=\"오데마피게 로얄오크 더블밸런스 휠 오픈워크 15467OR\" class=\"_image _listImage\" data-lazy-src=\"https://search.pstatic.net/common/?src=http%3A%2F%2Fimage.nmv.naver.net%2Fblog_2020_12_31_1114%2Ff3aea6f6-4b23-11eb-a4f6-505dac8c385b_01.jpg&amp;type=l340_165\" data-org-height=\"165\" data-org-width=\"340\" src=\"data:image/gif;base64,R0lGODlhAQABAIAAAAAAAP///yH5BAEAAAAALAAAAAABAAEAAAIBRAA7\" style=\"height: 106px;\"/>,\n",
       " <img alt=\"오데마피게 로얄오크 15400 블루 남자들의 드림워치로 유명한 하이엔드 명품시계\" class=\"_image _listImage\" data-lazy-src=\"https://search.pstatic.net/common/?src=http%3A%2F%2Fblogfiles.naver.net%2FMjAyMTAyMjRfMjEy%2FMDAxNjE0MTYzNDEzMDk5.gPbD3anjNZXTZJ3XCJ3xnwDtnKFgfBe3VzB0H6bPzYkg.BGCUoRbKs_jhOI2g4LtP48clcM8x5c3TuuRN5CpPn-8g.JPEG.jmy0404%2F6.JPG&amp;type=a340\" data-org-height=\"219\" data-org-width=\"340\" src=\"data:image/gif;base64,R0lGODlhAQABAIAAAAAAAP///yH5BAEAAAAALAAAAAABAAEAAAIBRAA7\" style=\"height: 140px;\"/>,\n",
       " <img alt=\"오데마피게 로얄오크 26315 블루팬더 너무나 예쁜 시계!\" class=\"_image _listImage\" data-lazy-src=\"https://search.pstatic.net/common/?src=http%3A%2F%2Fblogfiles.naver.net%2FMjAyMTA0MjRfOTcg%2FMDAxNjE5MjI2NTUwNjE3.vCtvUkA5bdsdxvdMY19B0FvFU4wQ_eCLHcYqxJOxQuwg.6hT04zEjKdPK1XNx4B8RERAfv8e97PmtNUXYplMnkUQg.JPEG.ktty419%2FIMG_0141.jpg&amp;type=a340\" data-org-height=\"453\" data-org-width=\"340\" src=\"data:image/gif;base64,R0lGODlhAQABAIAAAAAAAP///yH5BAEAAAAALAAAAAABAAEAAAIBRAA7\" style=\"height: 290px;\"/>,\n",
       " <img alt=\"오데마피게 오토매틱 남자시계\" class=\"_image _listImage\" data-lazy-src=\"https://search.pstatic.net/common/?src=http%3A%2F%2Fcafefiles.naver.net%2FMjAyMDA2MjJfMTIy%2FMDAxNTkyODI4MzI0ODU2.vxnVcMCQb2eedQ6AugRUwbi8zdHItwNB11wFymd7RyMg.Ilg_m0yhAXskUIJWdTrKDuLeG4mVdyuoltkqRV7pEKsg.JPEG%2FexternalFile.jpg&amp;type=a340\" data-org-height=\"340\" data-org-width=\"340\" src=\"data:image/gif;base64,R0lGODlhAQABAIAAAAAAAP///yH5BAEAAAAALAAAAAABAAEAAAIBRAA7\" style=\"height: 218px;\"/>,\n",
       " <img alt=\"[잭로드/중고]  오데마 피게 AUDEMARS PIGUET Ref.15500ST.OO.1220ST.01 잭로드ID:3885367\" class=\"_image _listImage\" data-lazy-src=\"https://search.pstatic.net/common/?src=http%3A%2F%2Fblogfiles.naver.net%2FMjAyMTAzMTNfNTcg%2FMDAxNjE1NjEwMTUzODg3.LqHCRVp0K5ugrgOF0kRf77N3bB6nfYOG-QaRw6_txvgg.AItyagZtORTgli3HthteBWolsIAYwOsA9bmrpN5sKugg.JPEG.jackroad1987%2F3885367-2.jpg&amp;type=a340\" data-org-height=\"340\" data-org-width=\"340\" src=\"data:image/gif;base64,R0lGODlhAQABAIAAAAAAAP///yH5BAEAAAAALAAAAAABAAEAAAIBRAA7\" style=\"height: 218px;\"/>,\n",
       " <img alt=\"오데마피게 로얄오크 스틸 15500 ( VS 구형 15400)\" class=\"_image _listImage\" data-lazy-src=\"https://search.pstatic.net/common/?src=http%3A%2F%2Fblogfiles.naver.net%2FMjAyMDEwMTVfMjU2%2FMDAxNjAyNzMyNTM3NDQ3.v2ZjeNZ_u2P8__DTcDAHRKFGoEg1c0_uzucjEtrkGIQg.kiayB878DAL7ITJc8YfV4HaRiDD0JnhUpDkpiZSgsYgg.JPEG.mulgeseal%2F5.JPG&amp;type=a340\" data-org-height=\"487\" data-org-width=\"340\" src=\"data:image/gif;base64,R0lGODlhAQABAIAAAAAAAP///yH5BAEAAAAALAAAAAABAAEAAAIBRAA7\" style=\"height: 312px;\"/>,\n",
       " <img alt=\"[Fortune's 시계 속의 시계] 하이엔드 스포츠 워치의 정점, 오데마 피게\" class=\"_image _listImage\" data-lazy-src=\"https://search.pstatic.net/common/?src=http%3A%2F%2Fimgnews.naver.net%2Fimage%2F011%2F2014%2F07%2F22%2Fsed012014072215545722_99_20140806154403.jpg&amp;type=a340\" data-org-height=\"484\" data-org-width=\"340\" src=\"data:image/gif;base64,R0lGODlhAQABAIAAAAAAAP///yH5BAEAAAAALAAAAAABAAEAAAIBRAA7\" style=\"height: 310px;\"/>,\n",
       " <img alt=\"[전주 시계 수리]오데마피게 로얄오크 밴드수선\" class=\"_image _listImage\" data-lazy-src=\"https://search.pstatic.net/common/?src=http%3A%2F%2Fblogfiles.naver.net%2FMjAyMDA4MjRfMTUz%2FMDAxNTk4MjUzMjQ0Njk1.OQVHooJmXwHEbAMjM4lRpclO4cKkBEyf_BpZB2Qbu3gg.2HIlgxH8II901dQVktDJMglaqoqa87V9lVc-pc4IXfQg.JPEG.msterk%2F20200824_154309.jpg&amp;type=a340\" data-org-height=\"453\" data-org-width=\"340\" src=\"data:image/gif;base64,R0lGODlhAQABAIAAAAAAAP///yH5BAEAAAAALAAAAAABAAEAAAIBRAA7\" style=\"height: 290px;\"/>,\n",
       " <img alt=\"[타임모나코] AP 오데마피게 26331ST 로얄오크 검판 : 타임모나코\" class=\"_image _listImage\" data-lazy-src=\"https://search.pstatic.net/common/?src=http%3A%2F%2Fshop1.phinf.naver.net%2F20210225_266%2F1614249289817Pnf11_PNG%2F15385123615669026_571965836.png&amp;type=a340\" data-org-height=\"255\" data-org-width=\"340\" src=\"data:image/gif;base64,R0lGODlhAQABAIAAAAAAAP///yH5BAEAAAAALAAAAAABAAEAAAIBRAA7\" style=\"height: 164px;\"/>,\n",
       " <img alt=\"[오데마피게] 로얄오크 오프쇼어\" class=\"_image _listImage\" data-lazy-src=\"https://search.pstatic.net/common/?src=http%3A%2F%2Fpost.phinf.naver.net%2FMjAxOTA0MThfMSAg%2FMDAxNTU1NTU4ODQ4OTc2._O5Dr0DsN6e8HG-azPZHw-0y08AOQeZYL34DeKMnKxEg.7MWnxQO4oINlL2iuKV_4zutipxnObN5xvUGOu3VR3Lsg.JPEG%2FIMRlyfenPLAiyv_FTtsAy1P45NBw.jpg&amp;type=a340\" data-org-height=\"350\" data-org-width=\"340\" src=\"data:image/gif;base64,R0lGODlhAQABAIAAAAAAAP///yH5BAEAAAAALAAAAAABAAEAAAIBRAA7\" style=\"height: 224px;\"/>,\n",
       " <img alt=\"[보험 약관] 오토바이사고로 오데마피게 시계가 박살이 났다고?????교통사고 시계파손 보상이야기\" class=\"_image _listImage\" data-lazy-src=\"https://search.pstatic.net/common/?src=http%3A%2F%2Fblogfiles.naver.net%2FMjAyMDA1MjZfMjM5%2FMDAxNTkwNDgzMTgwODk5.B_Scs_VAPQQNt6ndXVtyG7PoqRdc255LwdGLLoVD1CQg.FmvJrAtR5Rozz2BLllV3YUrFkGqW_jfLyVdNe9pD5F4g.JPEG.j444469%2FKakaoTalk_20200526_172816229.jpg&amp;type=a340\" data-org-height=\"447\" data-org-width=\"340\" src=\"data:image/gif;base64,R0lGODlhAQABAIAAAAAAAP///yH5BAEAAAAALAAAAAABAAEAAAIBRAA7\" style=\"height: 287px;\"/>,\n",
       " <img alt=\"[오데마 피게] 로얄오크 15400RO 검정판 41mm - AUDEMARS PIGUET ROYAL OKA 15400RO 41mm\" class=\"_image _listImage\" data-lazy-src=\"https://search.pstatic.net/common/?src=http%3A%2F%2Fblogfiles.naver.net%2F20151102_60%2Fsw0030_1446453395019cDE96_JPEG%2Fap151023_03.jpg&amp;type=a340\" data-org-height=\"341\" data-org-width=\"340\" src=\"data:image/gif;base64,R0lGODlhAQABAIAAAAAAAP///yH5BAEAAAAALAAAAAABAAEAAAIBRAA7\" style=\"height: 219px;\"/>,\n",
       " <img alt=\"오데마피게 시계줄조정! (가품)\" class=\"_image _listImage\" data-lazy-src=\"https://search.pstatic.net/common/?src=http%3A%2F%2Fblogfiles.naver.net%2FMjAyMDA4MDlfMTEx%2FMDAxNTk2OTQ5MzYwNjQ2.l245leGSqdElNEPAkp19_m4waIhmXxCqFD2zADq1hNAg.R5DCJ36U5NOAsQToVmjMGlMYyMcZX_NRkNXsmVCDEpEg.JPEG.ssilibia%2FKakaoTalk_20200809_140100715.jpg&amp;type=a340\" data-org-height=\"453\" data-org-width=\"340\" src=\"data:image/gif;base64,R0lGODlhAQABAIAAAAAAAP///yH5BAEAAAAALAAAAAABAAEAAAIBRAA7\" style=\"height: 290px;\"/>,\n",
       " <img alt=\"오데마피게 New Models.\" class=\"_image _listImage\" data-lazy-src=\"https://search.pstatic.net/common/?src=http%3A%2F%2Fblogfiles.naver.net%2FMjAyMDExMDVfNjAg%2FMDAxNjA0NTUyMTE5Mjc5._IsvQ7b1cYFklKhTDKbVw12IK6zIMWneke4qYdjnlPsg.vWc-8mo7sbaKvYA7ijZGYsA4IHQfim_h_wQB6BHznYgg.PNG.whalsgh4720%2F%25BD%25BA%25C5%25A9%25B8%25B0%25BC%25A6_2020-11-05_%25BF%25C0%25C8%25C4_1.33.15.png&amp;type=a340\" data-org-height=\"345\" data-org-width=\"340\" src=\"data:image/gif;base64,R0lGODlhAQABAIAAAAAAAP///yH5BAEAAAAALAAAAAABAAEAAAIBRAA7\" style=\"height: 221px;\"/>,\n",
       " <img alt=\"지얄오크 오데마피게\" class=\"_image _listImage\" data-lazy-src=\"https://search.pstatic.net/common/?src=http%3A%2F%2Fblogfiles.naver.net%2FMjAyMDEwMTRfMTIw%2FMDAxNjAyNjAyNjQ3ODkz.3Se7D6anV49L_HeqtPpYvuERLi5nuvXjwhzYWJ2gMdMg.POiZe2tUGzzRXszZc32VI0YFNqGvU9dvSl01gtC8LGAg.JPEG.df2839%2FScreenshot_20201012-150904_YouTube.jpg&amp;type=a340\" data-org-height=\"191\" data-org-width=\"340\" src=\"data:image/gif;base64,R0lGODlhAQABAIAAAAAAAP///yH5BAEAAAAALAAAAAABAAEAAAIBRAA7\" style=\"height: 122px;\"/>,\n",
       " <img alt=\"[타임룩] 오데마피게 로얄오크 15500ST 블랙판 41mm : 타임룩 Timelook\" class=\"_image _listImage\" data-lazy-src=\"https://search.pstatic.net/common/?src=http%3A%2F%2Fshop1.phinf.naver.net%2F20201025_36%2F1603632132794E6Olx_JPEG%2F4768028344475302_1724033371.jpg&amp;type=a340\" data-org-height=\"340\" data-org-width=\"340\" src=\"data:image/gif;base64,R0lGODlhAQABAIAAAAAAAP///yH5BAEAAAAALAAAAAABAAEAAAIBRAA7\" style=\"height: 218px;\"/>,\n",
       " <img alt=\"AP...오데마피게는 국내 as는?\" class=\"_image _listImage\" data-lazy-src=\"https://search.pstatic.net/common/?src=http%3A%2F%2Fblogfiles.naver.net%2FMjAyMDEwMDRfOTUg%2FMDAxNjAxNzQzNTQxNzc1.8KkvIcRL-wQDpqsQlzvPfDZa2Kp1d-doWGIEx9DMfxAg.LZKhChEIav-yTAhr5ZG8_rSUVGoVUNQEgPznEShlXUwg.JPEG.jak2046%2F1601743542279.jpg&amp;type=l340_165\" data-org-height=\"165\" data-org-width=\"340\" src=\"data:image/gif;base64,R0lGODlhAQABAIAAAAAAAP///yH5BAEAAAAALAAAAAABAAEAAAIBRAA7\" style=\"height: 106px;\"/>,\n",
       " <img alt=\"*ALA* 당일배송  오데마피게 26584 한정판 모델  Audemars Piguet     필웨이\" class=\"_image _listImage\" data-lazy-src=\"https://search.pstatic.net/sunny/?src=https%3A%2F%2Fimg019.feelway.com%2Fgoods_image%2Ffpho_3669_bd203pd3669979794ed5%2FAudemars_Piguet_ALA_%25EB%258B%25B9%25EC%259D%25BC%25EB%25B0%25B0%25EC%2586%25A1_%25EC%2598%25A4%25EB%258D%25B0%25EB%25A7%2588%25ED%2594%25BC%25EA%25B2%258C_26584_%25ED%2595%259C%25EC%25A0%2595%25ED%258C%2590_%25EB%25AA%25A8%25EB%258D%25B8_5.jpg&amp;type=a340\" data-org-height=\"366\" data-org-width=\"340\" src=\"data:image/gif;base64,R0lGODlhAQABAIAAAAAAAP///yH5BAEAAAAALAAAAAABAAEAAAIBRAA7\" style=\"height: 235px;\"/>,\n",
       " <img alt=\"[타임룩]오데마피게(Audemars piguet) 로얄오크 점보 15202\" class=\"_image _listImage\" data-lazy-src=\"https://search.pstatic.net/common/?src=http%3A%2F%2Fblogfiles.naver.net%2FMjAyMDA2MDlfMjU5%2FMDAxNTkxNjgzMzY0NDQ3.BJqXXHJyBjycbfS_4wHCRhphTWd2Krnv7kGofaX8Loog.9BiFYLJjY3AjhsbKmeQMKLRGVpdvxgPXPftMUyybytwg.PNG.timelook09%2F%25B4%25EB%25C7%25A5%25BB%25E7%25C1%25F8.png&amp;type=a340\" data-org-height=\"461\" data-org-width=\"340\" src=\"data:image/gif;base64,R0lGODlhAQABAIAAAAAAAP///yH5BAEAAAAALAAAAAABAAEAAAIBRAA7\" style=\"height: 296px;\"/>,\n",
       " <img alt=\"마이바흐(Maybach)보다 4억 비싼 오데마 피게(Audemars Piguet) 시계\" class=\"_image _listImage\" data-lazy-src=\"https://search.pstatic.net/common/?src=http%3A%2F%2Fblogfiles.naver.net%2FMjAyMDA3MTRfMjg4%2FMDAxNTk0NzM3NzE0MTgy.co8WIqpQaL9pRTABjw6NrkJJtpCzOsLg4xLIfsDGIKUg.VeokFFWAa7YSJ-sP_UxcNw-vgI9cWO67aGdTqZyXGtcg.JPEG.jhkim5051%2F1729E6144A6296B599.jpg&amp;type=a340\" data-org-height=\"261\" data-org-width=\"340\" src=\"data:image/gif;base64,R0lGODlhAQABAIAAAAAAAP///yH5BAEAAAAALAAAAAABAAEAAAIBRAA7\" style=\"height: 167px;\"/>,\n",
       " <img alt=\"AUDEMARS PIGUET [오데마 피게]\" class=\"_image _listImage\" data-lazy-src=\"https://search.pstatic.net/common/?src=http%3A%2F%2Fblogfiles.naver.net%2FMjAxNzAxMThfMTY2%2FMDAxNDg0NzQ4NTUzNDky.qfvPSMJpnp1uN_x3JVXNyDNBa4ZqCC4mhInIPvcGadkg.1NWdPndPb218n1LQGZTw9Qjqz8asO5dF8tBYBW9XZj8g.PNG.hearout%2F15400ST_OO_1220ST_01.png&amp;type=a340\" data-org-height=\"461\" data-org-width=\"340\" src=\"data:image/gif;base64,R0lGODlhAQABAIAAAAAAAP///yH5BAEAAAAALAAAAAABAAEAAAIBRAA7\" style=\"height: 296px;\"/>,\n",
       " <img alt=\"무려 2억 3천만원. 오데마 피게가 공개한 2020 로얄 오크 콘셉트\" class=\"_image _listImage\" data-lazy-src=\"https://search.pstatic.net/common/?src=http%3A%2F%2Fblogfiles.naver.net%2FMjAyMDA2MTNfMjEx%2FMDAxNTkxOTg2Njg0NTkz.ov2VGaZTar5XQ-iL2mz8Qz_q1D7IW5FI88T7agLEthQg.hmqCiDU-ixvMja0BPKV5wkMlTW85iDQZ8oN2gB7Zd9kg.JPEG.odh44444%2Fhttps___kr.hypebeast.com_files_2020_06_audemars-piguet-2020-royal-oak-concep.jpg&amp;type=a340\" data-org-height=\"227\" data-org-width=\"340\" src=\"data:image/gif;base64,R0lGODlhAQABAIAAAAAAAP///yH5BAEAAAAALAAAAAABAAEAAAIBRAA7\" style=\"height: 146px;\"/>,\n",
       " <img alt=\"오데마피게 로얄오크 26331 청판 스틸 - 와치스퀘어\" class=\"_image _listImage\" data-lazy-src=\"https://search.pstatic.net/common/?src=http%3A%2F%2Fblogfiles.naver.net%2FMjAyMTAzMThfMTcg%2FMDAxNjE2MDUyMzAzMDQ4.TukBR-SaIkbiRSnlAHQKvmXWiRoybZRyu2gZWKUy_RMg.kTD3w83_RJPR_VQ4M7uBp-3fCfrR4mHqrj9b5uWuNxkg.JPEG.watchsquare1%2F%25C0%25CC%25B9%25CC%25C1%25F63.jpg&amp;type=a340\" data-org-height=\"239\" data-org-width=\"340\" src=\"data:image/gif;base64,R0lGODlhAQABAIAAAAAAAP///yH5BAEAAAAALAAAAAABAAEAAAIBRAA7\" style=\"height: 153px;\"/>,\n",
       " <img alt=\"[명품시계 정보] 럭셔리 남자 스포츠 시계의 정점  - 오데마 피게 (Audemars Piguet) -\" class=\"_image _listImage\" data-lazy-src=\"https://search.pstatic.net/common/?src=http%3A%2F%2Fblogfiles.naver.net%2F20130722_116%2Fjowoo333_1374487706092DGy3w_JPEG%2F2013-07-22_18%253B07%253B16.jpg&amp;type=a340\" data-org-height=\"481\" data-org-width=\"340\" src=\"data:image/gif;base64,R0lGODlhAQABAIAAAAAAAP///yH5BAEAAAAALAAAAAABAAEAAAIBRAA7\" style=\"height: 308px;\"/>,\n",
       " <img alt=\"오데마 피게 CEO 프랑수아 앙리 베나미아스(Francois-Henry Bennahmias) 인터뷰 - EXCLUSIVE - TIMEFORUM\" class=\"_image _listImage\" data-lazy-src=\"https://search.pstatic.net/sunny/?src=https%3A%2F%2Fwww.timeforum.co.kr%2Ffiles%2Fattach%2Fimages%2F76%2F650%2F943%2F013%2Fac2a4b781a76f7f51c7c559cdb12ca9f.jpg&amp;type=a340\" data-org-height=\"367\" data-org-width=\"340\" src=\"data:image/gif;base64,R0lGODlhAQABAIAAAAAAAP///yH5BAEAAAAALAAAAAABAAEAAAIBRAA7\" style=\"height: 235px;\"/>,\n",
       " <img alt=\"연예인 쌈디 시계(리차드밀,파텍필립,오데마피게)가격정보\" class=\"_image _listImage\" data-lazy-src=\"https://search.pstatic.net/common/?src=http%3A%2F%2Fblogfiles.naver.net%2FMjAyMTAxMjdfMzIg%2FMDAxNjExNzE0MTU3MzM5.LW4zP55rQf3tTZa2_yPytHe9xXV4eThhR-iCagjvYowg.OJ1sFPPgnw7B_GPcjVt4Ue1EF2f8qY2xS8g8BmyH-Ckg.JPEG.skwlsdnjs1%2F11.jpg&amp;type=ofullfill340_600\" data-org-height=\"600\" data-org-width=\"340\" src=\"data:image/gif;base64,R0lGODlhAQABAIAAAAAAAP///yH5BAEAAAAALAAAAAABAAEAAAIBRAA7\" style=\"height: 385px;\"/>,\n",
       " <img alt=\"오데마 피게 로얄오크 26320,15500 검판 입고완료\" class=\"_image _listImage\" data-lazy-src=\"https://search.pstatic.net/common/?src=http%3A%2F%2Fblogfiles.naver.net%2FMjAyMTA0MjZfMjk3%2FMDAxNjE5NDI1MDE2Mjgy.7Y9ALdZRM1Pvs44fCREay1eNG9xLXHo9EVIDaKvgu-Ig.9dF94GK-VtcuxCipeddlLNKwrR2L-214m6azYmeiyCMg.JPEG.zxc14066%2FKakaoTalk_20210426_133937773_01.jpg&amp;type=a340\" data-org-height=\"419\" data-org-width=\"340\" src=\"data:image/gif;base64,R0lGODlhAQABAIAAAAAAAP///yH5BAEAAAAALAAAAAABAAEAAAIBRAA7\" style=\"height: 269px;\"/>,\n",
       " <img alt=\"[제네바 타임]오데마피게 로얄오크26331 스틸청판 중고 입고\" class=\"_image _listImage\" data-lazy-src=\"https://search.pstatic.net/common/?src=http%3A%2F%2Fimage.nmv.naver.net%2Fblog_2021_04_22_2975%2F9036a612-a34a-11eb-bdaa-a0369ff963bc_01.jpg&amp;type=ofullfill340_600\" data-org-height=\"600\" data-org-width=\"340\" src=\"data:image/gif;base64,R0lGODlhAQABAIAAAAAAAP///yH5BAEAAAAALAAAAAABAAEAAAIBRAA7\" style=\"height: 385px;\"/>,\n",
       " <img alt=\"오데마피게 26400  로즈골드 팝니다\" class=\"_image _listImage\" data-lazy-src=\"https://search.pstatic.net/common/?src=http%3A%2F%2Fcafefiles.naver.net%2FMjAyMDA1MThfMTQg%2FMDAxNTg5NzUwMDUzMDg4.-h3HvHQRapbcDlWG9nnjqNtvGYrGY7shYUFTH53UVtMg._36sK2HseraR0jL3D2I3qJV3w1i7JqDp2W6Kbv61kGQg.JPEG%2FA70368B7-73E3-48F6-B4FD-D07BC9D5F2F0.jpeg&amp;type=a340\" data-org-height=\"255\" data-org-width=\"340\" src=\"data:image/gif;base64,R0lGODlhAQABAIAAAAAAAP///yH5BAEAAAAALAAAAAABAAEAAAIBRAA7\" style=\"height: 164px;\"/>,\n",
       " <img alt=\"오데마피게(Audemars Piguet)\" class=\"_image _listImage\" data-lazy-src=\"https://search.pstatic.net/common/?src=http%3A%2F%2Fpost.phinf.naver.net%2FMjAxODA0MjBfMTA4%2FMDAxNTI0MjE3ODgwMjUw.b4kSTXiBseXuCulw6uK7xKBuC0aXddxe4bd_VrZ4tgEg.Z96nR6ueeZHS4J4jhFl9VzuSM8rnDy3xp18ddPAf96Yg.JPEG%2FIOOuTw1xCHTbpqPqH4-vPzZjmsY0.jpg&amp;type=l340_165\" data-org-height=\"165\" data-org-width=\"340\" src=\"data:image/gif;base64,R0lGODlhAQABAIAAAAAAAP///yH5BAEAAAAALAAAAAABAAEAAAIBRAA7\" style=\"height: 106px;\"/>,\n",
       " <img alt=\"오데마피게 로얄오크 뚜르비옹 26510 로즈골드 금통 [입고]\" class=\"_image _listImage\" data-lazy-src=\"https://search.pstatic.net/common/?src=http%3A%2F%2Fblogfiles.naver.net%2FMjAyMTAxMzBfNjAg%2FMDAxNjExOTc5NDIwMzk1._dhIaVCdvaE36dyVV2KWzYjCzP_iycKnO6ObZlqRHjsg.r9uNlK069PNM4chIyguQGLdrzUIWyLJ9tyURCv51Jc0g.PNG.whalsgh4720%2F%25BD%25BA%25C5%25A9%25B8%25B0%25BC%25A6_2021-01-29_%25BF%25C0%25C8%25C4_10.55.24.png&amp;type=a340\" data-org-height=\"341\" data-org-width=\"340\" src=\"data:image/gif;base64,R0lGODlhAQABAIAAAAAAAP///yH5BAEAAAAALAAAAAABAAEAAAIBRAA7\" style=\"height: 219px;\"/>,\n",
       " <img alt=\"오데마피게 로얄오크 뚜르비용 블랙다이얼 빅3 하이엔드 브랜드의 오토매틱 끝판왕 시계 후기!\" class=\"_image _listImage\" data-lazy-src=\"https://search.pstatic.net/common/?src=http%3A%2F%2Fblogfiles.naver.net%2FMjAyMTAyMjBfMjY1%2FMDAxNjEzODA3OTMyMTE2.ysUhTibsx2BMABtcbGPSnBoQm1oIk0wNeKJZMgyOj44g.HzoMDl_oe9LzpJhMcN9WzClmu9CbtZOdzWrsZAsMiBcg.JPEG.karam4865%2Fmmexport1613530390215.jpg&amp;type=a340\" data-org-height=\"340\" data-org-width=\"340\" src=\"data:image/gif;base64,R0lGODlhAQABAIAAAAAAAP///yH5BAEAAAAALAAAAAABAAEAAAIBRAA7\" style=\"height: 218px;\"/>,\n",
       " <img alt=\"SIHH -오데마 피게- - EXCLUSIVE - TIMEFORUM\" class=\"_image _listImage\" data-lazy-src=\"https://search.pstatic.net/sunny/?src=https%3A%2F%2Fwww.timeforum.co.kr%2FPds%2FBoard%2Ff_03%2FEditor%2Fap_MG_0748.jpg&amp;type=a340\" data-org-height=\"510\" data-org-width=\"340\" src=\"data:image/gif;base64,R0lGODlhAQABAIAAAAAAAP///yH5BAEAAAAALAAAAAABAAEAAAIBRAA7\" style=\"height: 327px;\"/>,\n",
       " <img alt=\"★ 입고예정 오데마피게 로얄오크 ( 15500ST . OO . 1220ST . 03 ) ★\" class=\"_image _listImage\" data-lazy-src=\"https://search.pstatic.net/common/?src=http%3A%2F%2Fblogfiles.naver.net%2FMjAyMTAyMDVfMjI2%2FMDAxNjEyNTIyNDYxMzE3.e5zMMgfXTRYJ3rK-A8TJcppVCDCs2I7HbV4dnKv2Shwg.p0Amn0IlfpGukTCvm78SCnqiClET9FF2_dKTH7aRDocg.JPEG.winyyb%2FK-017.jpg&amp;type=a340\" data-org-height=\"460\" data-org-width=\"340\" src=\"data:image/gif;base64,R0lGODlhAQABAIAAAAAAAP///yH5BAEAAAAALAAAAAABAAEAAAIBRAA7\" style=\"height: 295px;\"/>]"
      ]
     },
     "execution_count": 104,
     "metadata": {},
     "output_type": "execute_result"
    }
   ],
   "source": [
    "img_src1"
   ]
  },
  {
   "cell_type": "code",
   "execution_count": 105,
   "metadata": {},
   "outputs": [],
   "source": [
    "img_list1= []\n",
    "\n",
    "for i in img_src1:\n",
    "    img_list1.append(i['src'])"
   ]
  },
  {
   "cell_type": "code",
   "execution_count": 109,
   "metadata": {},
   "outputs": [
    {
     "name": "stdout",
     "output_type": "stream",
     "text": [
      "1번째 이미지가 저장 중입니다.\n",
      "2번째 이미지가 저장 중입니다.\n",
      "3번째 이미지가 저장 중입니다.\n",
      "4번째 이미지가 저장 중입니다.\n",
      "5번째 이미지가 저장 중입니다.\n",
      "6번째 이미지가 저장 중입니다.\n",
      "7번째 이미지가 저장 중입니다.\n",
      "8번째 이미지가 저장 중입니다.\n",
      "9번째 이미지가 저장 중입니다.\n",
      "10번째 이미지가 저장 중입니다.\n",
      "11번째 이미지가 저장 중입니다.\n",
      "12번째 이미지가 저장 중입니다.\n",
      "13번째 이미지가 저장 중입니다.\n",
      "14번째 이미지가 저장 중입니다.\n",
      "15번째 이미지가 저장 중입니다.\n",
      "16번째 이미지가 저장 중입니다.\n",
      "17번째 이미지가 저장 중입니다.\n",
      "18번째 이미지가 저장 중입니다.\n",
      "19번째 이미지가 저장 중입니다.\n",
      "20번째 이미지가 저장 중입니다.\n",
      "21번째 이미지가 저장 중입니다.\n",
      "22번째 이미지가 저장 중입니다.\n",
      "23번째 이미지가 저장 중입니다.\n",
      "24번째 이미지가 저장 중입니다.\n",
      "25번째 이미지가 저장 중입니다.\n",
      "26번째 이미지가 저장 중입니다.\n",
      "27번째 이미지가 저장 중입니다.\n",
      "28번째 이미지가 저장 중입니다.\n",
      "29번째 이미지가 저장 중입니다.\n",
      "30번째 이미지가 저장 중입니다.\n",
      "31번째 이미지가 저장 중입니다.\n",
      "32번째 이미지가 저장 중입니다.\n",
      "33번째 이미지가 저장 중입니다.\n",
      "34번째 이미지가 저장 중입니다.\n",
      "35번째 이미지가 저장 중입니다.\n",
      "36번째 이미지가 저장 중입니다.\n",
      "37번째 이미지가 저장 중입니다.\n",
      "38번째 이미지가 저장 중입니다.\n",
      "39번째 이미지가 저장 중입니다.\n",
      "40번째 이미지가 저장 중입니다.\n",
      "41번째 이미지가 저장 중입니다.\n",
      "42번째 이미지가 저장 중입니다.\n",
      "43번째 이미지가 저장 중입니다.\n",
      "44번째 이미지가 저장 중입니다.\n",
      "45번째 이미지가 저장 중입니다.\n",
      "46번째 이미지가 저장 중입니다.\n",
      "47번째 이미지가 저장 중입니다.\n",
      "48번째 이미지가 저장 중입니다.\n"
     ]
    }
   ],
   "source": [
    "file_num = 0\n",
    "\n",
    "for i in range(len(img_list1)):\n",
    "    urlretrieve(img_list1[i],\"./오데마피게/\"+str(file_num)+'.jpg') \n",
    "    \n",
    "    file_num+=1\n",
    "    time.sleep(1) \n",
    "    print('{}번째 이미지가 저장 중입니다.'.format(file_num))"
   ]
  },
  {
   "cell_type": "markdown",
   "metadata": {},
   "source": [
    "## G마켓 BEST 크롤링"
   ]
  },
  {
   "cell_type": "code",
   "execution_count": 177,
   "metadata": {},
   "outputs": [],
   "source": [
    "driver = wb.Chrome()\n",
    "url =\"http://corners.gmarket.co.kr/Bestsellers\"\n",
    "driver.get(url)"
   ]
  },
  {
   "cell_type": "markdown",
   "metadata": {},
   "source": [
    "### 1단계"
   ]
  },
  {
   "cell_type": "markdown",
   "metadata": {},
   "source": [
    "- 클릭할 요소들을 가져온다."
   ]
  },
  {
   "cell_type": "code",
   "execution_count": 178,
   "metadata": {},
   "outputs": [],
   "source": [
    "b_list = driver.find_elements_by_css_selector('img.lazy')"
   ]
  },
  {
   "cell_type": "code",
   "execution_count": 160,
   "metadata": {},
   "outputs": [
    {
     "data": {
      "text/plain": [
       "220"
      ]
     },
     "execution_count": 160,
     "metadata": {},
     "output_type": "execute_result"
    }
   ],
   "source": [
    "len(b_list)"
   ]
  },
  {
   "cell_type": "markdown",
   "metadata": {},
   "source": [
    "### 2단계"
   ]
  },
  {
   "cell_type": "markdown",
   "metadata": {},
   "source": [
    "- 클릭해보자"
   ]
  },
  {
   "cell_type": "code",
   "execution_count": 172,
   "metadata": {},
   "outputs": [],
   "source": [
    "b_list[0].click()"
   ]
  },
  {
   "cell_type": "code",
   "execution_count": 130,
   "metadata": {},
   "outputs": [],
   "source": [
    "soup = bs(driver.page_source,'lxml')"
   ]
  },
  {
   "cell_type": "code",
   "execution_count": 146,
   "metadata": {},
   "outputs": [],
   "source": [
    "item =soup.select('h1.itemtit')"
   ]
  },
  {
   "cell_type": "code",
   "execution_count": 150,
   "metadata": {},
   "outputs": [
    {
     "data": {
      "text/plain": [
       "'조르단 스텝 어린이칫솔 12개+증정 유아칫솔 유아치약 '"
      ]
     },
     "execution_count": 150,
     "metadata": {},
     "output_type": "execute_result"
    }
   ],
   "source": [
    "item[0].text"
   ]
  },
  {
   "cell_type": "code",
   "execution_count": 151,
   "metadata": {},
   "outputs": [],
   "source": [
    "price = soup.select('strong.price_real')"
   ]
  },
  {
   "cell_type": "code",
   "execution_count": 152,
   "metadata": {},
   "outputs": [
    {
     "data": {
      "text/plain": [
       "'22,400원'"
      ]
     },
     "execution_count": 152,
     "metadata": {},
     "output_type": "execute_result"
    }
   ],
   "source": [
    "price[0].text"
   ]
  },
  {
   "cell_type": "code",
   "execution_count": 153,
   "metadata": {},
   "outputs": [],
   "source": [
    "item_list = []\n",
    "price_list =[]\n",
    "\n",
    "item_list.append(item[0].text)\n",
    "price_list.append(price[0].text)"
   ]
  },
  {
   "cell_type": "code",
   "execution_count": 154,
   "metadata": {},
   "outputs": [
    {
     "data": {
      "text/plain": [
       "['조르단 스텝 어린이칫솔 12개+증정 유아칫솔 유아치약 ']"
      ]
     },
     "execution_count": 154,
     "metadata": {},
     "output_type": "execute_result"
    }
   ],
   "source": [
    "item_list"
   ]
  },
  {
   "cell_type": "code",
   "execution_count": 155,
   "metadata": {},
   "outputs": [
    {
     "data": {
      "text/plain": [
       "['22,400원']"
      ]
     },
     "execution_count": 155,
     "metadata": {},
     "output_type": "execute_result"
    }
   ],
   "source": [
    "price_list"
   ]
  },
  {
   "cell_type": "markdown",
   "metadata": {},
   "source": [
    "### 뒤로가기 제어"
   ]
  },
  {
   "cell_type": "code",
   "execution_count": 173,
   "metadata": {},
   "outputs": [],
   "source": [
    "driver.back()"
   ]
  },
  {
   "cell_type": "markdown",
   "metadata": {},
   "source": [
    "### 순서대로 클릭하기"
   ]
  },
  {
   "cell_type": "code",
   "execution_count": 179,
   "metadata": {},
   "outputs": [
    {
     "ename": "KeyboardInterrupt",
     "evalue": "",
     "output_type": "error",
     "traceback": [
      "\u001b[1;31m---------------------------------------------------------------------------\u001b[0m",
      "\u001b[1;31mKeyboardInterrupt\u001b[0m                         Traceback (most recent call last)",
      "\u001b[1;32m<ipython-input-179-cc2bf301fa2b>\u001b[0m in \u001b[0;36m<module>\u001b[1;34m\u001b[0m\n\u001b[0;32m      4\u001b[0m \u001b[0mb_list\u001b[0m\u001b[1;33m=\u001b[0m\u001b[0mdriver\u001b[0m\u001b[1;33m.\u001b[0m\u001b[0mfind_elements_by_css_selector\u001b[0m\u001b[1;33m(\u001b[0m\u001b[1;34m'img.lazy'\u001b[0m\u001b[1;33m)\u001b[0m\u001b[1;33m\u001b[0m\u001b[1;33m\u001b[0m\u001b[0m\n\u001b[0;32m      5\u001b[0m \u001b[1;32mfor\u001b[0m \u001b[0mi\u001b[0m \u001b[1;32min\u001b[0m \u001b[0mrange\u001b[0m\u001b[1;33m(\u001b[0m\u001b[0mlen\u001b[0m\u001b[1;33m(\u001b[0m\u001b[0mb_list\u001b[0m\u001b[1;33m)\u001b[0m\u001b[1;33m)\u001b[0m\u001b[1;33m:\u001b[0m\u001b[1;33m\u001b[0m\u001b[1;33m\u001b[0m\u001b[0m\n\u001b[1;32m----> 6\u001b[1;33m     \u001b[0mb_list\u001b[0m\u001b[1;33m[\u001b[0m\u001b[0mi\u001b[0m\u001b[1;33m]\u001b[0m\u001b[1;33m.\u001b[0m\u001b[0mclick\u001b[0m\u001b[1;33m(\u001b[0m\u001b[1;33m)\u001b[0m \u001b[1;31m# 클릭하는 부분\u001b[0m\u001b[1;33m\u001b[0m\u001b[1;33m\u001b[0m\u001b[0m\n\u001b[0m\u001b[0;32m      7\u001b[0m     \u001b[0mtime\u001b[0m\u001b[1;33m.\u001b[0m\u001b[0msleep\u001b[0m\u001b[1;33m(\u001b[0m\u001b[1;36m2\u001b[0m\u001b[1;33m)\u001b[0m\u001b[1;33m\u001b[0m\u001b[1;33m\u001b[0m\u001b[0m\n\u001b[0;32m      8\u001b[0m \u001b[1;33m\u001b[0m\u001b[0m\n",
      "\u001b[1;32m~\\anaconda3\\lib\\site-packages\\selenium\\webdriver\\remote\\webelement.py\u001b[0m in \u001b[0;36mclick\u001b[1;34m(self)\u001b[0m\n\u001b[0;32m     78\u001b[0m     \u001b[1;32mdef\u001b[0m \u001b[0mclick\u001b[0m\u001b[1;33m(\u001b[0m\u001b[0mself\u001b[0m\u001b[1;33m)\u001b[0m\u001b[1;33m:\u001b[0m\u001b[1;33m\u001b[0m\u001b[1;33m\u001b[0m\u001b[0m\n\u001b[0;32m     79\u001b[0m         \u001b[1;34m\"\"\"Clicks the element.\"\"\"\u001b[0m\u001b[1;33m\u001b[0m\u001b[1;33m\u001b[0m\u001b[0m\n\u001b[1;32m---> 80\u001b[1;33m         \u001b[0mself\u001b[0m\u001b[1;33m.\u001b[0m\u001b[0m_execute\u001b[0m\u001b[1;33m(\u001b[0m\u001b[0mCommand\u001b[0m\u001b[1;33m.\u001b[0m\u001b[0mCLICK_ELEMENT\u001b[0m\u001b[1;33m)\u001b[0m\u001b[1;33m\u001b[0m\u001b[1;33m\u001b[0m\u001b[0m\n\u001b[0m\u001b[0;32m     81\u001b[0m \u001b[1;33m\u001b[0m\u001b[0m\n\u001b[0;32m     82\u001b[0m     \u001b[1;32mdef\u001b[0m \u001b[0msubmit\u001b[0m\u001b[1;33m(\u001b[0m\u001b[0mself\u001b[0m\u001b[1;33m)\u001b[0m\u001b[1;33m:\u001b[0m\u001b[1;33m\u001b[0m\u001b[1;33m\u001b[0m\u001b[0m\n",
      "\u001b[1;32m~\\anaconda3\\lib\\site-packages\\selenium\\webdriver\\remote\\webelement.py\u001b[0m in \u001b[0;36m_execute\u001b[1;34m(self, command, params)\u001b[0m\n\u001b[0;32m    631\u001b[0m             \u001b[0mparams\u001b[0m \u001b[1;33m=\u001b[0m \u001b[1;33m{\u001b[0m\u001b[1;33m}\u001b[0m\u001b[1;33m\u001b[0m\u001b[1;33m\u001b[0m\u001b[0m\n\u001b[0;32m    632\u001b[0m         \u001b[0mparams\u001b[0m\u001b[1;33m[\u001b[0m\u001b[1;34m'id'\u001b[0m\u001b[1;33m]\u001b[0m \u001b[1;33m=\u001b[0m \u001b[0mself\u001b[0m\u001b[1;33m.\u001b[0m\u001b[0m_id\u001b[0m\u001b[1;33m\u001b[0m\u001b[1;33m\u001b[0m\u001b[0m\n\u001b[1;32m--> 633\u001b[1;33m         \u001b[1;32mreturn\u001b[0m \u001b[0mself\u001b[0m\u001b[1;33m.\u001b[0m\u001b[0m_parent\u001b[0m\u001b[1;33m.\u001b[0m\u001b[0mexecute\u001b[0m\u001b[1;33m(\u001b[0m\u001b[0mcommand\u001b[0m\u001b[1;33m,\u001b[0m \u001b[0mparams\u001b[0m\u001b[1;33m)\u001b[0m\u001b[1;33m\u001b[0m\u001b[1;33m\u001b[0m\u001b[0m\n\u001b[0m\u001b[0;32m    634\u001b[0m \u001b[1;33m\u001b[0m\u001b[0m\n\u001b[0;32m    635\u001b[0m     \u001b[1;32mdef\u001b[0m \u001b[0mfind_element\u001b[0m\u001b[1;33m(\u001b[0m\u001b[0mself\u001b[0m\u001b[1;33m,\u001b[0m \u001b[0mby\u001b[0m\u001b[1;33m=\u001b[0m\u001b[0mBy\u001b[0m\u001b[1;33m.\u001b[0m\u001b[0mID\u001b[0m\u001b[1;33m,\u001b[0m \u001b[0mvalue\u001b[0m\u001b[1;33m=\u001b[0m\u001b[1;32mNone\u001b[0m\u001b[1;33m)\u001b[0m\u001b[1;33m:\u001b[0m\u001b[1;33m\u001b[0m\u001b[1;33m\u001b[0m\u001b[0m\n",
      "\u001b[1;32m~\\anaconda3\\lib\\site-packages\\selenium\\webdriver\\remote\\webdriver.py\u001b[0m in \u001b[0;36mexecute\u001b[1;34m(self, driver_command, params)\u001b[0m\n\u001b[0;32m    317\u001b[0m \u001b[1;33m\u001b[0m\u001b[0m\n\u001b[0;32m    318\u001b[0m         \u001b[0mparams\u001b[0m \u001b[1;33m=\u001b[0m \u001b[0mself\u001b[0m\u001b[1;33m.\u001b[0m\u001b[0m_wrap_value\u001b[0m\u001b[1;33m(\u001b[0m\u001b[0mparams\u001b[0m\u001b[1;33m)\u001b[0m\u001b[1;33m\u001b[0m\u001b[1;33m\u001b[0m\u001b[0m\n\u001b[1;32m--> 319\u001b[1;33m         \u001b[0mresponse\u001b[0m \u001b[1;33m=\u001b[0m \u001b[0mself\u001b[0m\u001b[1;33m.\u001b[0m\u001b[0mcommand_executor\u001b[0m\u001b[1;33m.\u001b[0m\u001b[0mexecute\u001b[0m\u001b[1;33m(\u001b[0m\u001b[0mdriver_command\u001b[0m\u001b[1;33m,\u001b[0m \u001b[0mparams\u001b[0m\u001b[1;33m)\u001b[0m\u001b[1;33m\u001b[0m\u001b[1;33m\u001b[0m\u001b[0m\n\u001b[0m\u001b[0;32m    320\u001b[0m         \u001b[1;32mif\u001b[0m \u001b[0mresponse\u001b[0m\u001b[1;33m:\u001b[0m\u001b[1;33m\u001b[0m\u001b[1;33m\u001b[0m\u001b[0m\n\u001b[0;32m    321\u001b[0m             \u001b[0mself\u001b[0m\u001b[1;33m.\u001b[0m\u001b[0merror_handler\u001b[0m\u001b[1;33m.\u001b[0m\u001b[0mcheck_response\u001b[0m\u001b[1;33m(\u001b[0m\u001b[0mresponse\u001b[0m\u001b[1;33m)\u001b[0m\u001b[1;33m\u001b[0m\u001b[1;33m\u001b[0m\u001b[0m\n",
      "\u001b[1;32m~\\anaconda3\\lib\\site-packages\\selenium\\webdriver\\remote\\remote_connection.py\u001b[0m in \u001b[0;36mexecute\u001b[1;34m(self, command, params)\u001b[0m\n\u001b[0;32m    372\u001b[0m         \u001b[0mdata\u001b[0m \u001b[1;33m=\u001b[0m \u001b[0mutils\u001b[0m\u001b[1;33m.\u001b[0m\u001b[0mdump_json\u001b[0m\u001b[1;33m(\u001b[0m\u001b[0mparams\u001b[0m\u001b[1;33m)\u001b[0m\u001b[1;33m\u001b[0m\u001b[1;33m\u001b[0m\u001b[0m\n\u001b[0;32m    373\u001b[0m         \u001b[0murl\u001b[0m \u001b[1;33m=\u001b[0m \u001b[1;34m'%s%s'\u001b[0m \u001b[1;33m%\u001b[0m \u001b[1;33m(\u001b[0m\u001b[0mself\u001b[0m\u001b[1;33m.\u001b[0m\u001b[0m_url\u001b[0m\u001b[1;33m,\u001b[0m \u001b[0mpath\u001b[0m\u001b[1;33m)\u001b[0m\u001b[1;33m\u001b[0m\u001b[1;33m\u001b[0m\u001b[0m\n\u001b[1;32m--> 374\u001b[1;33m         \u001b[1;32mreturn\u001b[0m \u001b[0mself\u001b[0m\u001b[1;33m.\u001b[0m\u001b[0m_request\u001b[0m\u001b[1;33m(\u001b[0m\u001b[0mcommand_info\u001b[0m\u001b[1;33m[\u001b[0m\u001b[1;36m0\u001b[0m\u001b[1;33m]\u001b[0m\u001b[1;33m,\u001b[0m \u001b[0murl\u001b[0m\u001b[1;33m,\u001b[0m \u001b[0mbody\u001b[0m\u001b[1;33m=\u001b[0m\u001b[0mdata\u001b[0m\u001b[1;33m)\u001b[0m\u001b[1;33m\u001b[0m\u001b[1;33m\u001b[0m\u001b[0m\n\u001b[0m\u001b[0;32m    375\u001b[0m \u001b[1;33m\u001b[0m\u001b[0m\n\u001b[0;32m    376\u001b[0m     \u001b[1;32mdef\u001b[0m \u001b[0m_request\u001b[0m\u001b[1;33m(\u001b[0m\u001b[0mself\u001b[0m\u001b[1;33m,\u001b[0m \u001b[0mmethod\u001b[0m\u001b[1;33m,\u001b[0m \u001b[0murl\u001b[0m\u001b[1;33m,\u001b[0m \u001b[0mbody\u001b[0m\u001b[1;33m=\u001b[0m\u001b[1;32mNone\u001b[0m\u001b[1;33m)\u001b[0m\u001b[1;33m:\u001b[0m\u001b[1;33m\u001b[0m\u001b[1;33m\u001b[0m\u001b[0m\n",
      "\u001b[1;32m~\\anaconda3\\lib\\site-packages\\selenium\\webdriver\\remote\\remote_connection.py\u001b[0m in \u001b[0;36m_request\u001b[1;34m(self, method, url, body)\u001b[0m\n\u001b[0;32m    395\u001b[0m \u001b[1;33m\u001b[0m\u001b[0m\n\u001b[0;32m    396\u001b[0m         \u001b[1;32mif\u001b[0m \u001b[0mself\u001b[0m\u001b[1;33m.\u001b[0m\u001b[0mkeep_alive\u001b[0m\u001b[1;33m:\u001b[0m\u001b[1;33m\u001b[0m\u001b[1;33m\u001b[0m\u001b[0m\n\u001b[1;32m--> 397\u001b[1;33m             \u001b[0mresp\u001b[0m \u001b[1;33m=\u001b[0m \u001b[0mself\u001b[0m\u001b[1;33m.\u001b[0m\u001b[0m_conn\u001b[0m\u001b[1;33m.\u001b[0m\u001b[0mrequest\u001b[0m\u001b[1;33m(\u001b[0m\u001b[0mmethod\u001b[0m\u001b[1;33m,\u001b[0m \u001b[0murl\u001b[0m\u001b[1;33m,\u001b[0m \u001b[0mbody\u001b[0m\u001b[1;33m=\u001b[0m\u001b[0mbody\u001b[0m\u001b[1;33m,\u001b[0m \u001b[0mheaders\u001b[0m\u001b[1;33m=\u001b[0m\u001b[0mheaders\u001b[0m\u001b[1;33m)\u001b[0m\u001b[1;33m\u001b[0m\u001b[1;33m\u001b[0m\u001b[0m\n\u001b[0m\u001b[0;32m    398\u001b[0m \u001b[1;33m\u001b[0m\u001b[0m\n\u001b[0;32m    399\u001b[0m             \u001b[0mstatuscode\u001b[0m \u001b[1;33m=\u001b[0m \u001b[0mresp\u001b[0m\u001b[1;33m.\u001b[0m\u001b[0mstatus\u001b[0m\u001b[1;33m\u001b[0m\u001b[1;33m\u001b[0m\u001b[0m\n",
      "\u001b[1;32m~\\anaconda3\\lib\\site-packages\\urllib3\\request.py\u001b[0m in \u001b[0;36mrequest\u001b[1;34m(self, method, url, fields, headers, **urlopen_kw)\u001b[0m\n\u001b[0;32m     77\u001b[0m             )\n\u001b[0;32m     78\u001b[0m         \u001b[1;32melse\u001b[0m\u001b[1;33m:\u001b[0m\u001b[1;33m\u001b[0m\u001b[1;33m\u001b[0m\u001b[0m\n\u001b[1;32m---> 79\u001b[1;33m             return self.request_encode_body(\n\u001b[0m\u001b[0;32m     80\u001b[0m                 \u001b[0mmethod\u001b[0m\u001b[1;33m,\u001b[0m \u001b[0murl\u001b[0m\u001b[1;33m,\u001b[0m \u001b[0mfields\u001b[0m\u001b[1;33m=\u001b[0m\u001b[0mfields\u001b[0m\u001b[1;33m,\u001b[0m \u001b[0mheaders\u001b[0m\u001b[1;33m=\u001b[0m\u001b[0mheaders\u001b[0m\u001b[1;33m,\u001b[0m \u001b[1;33m**\u001b[0m\u001b[0murlopen_kw\u001b[0m\u001b[1;33m\u001b[0m\u001b[1;33m\u001b[0m\u001b[0m\n\u001b[0;32m     81\u001b[0m             )\n",
      "\u001b[1;32m~\\anaconda3\\lib\\site-packages\\urllib3\\request.py\u001b[0m in \u001b[0;36mrequest_encode_body\u001b[1;34m(self, method, url, fields, headers, encode_multipart, multipart_boundary, **urlopen_kw)\u001b[0m\n\u001b[0;32m    169\u001b[0m         \u001b[0mextra_kw\u001b[0m\u001b[1;33m.\u001b[0m\u001b[0mupdate\u001b[0m\u001b[1;33m(\u001b[0m\u001b[0murlopen_kw\u001b[0m\u001b[1;33m)\u001b[0m\u001b[1;33m\u001b[0m\u001b[1;33m\u001b[0m\u001b[0m\n\u001b[0;32m    170\u001b[0m \u001b[1;33m\u001b[0m\u001b[0m\n\u001b[1;32m--> 171\u001b[1;33m         \u001b[1;32mreturn\u001b[0m \u001b[0mself\u001b[0m\u001b[1;33m.\u001b[0m\u001b[0murlopen\u001b[0m\u001b[1;33m(\u001b[0m\u001b[0mmethod\u001b[0m\u001b[1;33m,\u001b[0m \u001b[0murl\u001b[0m\u001b[1;33m,\u001b[0m \u001b[1;33m**\u001b[0m\u001b[0mextra_kw\u001b[0m\u001b[1;33m)\u001b[0m\u001b[1;33m\u001b[0m\u001b[1;33m\u001b[0m\u001b[0m\n\u001b[0m",
      "\u001b[1;32m~\\anaconda3\\lib\\site-packages\\urllib3\\poolmanager.py\u001b[0m in \u001b[0;36murlopen\u001b[1;34m(self, method, url, redirect, **kw)\u001b[0m\n\u001b[0;32m    334\u001b[0m             \u001b[0mresponse\u001b[0m \u001b[1;33m=\u001b[0m \u001b[0mconn\u001b[0m\u001b[1;33m.\u001b[0m\u001b[0murlopen\u001b[0m\u001b[1;33m(\u001b[0m\u001b[0mmethod\u001b[0m\u001b[1;33m,\u001b[0m \u001b[0murl\u001b[0m\u001b[1;33m,\u001b[0m \u001b[1;33m**\u001b[0m\u001b[0mkw\u001b[0m\u001b[1;33m)\u001b[0m\u001b[1;33m\u001b[0m\u001b[1;33m\u001b[0m\u001b[0m\n\u001b[0;32m    335\u001b[0m         \u001b[1;32melse\u001b[0m\u001b[1;33m:\u001b[0m\u001b[1;33m\u001b[0m\u001b[1;33m\u001b[0m\u001b[0m\n\u001b[1;32m--> 336\u001b[1;33m             \u001b[0mresponse\u001b[0m \u001b[1;33m=\u001b[0m \u001b[0mconn\u001b[0m\u001b[1;33m.\u001b[0m\u001b[0murlopen\u001b[0m\u001b[1;33m(\u001b[0m\u001b[0mmethod\u001b[0m\u001b[1;33m,\u001b[0m \u001b[0mu\u001b[0m\u001b[1;33m.\u001b[0m\u001b[0mrequest_uri\u001b[0m\u001b[1;33m,\u001b[0m \u001b[1;33m**\u001b[0m\u001b[0mkw\u001b[0m\u001b[1;33m)\u001b[0m\u001b[1;33m\u001b[0m\u001b[1;33m\u001b[0m\u001b[0m\n\u001b[0m\u001b[0;32m    337\u001b[0m \u001b[1;33m\u001b[0m\u001b[0m\n\u001b[0;32m    338\u001b[0m         \u001b[0mredirect_location\u001b[0m \u001b[1;33m=\u001b[0m \u001b[0mredirect\u001b[0m \u001b[1;32mand\u001b[0m \u001b[0mresponse\u001b[0m\u001b[1;33m.\u001b[0m\u001b[0mget_redirect_location\u001b[0m\u001b[1;33m(\u001b[0m\u001b[1;33m)\u001b[0m\u001b[1;33m\u001b[0m\u001b[1;33m\u001b[0m\u001b[0m\n",
      "\u001b[1;32m~\\anaconda3\\lib\\site-packages\\urllib3\\connectionpool.py\u001b[0m in \u001b[0;36murlopen\u001b[1;34m(self, method, url, body, headers, retries, redirect, assert_same_host, timeout, pool_timeout, release_conn, chunked, body_pos, **response_kw)\u001b[0m\n\u001b[0;32m    668\u001b[0m \u001b[1;33m\u001b[0m\u001b[0m\n\u001b[0;32m    669\u001b[0m             \u001b[1;31m# Make the request on the httplib connection object.\u001b[0m\u001b[1;33m\u001b[0m\u001b[1;33m\u001b[0m\u001b[1;33m\u001b[0m\u001b[0m\n\u001b[1;32m--> 670\u001b[1;33m             httplib_response = self._make_request(\n\u001b[0m\u001b[0;32m    671\u001b[0m                 \u001b[0mconn\u001b[0m\u001b[1;33m,\u001b[0m\u001b[1;33m\u001b[0m\u001b[1;33m\u001b[0m\u001b[0m\n\u001b[0;32m    672\u001b[0m                 \u001b[0mmethod\u001b[0m\u001b[1;33m,\u001b[0m\u001b[1;33m\u001b[0m\u001b[1;33m\u001b[0m\u001b[0m\n",
      "\u001b[1;32m~\\anaconda3\\lib\\site-packages\\urllib3\\connectionpool.py\u001b[0m in \u001b[0;36m_make_request\u001b[1;34m(self, conn, method, url, timeout, chunked, **httplib_request_kw)\u001b[0m\n\u001b[0;32m    424\u001b[0m                     \u001b[1;31m# Python 3 (including for exceptions like SystemExit).\u001b[0m\u001b[1;33m\u001b[0m\u001b[1;33m\u001b[0m\u001b[1;33m\u001b[0m\u001b[0m\n\u001b[0;32m    425\u001b[0m                     \u001b[1;31m# Otherwise it looks like a bug in the code.\u001b[0m\u001b[1;33m\u001b[0m\u001b[1;33m\u001b[0m\u001b[1;33m\u001b[0m\u001b[0m\n\u001b[1;32m--> 426\u001b[1;33m                     \u001b[0msix\u001b[0m\u001b[1;33m.\u001b[0m\u001b[0mraise_from\u001b[0m\u001b[1;33m(\u001b[0m\u001b[0me\u001b[0m\u001b[1;33m,\u001b[0m \u001b[1;32mNone\u001b[0m\u001b[1;33m)\u001b[0m\u001b[1;33m\u001b[0m\u001b[1;33m\u001b[0m\u001b[0m\n\u001b[0m\u001b[0;32m    427\u001b[0m         \u001b[1;32mexcept\u001b[0m \u001b[1;33m(\u001b[0m\u001b[0mSocketTimeout\u001b[0m\u001b[1;33m,\u001b[0m \u001b[0mBaseSSLError\u001b[0m\u001b[1;33m,\u001b[0m \u001b[0mSocketError\u001b[0m\u001b[1;33m)\u001b[0m \u001b[1;32mas\u001b[0m \u001b[0me\u001b[0m\u001b[1;33m:\u001b[0m\u001b[1;33m\u001b[0m\u001b[1;33m\u001b[0m\u001b[0m\n\u001b[0;32m    428\u001b[0m             \u001b[0mself\u001b[0m\u001b[1;33m.\u001b[0m\u001b[0m_raise_timeout\u001b[0m\u001b[1;33m(\u001b[0m\u001b[0merr\u001b[0m\u001b[1;33m=\u001b[0m\u001b[0me\u001b[0m\u001b[1;33m,\u001b[0m \u001b[0murl\u001b[0m\u001b[1;33m=\u001b[0m\u001b[0murl\u001b[0m\u001b[1;33m,\u001b[0m \u001b[0mtimeout_value\u001b[0m\u001b[1;33m=\u001b[0m\u001b[0mread_timeout\u001b[0m\u001b[1;33m)\u001b[0m\u001b[1;33m\u001b[0m\u001b[1;33m\u001b[0m\u001b[0m\n",
      "\u001b[1;32m~\\anaconda3\\lib\\site-packages\\urllib3\\packages\\six.py\u001b[0m in \u001b[0;36mraise_from\u001b[1;34m(value, from_value)\u001b[0m\n",
      "\u001b[1;32m~\\anaconda3\\lib\\site-packages\\urllib3\\connectionpool.py\u001b[0m in \u001b[0;36m_make_request\u001b[1;34m(self, conn, method, url, timeout, chunked, **httplib_request_kw)\u001b[0m\n\u001b[0;32m    419\u001b[0m                 \u001b[1;31m# Python 3\u001b[0m\u001b[1;33m\u001b[0m\u001b[1;33m\u001b[0m\u001b[1;33m\u001b[0m\u001b[0m\n\u001b[0;32m    420\u001b[0m                 \u001b[1;32mtry\u001b[0m\u001b[1;33m:\u001b[0m\u001b[1;33m\u001b[0m\u001b[1;33m\u001b[0m\u001b[0m\n\u001b[1;32m--> 421\u001b[1;33m                     \u001b[0mhttplib_response\u001b[0m \u001b[1;33m=\u001b[0m \u001b[0mconn\u001b[0m\u001b[1;33m.\u001b[0m\u001b[0mgetresponse\u001b[0m\u001b[1;33m(\u001b[0m\u001b[1;33m)\u001b[0m\u001b[1;33m\u001b[0m\u001b[1;33m\u001b[0m\u001b[0m\n\u001b[0m\u001b[0;32m    422\u001b[0m                 \u001b[1;32mexcept\u001b[0m \u001b[0mBaseException\u001b[0m \u001b[1;32mas\u001b[0m \u001b[0me\u001b[0m\u001b[1;33m:\u001b[0m\u001b[1;33m\u001b[0m\u001b[1;33m\u001b[0m\u001b[0m\n\u001b[0;32m    423\u001b[0m                     \u001b[1;31m# Remove the TypeError from the exception chain in\u001b[0m\u001b[1;33m\u001b[0m\u001b[1;33m\u001b[0m\u001b[1;33m\u001b[0m\u001b[0m\n",
      "\u001b[1;32m~\\anaconda3\\lib\\http\\client.py\u001b[0m in \u001b[0;36mgetresponse\u001b[1;34m(self)\u001b[0m\n\u001b[0;32m   1345\u001b[0m         \u001b[1;32mtry\u001b[0m\u001b[1;33m:\u001b[0m\u001b[1;33m\u001b[0m\u001b[1;33m\u001b[0m\u001b[0m\n\u001b[0;32m   1346\u001b[0m             \u001b[1;32mtry\u001b[0m\u001b[1;33m:\u001b[0m\u001b[1;33m\u001b[0m\u001b[1;33m\u001b[0m\u001b[0m\n\u001b[1;32m-> 1347\u001b[1;33m                 \u001b[0mresponse\u001b[0m\u001b[1;33m.\u001b[0m\u001b[0mbegin\u001b[0m\u001b[1;33m(\u001b[0m\u001b[1;33m)\u001b[0m\u001b[1;33m\u001b[0m\u001b[1;33m\u001b[0m\u001b[0m\n\u001b[0m\u001b[0;32m   1348\u001b[0m             \u001b[1;32mexcept\u001b[0m \u001b[0mConnectionError\u001b[0m\u001b[1;33m:\u001b[0m\u001b[1;33m\u001b[0m\u001b[1;33m\u001b[0m\u001b[0m\n\u001b[0;32m   1349\u001b[0m                 \u001b[0mself\u001b[0m\u001b[1;33m.\u001b[0m\u001b[0mclose\u001b[0m\u001b[1;33m(\u001b[0m\u001b[1;33m)\u001b[0m\u001b[1;33m\u001b[0m\u001b[1;33m\u001b[0m\u001b[0m\n",
      "\u001b[1;32m~\\anaconda3\\lib\\http\\client.py\u001b[0m in \u001b[0;36mbegin\u001b[1;34m(self)\u001b[0m\n\u001b[0;32m    305\u001b[0m         \u001b[1;31m# read until we get a non-100 response\u001b[0m\u001b[1;33m\u001b[0m\u001b[1;33m\u001b[0m\u001b[1;33m\u001b[0m\u001b[0m\n\u001b[0;32m    306\u001b[0m         \u001b[1;32mwhile\u001b[0m \u001b[1;32mTrue\u001b[0m\u001b[1;33m:\u001b[0m\u001b[1;33m\u001b[0m\u001b[1;33m\u001b[0m\u001b[0m\n\u001b[1;32m--> 307\u001b[1;33m             \u001b[0mversion\u001b[0m\u001b[1;33m,\u001b[0m \u001b[0mstatus\u001b[0m\u001b[1;33m,\u001b[0m \u001b[0mreason\u001b[0m \u001b[1;33m=\u001b[0m \u001b[0mself\u001b[0m\u001b[1;33m.\u001b[0m\u001b[0m_read_status\u001b[0m\u001b[1;33m(\u001b[0m\u001b[1;33m)\u001b[0m\u001b[1;33m\u001b[0m\u001b[1;33m\u001b[0m\u001b[0m\n\u001b[0m\u001b[0;32m    308\u001b[0m             \u001b[1;32mif\u001b[0m \u001b[0mstatus\u001b[0m \u001b[1;33m!=\u001b[0m \u001b[0mCONTINUE\u001b[0m\u001b[1;33m:\u001b[0m\u001b[1;33m\u001b[0m\u001b[1;33m\u001b[0m\u001b[0m\n\u001b[0;32m    309\u001b[0m                 \u001b[1;32mbreak\u001b[0m\u001b[1;33m\u001b[0m\u001b[1;33m\u001b[0m\u001b[0m\n",
      "\u001b[1;32m~\\anaconda3\\lib\\http\\client.py\u001b[0m in \u001b[0;36m_read_status\u001b[1;34m(self)\u001b[0m\n\u001b[0;32m    266\u001b[0m \u001b[1;33m\u001b[0m\u001b[0m\n\u001b[0;32m    267\u001b[0m     \u001b[1;32mdef\u001b[0m \u001b[0m_read_status\u001b[0m\u001b[1;33m(\u001b[0m\u001b[0mself\u001b[0m\u001b[1;33m)\u001b[0m\u001b[1;33m:\u001b[0m\u001b[1;33m\u001b[0m\u001b[1;33m\u001b[0m\u001b[0m\n\u001b[1;32m--> 268\u001b[1;33m         \u001b[0mline\u001b[0m \u001b[1;33m=\u001b[0m \u001b[0mstr\u001b[0m\u001b[1;33m(\u001b[0m\u001b[0mself\u001b[0m\u001b[1;33m.\u001b[0m\u001b[0mfp\u001b[0m\u001b[1;33m.\u001b[0m\u001b[0mreadline\u001b[0m\u001b[1;33m(\u001b[0m\u001b[0m_MAXLINE\u001b[0m \u001b[1;33m+\u001b[0m \u001b[1;36m1\u001b[0m\u001b[1;33m)\u001b[0m\u001b[1;33m,\u001b[0m \u001b[1;34m\"iso-8859-1\"\u001b[0m\u001b[1;33m)\u001b[0m\u001b[1;33m\u001b[0m\u001b[1;33m\u001b[0m\u001b[0m\n\u001b[0m\u001b[0;32m    269\u001b[0m         \u001b[1;32mif\u001b[0m \u001b[0mlen\u001b[0m\u001b[1;33m(\u001b[0m\u001b[0mline\u001b[0m\u001b[1;33m)\u001b[0m \u001b[1;33m>\u001b[0m \u001b[0m_MAXLINE\u001b[0m\u001b[1;33m:\u001b[0m\u001b[1;33m\u001b[0m\u001b[1;33m\u001b[0m\u001b[0m\n\u001b[0;32m    270\u001b[0m             \u001b[1;32mraise\u001b[0m \u001b[0mLineTooLong\u001b[0m\u001b[1;33m(\u001b[0m\u001b[1;34m\"status line\"\u001b[0m\u001b[1;33m)\u001b[0m\u001b[1;33m\u001b[0m\u001b[1;33m\u001b[0m\u001b[0m\n",
      "\u001b[1;32m~\\anaconda3\\lib\\socket.py\u001b[0m in \u001b[0;36mreadinto\u001b[1;34m(self, b)\u001b[0m\n\u001b[0;32m    667\u001b[0m         \u001b[1;32mwhile\u001b[0m \u001b[1;32mTrue\u001b[0m\u001b[1;33m:\u001b[0m\u001b[1;33m\u001b[0m\u001b[1;33m\u001b[0m\u001b[0m\n\u001b[0;32m    668\u001b[0m             \u001b[1;32mtry\u001b[0m\u001b[1;33m:\u001b[0m\u001b[1;33m\u001b[0m\u001b[1;33m\u001b[0m\u001b[0m\n\u001b[1;32m--> 669\u001b[1;33m                 \u001b[1;32mreturn\u001b[0m \u001b[0mself\u001b[0m\u001b[1;33m.\u001b[0m\u001b[0m_sock\u001b[0m\u001b[1;33m.\u001b[0m\u001b[0mrecv_into\u001b[0m\u001b[1;33m(\u001b[0m\u001b[0mb\u001b[0m\u001b[1;33m)\u001b[0m\u001b[1;33m\u001b[0m\u001b[1;33m\u001b[0m\u001b[0m\n\u001b[0m\u001b[0;32m    670\u001b[0m             \u001b[1;32mexcept\u001b[0m \u001b[0mtimeout\u001b[0m\u001b[1;33m:\u001b[0m\u001b[1;33m\u001b[0m\u001b[1;33m\u001b[0m\u001b[0m\n\u001b[0;32m    671\u001b[0m                 \u001b[0mself\u001b[0m\u001b[1;33m.\u001b[0m\u001b[0m_timeout_occurred\u001b[0m \u001b[1;33m=\u001b[0m \u001b[1;32mTrue\u001b[0m\u001b[1;33m\u001b[0m\u001b[1;33m\u001b[0m\u001b[0m\n",
      "\u001b[1;31mKeyboardInterrupt\u001b[0m: "
     ]
    }
   ],
   "source": [
    "item_list = []\n",
    "price_list =[]\n",
    "\n",
    "b_list=driver.find_elements_by_css_selector('img.lazy')\n",
    "for i in range(len(b_list)):\n",
    "    b_list[i].click() # 클릭하는 부분\n",
    "    time.sleep(2)\n",
    "    \n",
    "    soup = bs(driver.page_source,'lxml')\n",
    "    item =soup.select('h1.itemtit')\n",
    "    price = soup.select('strong.price_real')\n",
    "    \n",
    "    item_list.append(item[0].text)\n",
    "    price_list.append(price[0].text)\n",
    "    driver.back()\n",
    "    time.sleep(2)\n",
    "    \n",
    "    b_list = driver.find_elements_by_css_selector('img.lazy')"
   ]
  },
  {
   "cell_type": "code",
   "execution_count": 180,
   "metadata": {},
   "outputs": [
    {
     "data": {
      "text/plain": [
       "28"
      ]
     },
     "execution_count": 180,
     "metadata": {},
     "output_type": "execute_result"
    }
   ],
   "source": [
    "len(item_list)"
   ]
  },
  {
   "cell_type": "code",
   "execution_count": 181,
   "metadata": {},
   "outputs": [
    {
     "data": {
      "text/plain": [
       "28"
      ]
     },
     "execution_count": 181,
     "metadata": {},
     "output_type": "execute_result"
    }
   ],
   "source": [
    "len(price_list)"
   ]
  },
  {
   "cell_type": "markdown",
   "metadata": {},
   "source": [
    "## 데이터 프레임 합치기"
   ]
  },
  {
   "cell_type": "code",
   "execution_count": 194,
   "metadata": {},
   "outputs": [],
   "source": [
    "dic = {'name':['이','대','교']}\n",
    "dic2 = {'name2':['이2','대2','교2']}"
   ]
  },
  {
   "cell_type": "code",
   "execution_count": 195,
   "metadata": {},
   "outputs": [],
   "source": [
    "x1= pd.DataFrame(dic)\n",
    "x2 = pd. DataFrame(dic2)"
   ]
  },
  {
   "cell_type": "code",
   "execution_count": 199,
   "metadata": {},
   "outputs": [
    {
     "data": {
      "text/html": [
       "<div>\n",
       "<style scoped>\n",
       "    .dataframe tbody tr th:only-of-type {\n",
       "        vertical-align: middle;\n",
       "    }\n",
       "\n",
       "    .dataframe tbody tr th {\n",
       "        vertical-align: top;\n",
       "    }\n",
       "\n",
       "    .dataframe thead th {\n",
       "        text-align: right;\n",
       "    }\n",
       "</style>\n",
       "<table border=\"1\" class=\"dataframe\">\n",
       "  <thead>\n",
       "    <tr style=\"text-align: right;\">\n",
       "      <th></th>\n",
       "      <th>name</th>\n",
       "      <th>name2</th>\n",
       "    </tr>\n",
       "  </thead>\n",
       "  <tbody>\n",
       "    <tr>\n",
       "      <th>0</th>\n",
       "      <td>이</td>\n",
       "      <td>이2</td>\n",
       "    </tr>\n",
       "    <tr>\n",
       "      <th>1</th>\n",
       "      <td>대</td>\n",
       "      <td>대2</td>\n",
       "    </tr>\n",
       "    <tr>\n",
       "      <th>2</th>\n",
       "      <td>교</td>\n",
       "      <td>교2</td>\n",
       "    </tr>\n",
       "  </tbody>\n",
       "</table>\n",
       "</div>"
      ],
      "text/plain": [
       "  name name2\n",
       "0    이    이2\n",
       "1    대    대2\n",
       "2    교    교2"
      ]
     },
     "execution_count": 199,
     "metadata": {},
     "output_type": "execute_result"
    }
   ],
   "source": [
    "pd.concat([x1,x2],axis = 1)"
   ]
  },
  {
   "cell_type": "code",
   "execution_count": null,
   "metadata": {},
   "outputs": [],
   "source": []
  }
 ],
 "metadata": {
  "kernelspec": {
   "display_name": "Python 3",
   "language": "python",
   "name": "python3"
  },
  "language_info": {
   "codemirror_mode": {
    "name": "ipython",
    "version": 3
   },
   "file_extension": ".py",
   "mimetype": "text/x-python",
   "name": "python",
   "nbconvert_exporter": "python",
   "pygments_lexer": "ipython3",
   "version": "3.8.5"
  },
  "toc": {
   "base_numbering": 1,
   "nav_menu": {},
   "number_sections": true,
   "sideBar": true,
   "skip_h1_title": false,
   "title_cell": "Table of Contents",
   "title_sidebar": "Contents",
   "toc_cell": false,
   "toc_position": {},
   "toc_section_display": true,
   "toc_window_display": false
  }
 },
 "nbformat": 4,
 "nbformat_minor": 4
}
