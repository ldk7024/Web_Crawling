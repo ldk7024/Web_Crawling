{
 "cells": [
  {
   "cell_type": "code",
   "execution_count": 2,
   "metadata": {},
   "outputs": [],
   "source": [
    "import numpy as np\n",
    "import pandas as pd\n",
    "import requests as req\n",
    "from bs4 import BeautifulSoup as bs\n",
    "h = {\"User-Agent\": \"Mozilla/5.0 (Windows NT 10.0; Win64; x64) AppleWebKit/537.36 (KHTML, like Gecko) Chrome/83.0.4103.116 Safari/537.36\"}"
   ]
  },
  {
   "cell_type": "markdown",
   "metadata": {},
   "source": [
    "# Selenium 모듈"
   ]
  },
  {
   "cell_type": "markdown",
   "metadata": {},
   "source": [
    "- 웹페이지를 제어해보자"
   ]
  },
  {
   "cell_type": "markdown",
   "metadata": {},
   "source": [
    " --> !pip install selenium <br>\n",
    " --> chrom driver 설치"
   ]
  },
  {
   "cell_type": "code",
   "execution_count": 4,
   "metadata": {},
   "outputs": [
    {
     "name": "stdout",
     "output_type": "stream",
     "text": [
      "Collecting selenium\n",
      "  Downloading selenium-3.141.0-py2.py3-none-any.whl (904 kB)\n",
      "Requirement already satisfied: urllib3 in c:\\users\\21smt40\\anaconda3\\lib\\site-packages (from selenium) (1.25.11)\n",
      "Installing collected packages: selenium\n",
      "Successfully installed selenium-3.141.0\n"
     ]
    }
   ],
   "source": [
    "!pip install selenium"
   ]
  },
  {
   "cell_type": "code",
   "execution_count": 5,
   "metadata": {},
   "outputs": [],
   "source": [
    "# webdriver -> 웹을 통제하기 위한 라이브러리\n",
    "#Keys -> 웹을 통해 입력하기 위한 라이브러리\n",
    "\n",
    "from selenium import webdriver as wb\n",
    "from selenium.webdriver.common.keys import Keys"
   ]
  },
  {
   "cell_type": "code",
   "execution_count": 12,
   "metadata": {},
   "outputs": [],
   "source": [
    "driver = wb.Chrome() # 크롬페이지 정보가 드라이버 변수안에 있음\n",
    "\n",
    "url =\"https://www.naver.com/\"\n",
    "\n",
    "res = driver.get(url)"
   ]
  },
  {
   "cell_type": "markdown",
   "metadata": {},
   "source": [
    "## 검색어 보내기"
   ]
  },
  {
   "cell_type": "code",
   "execution_count": 32,
   "metadata": {},
   "outputs": [],
   "source": [
    "# 검색창 찾기\n",
    "input_area=driver.find_element_by_id('query')"
   ]
  },
  {
   "cell_type": "code",
   "execution_count": 33,
   "metadata": {},
   "outputs": [],
   "source": [
    "input_area.send_keys(\"장어구이\")"
   ]
  },
  {
   "cell_type": "markdown",
   "metadata": {},
   "source": [
    "## 엔터제어"
   ]
  },
  {
   "cell_type": "code",
   "execution_count": 17,
   "metadata": {},
   "outputs": [],
   "source": [
    "input_area.send_keys(Keys.ENTER)"
   ]
  },
  {
   "cell_type": "code",
   "execution_count": 30,
   "metadata": {},
   "outputs": [],
   "source": [
    "# 버튼 가져오기\n",
    "btn=driver.find_element_by_id('search_btn')"
   ]
  },
  {
   "cell_type": "code",
   "execution_count": 34,
   "metadata": {},
   "outputs": [],
   "source": [
    "btn.click() #버튼클릭행위"
   ]
  },
  {
   "cell_type": "markdown",
   "metadata": {},
   "source": [
    "# Google에서 광주날씨를 검색하기"
   ]
  },
  {
   "cell_type": "code",
   "execution_count": 48,
   "metadata": {},
   "outputs": [],
   "source": [
    "driver = wb.Chrome()\n",
    "\n",
    "url2= \"https://www.google.com/webhp?hl=ko&sa=X&ved=0ahUKEwjH_s-ogsbwAhVE7WEKHTlDCYsQPAgI\"\n",
    "\n",
    "res = driver.get(url2)"
   ]
  },
  {
   "cell_type": "code",
   "execution_count": 49,
   "metadata": {},
   "outputs": [],
   "source": [
    "input_area=driver.find_element_by_class_name('gLFyf.gsfi')"
   ]
  },
  {
   "cell_type": "code",
   "execution_count": 50,
   "metadata": {},
   "outputs": [],
   "source": [
    "input_area.send_keys(\"광주날씨\")"
   ]
  },
  {
   "cell_type": "code",
   "execution_count": 41,
   "metadata": {},
   "outputs": [],
   "source": [
    "input_area.send_keys(Keys.ENTER)"
   ]
  },
  {
   "cell_type": "code",
   "execution_count": 51,
   "metadata": {},
   "outputs": [],
   "source": [
    "btn=driver.find_element_by_class_name('gNO89b')"
   ]
  },
  {
   "cell_type": "code",
   "execution_count": 52,
   "metadata": {},
   "outputs": [],
   "source": [
    "btn.click()"
   ]
  },
  {
   "cell_type": "markdown",
   "metadata": {},
   "source": [
    "# 한솥도시락 크롤링하기"
   ]
  },
  {
   "cell_type": "markdown",
   "metadata": {},
   "source": [
    "## 1단계"
   ]
  },
  {
   "cell_type": "code",
   "execution_count": 77,
   "metadata": {},
   "outputs": [],
   "source": [
    "driver = wb.Chrome()\n",
    "\n",
    "h_url =\"https://www.hsd.co.kr/menu/menu_list\"\n",
    "\n",
    "driver.get(h_url)"
   ]
  },
  {
   "cell_type": "markdown",
   "metadata": {},
   "source": [
    "## 2단계"
   ]
  },
  {
   "cell_type": "code",
   "execution_count": 57,
   "metadata": {},
   "outputs": [],
   "source": [
    "soup=bs(driver.page_source,'lxml')"
   ]
  },
  {
   "cell_type": "markdown",
   "metadata": {},
   "source": [
    "## 3단계"
   ]
  },
  {
   "cell_type": "code",
   "execution_count": 64,
   "metadata": {},
   "outputs": [],
   "source": [
    "name = soup.select(\".item-text > .h\")"
   ]
  },
  {
   "cell_type": "code",
   "execution_count": 65,
   "metadata": {},
   "outputs": [
    {
     "data": {
      "text/plain": [
       "[<h4 class=\"h fz_03\">치킨스테이크 스페셜</h4>,\n",
       " <h4 class=\"h fz_03\">매화(치킨, 연어구이)</h4>,\n",
       " <h4 class=\"h fz_03\">매화(순살 고등어 간장구이)</h4>,\n",
       " <h4 class=\"h fz_03\">진달래</h4>,\n",
       " <h4 class=\"h fz_03\">개나리(순살 고등어 간장구이)</h4>,\n",
       " <h4 class=\"h fz_03\">돈까스도련님고기고기</h4>,\n",
       " <h4 class=\"h fz_03\">탕수육도련님고기고기</h4>,\n",
       " <h4 class=\"h fz_03\">새치 고기고기</h4>,\n",
       " <h4 class=\"h fz_03\">돈치 고기고기</h4>,\n",
       " <h4 class=\"h fz_03\">고기고기</h4>,\n",
       " <h4 class=\"h fz_03\">돈치스팸 도시락</h4>,\n",
       " <h4 class=\"h fz_03\">숯불직화구이</h4>,\n",
       " <h4 class=\"h fz_03\">소불고기</h4>,\n",
       " <h4 class=\"h fz_03\">메가치킨제육</h4>,\n",
       " <h4 class=\"h fz_03\">칠리 찹쌀탕수육도련님</h4>,\n",
       " <h4 class=\"h fz_03\">동백</h4>,\n",
       " <h4 class=\"h fz_03\">치킨제육</h4>,\n",
       " <h4 class=\"h fz_03\">돈까스도련님</h4>,\n",
       " <h4 class=\"h fz_03\">제육볶음</h4>,\n",
       " <h4 class=\"h fz_03\">빅치킨마요 김치찌개 정식</h4>,\n",
       " <h4 class=\"h fz_03\">치킨마요 김치찌개 정식</h4>,\n",
       " <h4 class=\"h fz_03\">돈치스팸 김치찌개 정식</h4>,\n",
       " <h4 class=\"h fz_03\">고추장숯불삼겹정식</h4>,\n",
       " <h4 class=\"h fz_03\">숯불삼겹정식</h4>,\n",
       " <h4 class=\"h fz_03\">제육 김치찌개 정식</h4>,\n",
       " <h4 class=\"h fz_03\">메가 스리라차 참치마요</h4>,\n",
       " <h4 class=\"h fz_03\">스리라차 참치마요</h4>,\n",
       " <h4 class=\"h fz_03\">메가 스리라차 치킨마요</h4>,\n",
       " <h4 class=\"h fz_03\">스리라차 치킨마요</h4>,\n",
       " <h4 class=\"h fz_03\">메가스팸마요</h4>,\n",
       " <h4 class=\"h fz_03\">스팸마요</h4>,\n",
       " <h4 class=\"h fz_03\">메가불닭치킨마요</h4>,\n",
       " <h4 class=\"h fz_03\">불닭치킨마요</h4>,\n",
       " <h4 class=\"h fz_03\">메가치킨마요</h4>,\n",
       " <h4 class=\"h fz_03\">왕치킨마요</h4>,\n",
       " <h4 class=\"h fz_03\">빅치킨마요</h4>,\n",
       " <h4 class=\"h fz_03\">치킨마요</h4>,\n",
       " <h4 class=\"h fz_03\">참치마요</h4>,\n",
       " <h4 class=\"h fz_03\">돈치마요</h4>,\n",
       " <h4 class=\"h fz_03\">치즈 카레도시락</h4>,\n",
       " <h4 class=\"h fz_03\">돈까스 카레</h4>,\n",
       " <h4 class=\"h fz_03\">3종치즈 김치볶음밥</h4>,\n",
       " <h4 class=\"h fz_03\">스팸 김치볶음밥</h4>,\n",
       " <h4 class=\"h fz_03\">김치볶음밥</h4>,\n",
       " <h4 class=\"h fz_03\">스팸철판볶음밥</h4>,\n",
       " <h4 class=\"h fz_03\">소불고기 철판볶음밥</h4>,\n",
       " <h4 class=\"h fz_03\">소고기 육개장</h4>,\n",
       " <h4 class=\"h fz_03\">묵은지 김치찌개</h4>,\n",
       " <h4 class=\"h fz_03\">치킨스테이크 덮밥</h4>,\n",
       " <h4 class=\"h fz_03\">고추장숯불삼겹덮밥</h4>,\n",
       " <h4 class=\"h fz_03\">숯불직화구이 덮밥</h4>,\n",
       " <h4 class=\"h fz_03\">왕카레돈까스덮밥</h4>,\n",
       " <h4 class=\"h fz_03\">새우돈까스 덮밥</h4>,\n",
       " <h4 class=\"h fz_03\">돈까스 덮밥</h4>,\n",
       " <h4 class=\"h fz_03\">소불고기 감초고추장 비빔밥</h4>,\n",
       " <h4 class=\"h fz_03\">시골제육 두부강된장 비빔밥</h4>,\n",
       " <h4 class=\"h fz_03\">참치야채 감초고추장</h4>,\n",
       " <h4 class=\"h fz_03\">튼튼도시락</h4>,\n",
       " <h4 class=\"h fz_03\">반찬 계란말이</h4>,\n",
       " <h4 class=\"h fz_03\">반찬 치즈계란말이</h4>,\n",
       " <h4 class=\"h fz_03\">반찬 묵은지김치찌개</h4>,\n",
       " <h4 class=\"h fz_03\">반찬 소고기육개장</h4>,\n",
       " <h4 class=\"h fz_03\">반찬 카레</h4>,\n",
       " <h4 class=\"h fz_03\">반찬 소불고기</h4>,\n",
       " <h4 class=\"h fz_03\">반찬 순살 고등어데리야끼</h4>,\n",
       " <h4 class=\"h fz_03\">반찬 치킨</h4>,\n",
       " <h4 class=\"h fz_03\">반찬 고기고기</h4>,\n",
       " <h4 class=\"h fz_03\">반찬 돈까스 도련님</h4>,\n",
       " <h4 class=\"h fz_03\">반찬 제육볶음</h4>,\n",
       " <h4 class=\"h fz_03\">반찬 돈까스</h4>,\n",
       " <h4 class=\"h fz_03\">고메이 크림 고로케</h4>,\n",
       " <h4 class=\"h fz_03\">리얼꿀 미니호떡</h4>,\n",
       " <h4 class=\"h fz_03\">아이스 애플망고</h4>,\n",
       " <h4 class=\"h fz_03\">바삭 군만두</h4>,\n",
       " <h4 class=\"h fz_03\">미니 찹쌀핫도그</h4>,\n",
       " <h4 class=\"h fz_03\">미니 찹쌀탕수육</h4>,\n",
       " <h4 class=\"h fz_03\">감자고로케</h4>,\n",
       " <h4 class=\"h fz_03\">케이준후라이</h4>,\n",
       " <h4 class=\"h fz_03\">찹쌀탕수육박스(대)</h4>,\n",
       " <h4 class=\"h fz_03\">찹쌀탕수육박스(중)</h4>,\n",
       " <h4 class=\"h fz_03\">오리지널 닭강정(중)</h4>,\n",
       " <h4 class=\"h fz_03\">오리지널 닭강정(소)</h4>,\n",
       " <h4 class=\"h fz_03\">치킨 BOX(대) </h4>,\n",
       " <h4 class=\"h fz_03\">치킨BOX(중)_양식소스</h4>,\n",
       " <h4 class=\"h fz_03\">치킨BOX(중)_타르타르소스</h4>,\n",
       " <h4 class=\"h fz_03\">오징어젓갈</h4>,\n",
       " <h4 class=\"h fz_03\">오이지무침</h4>,\n",
       " <h4 class=\"h fz_03\">한솥 두부강된장소스</h4>,\n",
       " <h4 class=\"h fz_03\">한솥 감초볶음고추장소스</h4>,\n",
       " <h4 class=\"h fz_03\">볶음김치</h4>,\n",
       " <h4 class=\"h fz_03\">김치</h4>,\n",
       " <h4 class=\"h fz_03\">무말랭이 무침</h4>,\n",
       " <h4 class=\"h fz_03\">한솥밥</h4>,\n",
       " <h4 class=\"h fz_03\">현미밥</h4>]"
      ]
     },
     "execution_count": 65,
     "metadata": {},
     "output_type": "execute_result"
    }
   ],
   "source": [
    "name"
   ]
  },
  {
   "cell_type": "code",
   "execution_count": 69,
   "metadata": {},
   "outputs": [
    {
     "name": "stdout",
     "output_type": "stream",
     "text": [
      "치킨스테이크 스페셜\n",
      "매화(치킨, 연어구이)\n",
      "매화(순살 고등어 간장구이)\n",
      "진달래\n",
      "개나리(순살 고등어 간장구이)\n",
      "돈까스도련님고기고기\n",
      "탕수육도련님고기고기\n",
      "새치 고기고기\n",
      "돈치 고기고기\n",
      "고기고기\n",
      "돈치스팸 도시락\n",
      "숯불직화구이\n",
      "소불고기\n",
      "메가치킨제육\n",
      "칠리 찹쌀탕수육도련님\n",
      "동백\n",
      "치킨제육\n",
      "돈까스도련님\n",
      "제육볶음\n",
      "빅치킨마요 김치찌개 정식\n",
      "치킨마요 김치찌개 정식\n",
      "돈치스팸 김치찌개 정식\n",
      "고추장숯불삼겹정식\n",
      "숯불삼겹정식\n",
      "제육 김치찌개 정식\n",
      "메가 스리라차 참치마요\n",
      "스리라차 참치마요\n",
      "메가 스리라차 치킨마요\n",
      "스리라차 치킨마요\n",
      "메가스팸마요\n",
      "스팸마요\n",
      "메가불닭치킨마요\n",
      "불닭치킨마요\n",
      "메가치킨마요\n",
      "왕치킨마요\n",
      "빅치킨마요\n",
      "치킨마요\n",
      "참치마요\n",
      "돈치마요\n",
      "치즈 카레도시락\n",
      "돈까스 카레\n",
      "3종치즈 김치볶음밥\n",
      "스팸 김치볶음밥\n",
      "김치볶음밥\n",
      "스팸철판볶음밥\n",
      "소불고기 철판볶음밥\n",
      "소고기 육개장\n",
      "묵은지 김치찌개\n",
      "치킨스테이크 덮밥\n",
      "고추장숯불삼겹덮밥\n",
      "숯불직화구이 덮밥\n",
      "왕카레돈까스덮밥\n",
      "새우돈까스 덮밥\n",
      "돈까스 덮밥\n",
      "소불고기 감초고추장 비빔밥\n",
      "시골제육 두부강된장 비빔밥\n",
      "참치야채 감초고추장\n",
      "튼튼도시락\n",
      "반찬 계란말이\n",
      "반찬 치즈계란말이\n",
      "반찬 묵은지김치찌개\n",
      "반찬 소고기육개장\n",
      "반찬 카레\n",
      "반찬 소불고기\n",
      "반찬 순살 고등어데리야끼\n",
      "반찬 치킨\n",
      "반찬 고기고기\n",
      "반찬 돈까스 도련님\n",
      "반찬 제육볶음\n",
      "반찬 돈까스\n",
      "고메이 크림 고로케\n",
      "리얼꿀 미니호떡\n",
      "아이스 애플망고\n",
      "바삭 군만두\n",
      "미니 찹쌀핫도그\n",
      "미니 찹쌀탕수육\n",
      "감자고로케\n",
      "케이준후라이\n",
      "찹쌀탕수육박스(대)\n",
      "찹쌀탕수육박스(중)\n",
      "오리지널 닭강정(중)\n",
      "오리지널 닭강정(소)\n",
      "치킨 BOX(대) \n",
      "치킨BOX(중)_양식소스\n",
      "치킨BOX(중)_타르타르소스\n",
      "오징어젓갈\n",
      "오이지무침\n",
      "한솥 두부강된장소스\n",
      "한솥 감초볶음고추장소스\n",
      "볶음김치\n",
      "김치\n",
      "무말랭이 무침\n",
      "한솥밥\n",
      "현미밥\n"
     ]
    }
   ],
   "source": [
    "for i in range(len(name)):\n",
    "    print (name[i].text)"
   ]
  },
  {
   "cell_type": "code",
   "execution_count": 67,
   "metadata": {},
   "outputs": [],
   "source": [
    "price = soup.select('.item-price')"
   ]
  },
  {
   "cell_type": "code",
   "execution_count": 68,
   "metadata": {},
   "outputs": [
    {
     "data": {
      "text/plain": [
       "[<div class=\"item-price\"> <span class=\"blind\">가격: </span><strong>10,000</strong>원                    </div>,\n",
       " <div class=\"item-price\"> <span class=\"blind\">가격: </span><strong>10,000</strong>원                    </div>,\n",
       " <div class=\"item-price\"> <span class=\"blind\">가격: </span><strong>10,000</strong>원                    </div>,\n",
       " <div class=\"item-price\"> <span class=\"blind\">가격: </span><strong>7,000</strong>원                    </div>,\n",
       " <div class=\"item-price\"> <span class=\"blind\">가격: </span><strong>8,000</strong>원                    </div>,\n",
       " <div class=\"item-price\"> <span class=\"blind\">가격: </span><strong>5,600</strong>원                    </div>,\n",
       " <div class=\"item-price\"> <span class=\"blind\">가격: </span><strong>5,600</strong>원                    </div>,\n",
       " <div class=\"item-price\"> <span class=\"blind\">가격: </span><strong>6,000</strong>원                    </div>,\n",
       " <div class=\"item-price\"> <span class=\"blind\">가격: </span><strong>5,300</strong>원                    </div>,\n",
       " <div class=\"item-price\"> <span class=\"blind\">가격: </span><strong>4,000</strong>원                    </div>,\n",
       " <div class=\"item-price\"> <span class=\"blind\">가격: </span><strong>4,600</strong>원                    </div>,\n",
       " <div class=\"item-price\"> <span class=\"blind\">가격: </span><strong>6,500</strong>원                    </div>,\n",
       " <div class=\"item-price\"> <span class=\"blind\">가격: </span><strong>5,000</strong>원                    </div>,\n",
       " <div class=\"item-price\"> <span class=\"blind\">가격: </span><strong>6,900</strong>원                    </div>,\n",
       " <div class=\"item-price\"> <span class=\"blind\">가격: </span><strong>4,000</strong>원                    </div>,\n",
       " <div class=\"item-price\"> <span class=\"blind\">가격: </span><strong>5,000</strong>원                    </div>,\n",
       " <div class=\"item-price\"> <span class=\"blind\">가격: </span><strong>4,400</strong>원                    </div>,\n",
       " <div class=\"item-price\"> <span class=\"blind\">가격: </span><strong>4,000</strong>원                    </div>,\n",
       " <div class=\"item-price\"> <span class=\"blind\">가격: </span><strong>3,900</strong>원                    </div>,\n",
       " <div class=\"item-price\"> <span class=\"blind\">가격: </span><strong>6,900</strong>원                    </div>,\n",
       " <div class=\"item-price\"> <span class=\"blind\">가격: </span><strong>6,300</strong>원                    </div>,\n",
       " <div class=\"item-price\"> <span class=\"blind\">가격: </span><strong>8,000</strong>원                    </div>,\n",
       " <div class=\"item-price\"> <span class=\"blind\">가격: </span><strong>9,000</strong>원                    </div>,\n",
       " <div class=\"item-price\"> <span class=\"blind\">가격: </span><strong>8,500</strong>원                    </div>,\n",
       " <div class=\"item-price\"> <span class=\"blind\">가격: </span><strong>8,000</strong>원                    </div>,\n",
       " <div class=\"item-price\"> <span class=\"blind\">가격: </span><strong>5,700</strong>원                    </div>,\n",
       " <div class=\"item-price\"> <span class=\"blind\">가격: </span><strong>3,400</strong>원                    </div>,\n",
       " <div class=\"item-price\"> <span class=\"blind\">가격: </span><strong>5,700</strong>원                    </div>,\n",
       " <div class=\"item-price\"> <span class=\"blind\">가격: </span><strong>3,400</strong>원                    </div>,\n",
       " <div class=\"item-price\"> <span class=\"blind\">가격: </span><strong>5,500</strong>원                    </div>,\n",
       " <div class=\"item-price\"> <span class=\"blind\">가격: </span><strong>3,500</strong>원                    </div>,\n",
       " <div class=\"item-price\"> <span class=\"blind\">가격: </span><strong>6,400</strong>원                    </div>,\n",
       " <div class=\"item-price\"> <span class=\"blind\">가격: </span><strong>3,500</strong>원                    </div>,\n",
       " <div class=\"item-price\"> <span class=\"blind\">가격: </span><strong>5,200</strong>원                    </div>,\n",
       " <div class=\"item-price\"> <span class=\"blind\">가격: </span><strong>4,200</strong>원                    </div>,\n",
       " <div class=\"item-price\"> <span class=\"blind\">가격: </span><strong>3,500</strong>원                    </div>,\n",
       " <div class=\"item-price\"> <span class=\"blind\">가격: </span><strong>2,900</strong>원                    </div>,\n",
       " <div class=\"item-price\"> <span class=\"blind\">가격: </span><strong>2,900</strong>원                    </div>,\n",
       " <div class=\"item-price\"> <span class=\"blind\">가격: </span><strong>3,500</strong>원                    </div>,\n",
       " <div class=\"item-price\"> <span class=\"blind\">가격: </span><strong>4,100</strong>원                    </div>,\n",
       " <div class=\"item-price\"> <span class=\"blind\">가격: </span><strong>4,100</strong>원                    </div>,\n",
       " <div class=\"item-price\"> <span class=\"blind\">가격: </span><strong>4,700</strong>원                    </div>,\n",
       " <div class=\"item-price\"> <span class=\"blind\">가격: </span><strong>4,500</strong>원                    </div>,\n",
       " <div class=\"item-price\"> <span class=\"blind\">가격: </span><strong>3,700</strong>원                    </div>,\n",
       " <div class=\"item-price\"> <span class=\"blind\">가격: </span><strong>4,500</strong>원                    </div>,\n",
       " <div class=\"item-price\"> <span class=\"blind\">가격: </span><strong>4,500</strong>원                    </div>,\n",
       " <div class=\"item-price\"> <span class=\"blind\">가격: </span><strong>4,500</strong>원                    </div>,\n",
       " <div class=\"item-price\"> <span class=\"blind\">가격: </span><strong>4,300</strong>원                    </div>,\n",
       " <div class=\"item-price\"> <span class=\"blind\">가격: </span><strong>5,700</strong>원                    </div>,\n",
       " <div class=\"item-price\"> <span class=\"blind\">가격: </span><strong>6,500</strong>원                    </div>,\n",
       " <div class=\"item-price\"> <span class=\"blind\">가격: </span><strong>5,700</strong>원                    </div>,\n",
       " <div class=\"item-price\"> <span class=\"blind\">가격: </span><strong>5,600</strong>원                    </div>,\n",
       " <div class=\"item-price\"> <span class=\"blind\">가격: </span><strong>3,900</strong>원                    </div>,\n",
       " <div class=\"item-price\"> <span class=\"blind\">가격: </span><strong>3,600</strong>원                    </div>,\n",
       " <div class=\"item-price\"> <span class=\"blind\">가격: </span><strong>4,800</strong>원                    </div>,\n",
       " <div class=\"item-price\"> <span class=\"blind\">가격: </span><strong>4,800</strong>원                    </div>,\n",
       " <div class=\"item-price\"> <span class=\"blind\">가격: </span><strong>3,200</strong>원                    </div>,\n",
       " <div class=\"item-price\"> <span class=\"blind\">가격: </span><strong>5,000</strong>원                    </div>,\n",
       " <div class=\"item-price\"> <span class=\"blind\">가격: </span><strong>2,200</strong>원                    </div>,\n",
       " <div class=\"item-price\"> <span class=\"blind\">가격: </span><strong>2,800</strong>원                    </div>,\n",
       " <div class=\"item-price\"> <span class=\"blind\">가격: </span><strong>3,900</strong>원                    </div>,\n",
       " <div class=\"item-price\"> <span class=\"blind\">가격: </span><strong>4,100</strong>원                    </div>,\n",
       " <div class=\"item-price\"> <span class=\"blind\">가격: </span><strong>2,600</strong>원                    </div>,\n",
       " <div class=\"item-price\"> <span class=\"blind\">가격: </span><strong>3,900</strong>원                    </div>,\n",
       " <div class=\"item-price\"> <span class=\"blind\">가격: </span><strong>3,400</strong>원                    </div>,\n",
       " <div class=\"item-price\"> <span class=\"blind\">가격: </span><strong>3,300</strong>원                    </div>,\n",
       " <div class=\"item-price\"> <span class=\"blind\">가격: </span><strong>3,200</strong>원                    </div>,\n",
       " <div class=\"item-price\"> <span class=\"blind\">가격: </span><strong>3,300</strong>원                    </div>,\n",
       " <div class=\"item-price\"> <span class=\"blind\">가격: </span><strong>3,100</strong>원                    </div>,\n",
       " <div class=\"item-price\"> <span class=\"blind\">가격: </span><strong>2,600</strong>원                    </div>,\n",
       " <div class=\"item-price\"> <span class=\"blind\">가격: </span><strong>3,500</strong>원                    </div>,\n",
       " <div class=\"item-price\"> <span class=\"blind\">가격: </span><strong>2,200</strong>원                    </div>,\n",
       " <div class=\"item-price\"> <span class=\"blind\">가격: </span><strong>1,500</strong>원                    </div>,\n",
       " <div class=\"item-price\"> <span class=\"blind\">가격: </span><strong>2,000</strong>원                    </div>,\n",
       " <div class=\"item-price\"> <span class=\"blind\">가격: </span><strong>2,500</strong>원                    </div>,\n",
       " <div class=\"item-price\"> <span class=\"blind\">가격: </span><strong>2,000</strong>원                    </div>,\n",
       " <div class=\"item-price\"> <span class=\"blind\">가격: </span><strong>2,000</strong>원                    </div>,\n",
       " <div class=\"item-price\"> <span class=\"blind\">가격: </span><strong>1,500</strong>원                    </div>,\n",
       " <div class=\"item-price\"> <span class=\"blind\">가격: </span><strong>10,000</strong>원                    </div>,\n",
       " <div class=\"item-price\"> <span class=\"blind\">가격: </span><strong>5,000</strong>원                    </div>,\n",
       " <div class=\"item-price\"> <span class=\"blind\">가격: </span><strong>7,500</strong>원                    </div>,\n",
       " <div class=\"item-price\"> <span class=\"blind\">가격: </span><strong>2,800</strong>원                    </div>,\n",
       " <div class=\"item-price\"> <span class=\"blind\">가격: </span><strong>10,000</strong>원                    </div>,\n",
       " <div class=\"item-price\"> <span class=\"blind\">가격: </span><strong>5,000</strong>원                    </div>,\n",
       " <div class=\"item-price\"> <span class=\"blind\">가격: </span><strong>5,000</strong>원                    </div>,\n",
       " <div class=\"item-price\"> <span class=\"blind\">가격: </span><strong>400</strong>원                    </div>,\n",
       " <div class=\"item-price\"> <span class=\"blind\">가격: </span><strong>700</strong>원                    </div>,\n",
       " <div class=\"item-price\"> <span class=\"blind\">가격: </span><strong>1,800</strong>원                    </div>,\n",
       " <div class=\"item-price\"> <span class=\"blind\">가격: </span><strong>500</strong>원                    </div>,\n",
       " <div class=\"item-price\"> <span class=\"blind\">가격: </span><strong>400</strong>원                    </div>,\n",
       " <div class=\"item-price\"> <span class=\"blind\">가격: </span><strong>300</strong>원                    </div>,\n",
       " <div class=\"item-price\"> <span class=\"blind\">가격: </span><strong>300</strong>원                    </div>,\n",
       " <div class=\"item-price\"> <span class=\"blind\">가격: </span><strong>1,000</strong>원                    </div>,\n",
       " <div class=\"item-price\"> <span class=\"blind\">가격: </span><strong>1,700</strong>원                    </div>]"
      ]
     },
     "execution_count": 68,
     "metadata": {},
     "output_type": "execute_result"
    }
   ],
   "source": [
    "price"
   ]
  },
  {
   "cell_type": "code",
   "execution_count": 71,
   "metadata": {},
   "outputs": [
    {
     "name": "stdout",
     "output_type": "stream",
     "text": [
      " 가격: 10,000원                    \n",
      " 가격: 10,000원                    \n",
      " 가격: 10,000원                    \n",
      " 가격: 7,000원                    \n",
      " 가격: 8,000원                    \n",
      " 가격: 5,600원                    \n",
      " 가격: 5,600원                    \n",
      " 가격: 6,000원                    \n",
      " 가격: 5,300원                    \n",
      " 가격: 4,000원                    \n",
      " 가격: 4,600원                    \n",
      " 가격: 6,500원                    \n",
      " 가격: 5,000원                    \n",
      " 가격: 6,900원                    \n",
      " 가격: 4,000원                    \n",
      " 가격: 5,000원                    \n",
      " 가격: 4,400원                    \n",
      " 가격: 4,000원                    \n",
      " 가격: 3,900원                    \n",
      " 가격: 6,900원                    \n",
      " 가격: 6,300원                    \n",
      " 가격: 8,000원                    \n",
      " 가격: 9,000원                    \n",
      " 가격: 8,500원                    \n",
      " 가격: 8,000원                    \n",
      " 가격: 5,700원                    \n",
      " 가격: 3,400원                    \n",
      " 가격: 5,700원                    \n",
      " 가격: 3,400원                    \n",
      " 가격: 5,500원                    \n",
      " 가격: 3,500원                    \n",
      " 가격: 6,400원                    \n",
      " 가격: 3,500원                    \n",
      " 가격: 5,200원                    \n",
      " 가격: 4,200원                    \n",
      " 가격: 3,500원                    \n",
      " 가격: 2,900원                    \n",
      " 가격: 2,900원                    \n",
      " 가격: 3,500원                    \n",
      " 가격: 4,100원                    \n",
      " 가격: 4,100원                    \n",
      " 가격: 4,700원                    \n",
      " 가격: 4,500원                    \n",
      " 가격: 3,700원                    \n",
      " 가격: 4,500원                    \n",
      " 가격: 4,500원                    \n",
      " 가격: 4,500원                    \n",
      " 가격: 4,300원                    \n",
      " 가격: 5,700원                    \n",
      " 가격: 6,500원                    \n",
      " 가격: 5,700원                    \n",
      " 가격: 5,600원                    \n",
      " 가격: 3,900원                    \n",
      " 가격: 3,600원                    \n",
      " 가격: 4,800원                    \n",
      " 가격: 4,800원                    \n",
      " 가격: 3,200원                    \n",
      " 가격: 5,000원                    \n",
      " 가격: 2,200원                    \n",
      " 가격: 2,800원                    \n",
      " 가격: 3,900원                    \n",
      " 가격: 4,100원                    \n",
      " 가격: 2,600원                    \n",
      " 가격: 3,900원                    \n",
      " 가격: 3,400원                    \n",
      " 가격: 3,300원                    \n",
      " 가격: 3,200원                    \n",
      " 가격: 3,300원                    \n",
      " 가격: 3,100원                    \n",
      " 가격: 2,600원                    \n",
      " 가격: 3,500원                    \n",
      " 가격: 2,200원                    \n",
      " 가격: 1,500원                    \n",
      " 가격: 2,000원                    \n",
      " 가격: 2,500원                    \n",
      " 가격: 2,000원                    \n",
      " 가격: 2,000원                    \n",
      " 가격: 1,500원                    \n",
      " 가격: 10,000원                    \n",
      " 가격: 5,000원                    \n",
      " 가격: 7,500원                    \n",
      " 가격: 2,800원                    \n",
      " 가격: 10,000원                    \n",
      " 가격: 5,000원                    \n",
      " 가격: 5,000원                    \n",
      " 가격: 400원                    \n",
      " 가격: 700원                    \n",
      " 가격: 1,800원                    \n",
      " 가격: 500원                    \n",
      " 가격: 400원                    \n",
      " 가격: 300원                    \n",
      " 가격: 300원                    \n",
      " 가격: 1,000원                    \n",
      " 가격: 1,700원                    \n"
     ]
    }
   ],
   "source": [
    "for i in range(len(price)):\n",
    "    print (price[i].text)"
   ]
  },
  {
   "cell_type": "markdown",
   "metadata": {},
   "source": [
    "## 더보기 버튼 제어"
   ]
  },
  {
   "cell_type": "code",
   "execution_count": 79,
   "metadata": {},
   "outputs": [
    {
     "name": "stdout",
     "output_type": "stream",
     "text": [
      "버튼이 없습니다.\n"
     ]
    }
   ],
   "source": [
    "try:\n",
    "    for i in range(6):\n",
    "        btn_more = driver.find_element_by_class_name('c_05') #더보기 찾기\n",
    "        btn_more.click() # 더보기 버튼 클릭\n",
    "        time.sleep(1) #1초 기다리겠다.\n",
    "\n",
    "except:\n",
    "    print(\"버튼이 없습니다.\")"
   ]
  },
  {
   "cell_type": "code",
   "execution_count": 80,
   "metadata": {},
   "outputs": [],
   "source": [
    "soup = bs(driver.page_source,'lxml')\n",
    "\n",
    "name=soup.select('h4.fz_03')\n",
    "\n",
    "price = soup.select('div.item-price > strong')"
   ]
  },
  {
   "cell_type": "code",
   "execution_count": 75,
   "metadata": {},
   "outputs": [],
   "source": [
    "import time "
   ]
  },
  {
   "cell_type": "code",
   "execution_count": 82,
   "metadata": {},
   "outputs": [
    {
     "data": {
      "text/plain": [
       "94"
      ]
     },
     "execution_count": 82,
     "metadata": {},
     "output_type": "execute_result"
    }
   ],
   "source": [
    "len(name)"
   ]
  },
  {
   "cell_type": "code",
   "execution_count": 83,
   "metadata": {},
   "outputs": [],
   "source": [
    "name_list =[] \n",
    "price_list =[]\n",
    "choice_list =[]"
   ]
  },
  {
   "cell_type": "code",
   "execution_count": 86,
   "metadata": {},
   "outputs": [],
   "source": [
    "for i in range(len(name)):\n",
    "    name_list.append(name[i].text.strip())\n",
    "    price_list.append(price[i].text.strip())\n",
    "    choice_list.append(i+1)"
   ]
  },
  {
   "cell_type": "code",
   "execution_count": 88,
   "metadata": {},
   "outputs": [
    {
     "name": "stdout",
     "output_type": "stream",
     "text": [
      "94\n",
      "94\n",
      "94\n"
     ]
    }
   ],
   "source": [
    "print(len(name_list))\n",
    "print(len(price_list))\n",
    "print(len(choice_list))"
   ]
  },
  {
   "cell_type": "code",
   "execution_count": 106,
   "metadata": {},
   "outputs": [],
   "source": [
    "dic = {\"메뉴\": name_list, \"가격\": price_list}"
   ]
  },
  {
   "cell_type": "code",
   "execution_count": 110,
   "metadata": {},
   "outputs": [],
   "source": [
    "hansot = pd. DataFrame(dic, index = choice_list)"
   ]
  },
  {
   "cell_type": "code",
   "execution_count": 111,
   "metadata": {},
   "outputs": [
    {
     "data": {
      "text/html": [
       "<div>\n",
       "<style scoped>\n",
       "    .dataframe tbody tr th:only-of-type {\n",
       "        vertical-align: middle;\n",
       "    }\n",
       "\n",
       "    .dataframe tbody tr th {\n",
       "        vertical-align: top;\n",
       "    }\n",
       "\n",
       "    .dataframe thead th {\n",
       "        text-align: right;\n",
       "    }\n",
       "</style>\n",
       "<table border=\"1\" class=\"dataframe\">\n",
       "  <thead>\n",
       "    <tr style=\"text-align: right;\">\n",
       "      <th></th>\n",
       "      <th>메뉴</th>\n",
       "      <th>가격</th>\n",
       "    </tr>\n",
       "  </thead>\n",
       "  <tbody>\n",
       "    <tr>\n",
       "      <th>1</th>\n",
       "      <td>고메이 크림 고로케</td>\n",
       "      <td>3,500</td>\n",
       "    </tr>\n",
       "    <tr>\n",
       "      <th>2</th>\n",
       "      <td>치킨스테이크 덮밥</td>\n",
       "      <td>5,700</td>\n",
       "    </tr>\n",
       "    <tr>\n",
       "      <th>3</th>\n",
       "      <td>빅치킨마요 김치찌개 정식</td>\n",
       "      <td>6,900</td>\n",
       "    </tr>\n",
       "    <tr>\n",
       "      <th>4</th>\n",
       "      <td>치킨마요 김치찌개 정식</td>\n",
       "      <td>6,300</td>\n",
       "    </tr>\n",
       "    <tr>\n",
       "      <th>5</th>\n",
       "      <td>돈치스팸 김치찌개 정식</td>\n",
       "      <td>8,000</td>\n",
       "    </tr>\n",
       "    <tr>\n",
       "      <th>...</th>\n",
       "      <td>...</td>\n",
       "      <td>...</td>\n",
       "    </tr>\n",
       "    <tr>\n",
       "      <th>90</th>\n",
       "      <td>볶음김치</td>\n",
       "      <td>400</td>\n",
       "    </tr>\n",
       "    <tr>\n",
       "      <th>91</th>\n",
       "      <td>김치</td>\n",
       "      <td>300</td>\n",
       "    </tr>\n",
       "    <tr>\n",
       "      <th>92</th>\n",
       "      <td>무말랭이 무침</td>\n",
       "      <td>300</td>\n",
       "    </tr>\n",
       "    <tr>\n",
       "      <th>93</th>\n",
       "      <td>한솥밥</td>\n",
       "      <td>1,000</td>\n",
       "    </tr>\n",
       "    <tr>\n",
       "      <th>94</th>\n",
       "      <td>현미밥</td>\n",
       "      <td>1,700</td>\n",
       "    </tr>\n",
       "  </tbody>\n",
       "</table>\n",
       "<p>94 rows × 2 columns</p>\n",
       "</div>"
      ],
      "text/plain": [
       "               메뉴     가격\n",
       "1      고메이 크림 고로케  3,500\n",
       "2       치킨스테이크 덮밥  5,700\n",
       "3   빅치킨마요 김치찌개 정식  6,900\n",
       "4    치킨마요 김치찌개 정식  6,300\n",
       "5    돈치스팸 김치찌개 정식  8,000\n",
       "..            ...    ...\n",
       "90           볶음김치    400\n",
       "91             김치    300\n",
       "92        무말랭이 무침    300\n",
       "93            한솥밥  1,000\n",
       "94            현미밥  1,700\n",
       "\n",
       "[94 rows x 2 columns]"
      ]
     },
     "execution_count": 111,
     "metadata": {},
     "output_type": "execute_result"
    }
   ],
   "source": [
    "hansot"
   ]
  },
  {
   "cell_type": "markdown",
   "metadata": {},
   "source": [
    "# 유튜브 크롤링"
   ]
  },
  {
   "cell_type": "code",
   "execution_count": 156,
   "metadata": {},
   "outputs": [],
   "source": [
    "y_url = \"https://www.youtube.com/channel/UCn9mJ4htO64-1osMWYu9k5Q\"\n",
    "driver =wb.Chrome()\n",
    "driver.get(y_url)"
   ]
  },
  {
   "cell_type": "code",
   "execution_count": 157,
   "metadata": {},
   "outputs": [],
   "source": [
    "soup = bs(driver.page_source,'lxml')"
   ]
  },
  {
   "cell_type": "code",
   "execution_count": 158,
   "metadata": {},
   "outputs": [],
   "source": [
    "title = soup.select('a#video-title')"
   ]
  },
  {
   "cell_type": "code",
   "execution_count": 159,
   "metadata": {},
   "outputs": [
    {
     "data": {
      "text/plain": [
       "50"
      ]
     },
     "execution_count": 159,
     "metadata": {},
     "output_type": "execute_result"
    }
   ],
   "source": [
    "len(title)"
   ]
  },
  {
   "cell_type": "markdown",
   "metadata": {},
   "source": [
    "## 페이지 스크롤하기"
   ]
  },
  {
   "cell_type": "code",
   "execution_count": 160,
   "metadata": {},
   "outputs": [],
   "source": [
    "body = driver.find_element_by_tag_name('body')\n",
    "for i in range(10):\n",
    "    body.send_keys(Keys.PAGE_DOWN)\n",
    "    time.sleep(0.5)"
   ]
  },
  {
   "cell_type": "code",
   "execution_count": 161,
   "metadata": {},
   "outputs": [],
   "source": [
    "soup = bs(driver.page_source,'lxml')"
   ]
  },
  {
   "cell_type": "code",
   "execution_count": 162,
   "metadata": {},
   "outputs": [],
   "source": [
    "title = soup.select('a#video-title')"
   ]
  },
  {
   "cell_type": "code",
   "execution_count": 163,
   "metadata": {},
   "outputs": [
    {
     "data": {
      "text/plain": [
       "50"
      ]
     },
     "execution_count": 163,
     "metadata": {},
     "output_type": "execute_result"
    }
   ],
   "source": [
    "len(title)"
   ]
  },
  {
   "cell_type": "code",
   "execution_count": null,
   "metadata": {},
   "outputs": [],
   "source": []
  }
 ],
 "metadata": {
  "kernelspec": {
   "display_name": "Python 3",
   "language": "python",
   "name": "python3"
  },
  "language_info": {
   "codemirror_mode": {
    "name": "ipython",
    "version": 3
   },
   "file_extension": ".py",
   "mimetype": "text/x-python",
   "name": "python",
   "nbconvert_exporter": "python",
   "pygments_lexer": "ipython3",
   "version": "3.8.5"
  },
  "toc": {
   "base_numbering": 1,
   "nav_menu": {},
   "number_sections": true,
   "sideBar": true,
   "skip_h1_title": false,
   "title_cell": "Table of Contents",
   "title_sidebar": "Contents",
   "toc_cell": false,
   "toc_position": {},
   "toc_section_display": true,
   "toc_window_display": false
  }
 },
 "nbformat": 4,
 "nbformat_minor": 4
}
